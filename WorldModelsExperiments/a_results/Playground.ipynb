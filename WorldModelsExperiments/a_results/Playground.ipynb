{
 "cells": [
  {
   "cell_type": "code",
   "execution_count": 1,
   "metadata": {},
   "outputs": [],
   "source": [
    "import numpy as np\n",
    "import os\n",
    "import tensorflow as tf\n",
    "import matplotlib.pyplot as plt\n",
    "from IPython import display\n",
    "import json"
   ]
  },
  {
   "cell_type": "code",
   "execution_count": 2,
   "metadata": {},
   "outputs": [],
   "source": [
    "from pathlib import Path\n",
    "path = str(Path(os.getcwd()).parent)\n",
    "\n",
    "import sys\n",
    "sys.path.insert(0,path)\n",
    "\n",
    "from breakout.vae.vae import ConvVAE\n",
    "\n",
    "import_path = str(Path(os.getcwd()).parent.parent)\n",
    "sys.path.insert(0, import_path)\n",
    "from breakout.model import simulate, make_model"
   ]
  },
  {
   "cell_type": "code",
   "execution_count": 3,
   "metadata": {},
   "outputs": [],
   "source": [
    "obs_path = path + '/breakout/record'\n",
    "LATENT_DIM = 32\n",
    "vae_path = path +'/breakout/tf_vae'\n",
    "rnn_path = path + '/breakout/tf_rnn'\n",
    "trainparam_path = path + '/breakout/tf_vae/vae_train_param.json'\n",
    "batch_size=230"
   ]
  },
  {
   "cell_type": "code",
   "execution_count": 4,
   "metadata": {},
   "outputs": [],
   "source": [
    "def load_raw_data_list(filelist, obs_path):\n",
    "    data_list = []\n",
    "    action_list = []\n",
    "    counter = 0\n",
    "    for i in range(len(filelist)):\n",
    "        filename = filelist[i]\n",
    "        raw_data = np.load(os.path.join(obs_path, filename))\n",
    "        data_list.append(raw_data['obs'])\n",
    "        action_list.append(raw_data['action'])\n",
    "        if ((i+1) % 1000 == 0):\n",
    "            print(\"loading file\", (i+1))\n",
    "    return data_list, action_list"
   ]
  },
  {
   "cell_type": "code",
   "execution_count": 5,
   "metadata": {},
   "outputs": [
    {
     "data": {
      "text/plain": [
       "(1000, 64, 64, 3)"
      ]
     },
     "execution_count": 5,
     "metadata": {},
     "output_type": "execute_result"
    }
   ],
   "source": [
    "filelist = os.listdir(obs_path)\n",
    "dataset, action_dataset = load_raw_data_list(filelist, obs_path)\n",
    "dataset[0].shape"
   ]
  },
  {
   "cell_type": "markdown",
   "metadata": {},
   "source": [
    "# VAE"
   ]
  },
  {
   "cell_type": "code",
   "execution_count": null,
   "metadata": {},
   "outputs": [],
   "source": [
    "vae = ConvVAE(batch_size=batch_size, is_training=False)\n",
    "vae.load_json(os.path.join(vae_path,'vae.json'))"
   ]
  },
  {
   "cell_type": "code",
   "execution_count": null,
   "metadata": {},
   "outputs": [],
   "source": [
    "obs = dataset\n",
    "obs[0].shape\n",
    "import PIL.Image\n",
    "PIL.Image.fromarray(obs[5][100], mode='RGB')\n"
   ]
  },
  {
   "cell_type": "code",
   "execution_count": null,
   "metadata": {},
   "outputs": [],
   "source": [
    "obs1 = np.array(obs[5][100], dtype=np.float32)"
   ]
  },
  {
   "cell_type": "code",
   "execution_count": null,
   "metadata": {},
   "outputs": [],
   "source": [
    "plt.figure(figsize=(10,10))\n",
    "plt.subplot(1,2,1)\n",
    "plt.imshow(np.array(obs1*255., dtype=np.int))\n",
    "plt.subplot(1,2,2)\n",
    "plt.imshow(obs1)"
   ]
  },
  {
   "cell_type": "code",
   "execution_count": null,
   "metadata": {},
   "outputs": [],
   "source": [
    "z = vae.encode(obs[5])\n",
    "z.shape"
   ]
  },
  {
   "cell_type": "code",
   "execution_count": null,
   "metadata": {},
   "outputs": [],
   "source": [
    "z_dec = vae.decode(z)\n",
    "z_dec.shape"
   ]
  },
  {
   "cell_type": "code",
   "execution_count": null,
   "metadata": {},
   "outputs": [],
   "source": []
  },
  {
   "cell_type": "code",
   "execution_count": null,
   "metadata": {},
   "outputs": [],
   "source": [
    "plt.figure(figsize=(10,10))\n",
    "plt.subplot(1,2,1)\n",
    "plt.imshow(z_dec[100])\n",
    "plt.subplot(1,2,2)\n",
    "plt.imshow(np.array(z_dec[100]*255., dtype=np.int))"
   ]
  },
  {
   "cell_type": "markdown",
   "metadata": {},
   "source": [
    "# Record 200225\n",
    "record from server to test if images are still completely black"
   ]
  },
  {
   "cell_type": "code",
   "execution_count": 4,
   "metadata": {},
   "outputs": [],
   "source": [
    "record_path = path + '/breakout/record_200225'\n",
    "batch_size=400"
   ]
  },
  {
   "cell_type": "code",
   "execution_count": 6,
   "metadata": {},
   "outputs": [
    {
     "data": {
      "text/plain": [
       "(400, 64, 64, 3)"
      ]
     },
     "execution_count": 6,
     "metadata": {},
     "output_type": "execute_result"
    }
   ],
   "source": [
    "filelist = os.listdir(record_path)\n",
    "dataset, action_dataset = load_raw_data_list(filelist, record_path)\n",
    "dataset[0].shape"
   ]
  },
  {
   "cell_type": "code",
   "execution_count": 7,
   "metadata": {},
   "outputs": [],
   "source": [
    "dataset = np.array(dataset, dtype=np.float32)"
   ]
  },
  {
   "cell_type": "code",
   "execution_count": 8,
   "metadata": {},
   "outputs": [
    {
     "data": {
      "text/plain": [
       "<matplotlib.image.AxesImage at 0x7f2b46cac630>"
      ]
     },
     "execution_count": 8,
     "metadata": {},
     "output_type": "execute_result"
    },
    {
     "data": {
      "image/png": "[encoded data removed]",
      "text/plain": [
       "<Figure size 432x288 with 1 Axes>"
      ]
     },
     "metadata": {
      "needs_background": "light"
     },
     "output_type": "display_data"
    }
   ],
   "source": [
    "plt.imshow(dataset[5][101])"
   ]
  },
  {
   "cell_type": "markdown",
   "metadata": {},
   "source": [
    "# Record 200226"
   ]
  },
  {
   "cell_type": "code",
   "execution_count": 3,
   "metadata": {},
   "outputs": [],
   "source": [
    "record_path = path + '/breakout/record_200225'\n",
    "batch_size = 400"
   ]
  },
  {
   "cell_type": "markdown",
   "metadata": {},
   "source": [
    "## gif\n",
    "https://imageio.readthedocs.io/en/stable/examples.html"
   ]
  },
  {
   "cell_type": "code",
   "execution_count": null,
   "metadata": {},
   "outputs": [],
   "source": [
    "import imageio\n",
    "import matplotlib.pyplot as plt\n",
    "\n",
    "n = 100\n",
    "gif_path = \"test.gif\"\n",
    "frames_path = \"{i}.jpg\"\n",
    "\n",
    "n = 100\n",
    "plt.figure(figsize=(4,4))\n",
    "for i, x in enumerate(range(n)):\n",
    "    plt.scatter(x/n, x/n)\n",
    "    plt.xlim(0, 1)\n",
    "    plt.ylim(0, 1)\n",
    "    plt.savefig(\"{i}.jpg\".format(i=i))\n",
    "\n",
    "with imageio.get_writer(gif_path, mode='I') as writer:\n",
    "    for i in range(n):\n",
    "        writer.append_data(imageio.imread(frames_path.format(i=i))"
   ]
  },
  {
   "cell_type": "markdown",
   "metadata": {},
   "source": [
    "## Rescale Image back to original size"
   ]
  },
  {
   "cell_type": "code",
   "execution_count": 9,
   "metadata": {},
   "outputs": [
    {
     "data": {
      "text/plain": [
       "(230, 64, 64, 3)"
      ]
     },
     "execution_count": 9,
     "metadata": {},
     "output_type": "execute_result"
    }
   ],
   "source": [
    "dataset[0].shape"
   ]
  },
  {
   "cell_type": "code",
   "execution_count": 13,
   "metadata": {},
   "outputs": [
    {
     "data": {
      "text/plain": [
       "dtype('float16')"
      ]
     },
     "execution_count": 13,
     "metadata": {},
     "output_type": "execute_result"
    }
   ],
   "source": [
    "obs_test = dataset[0][0]\n",
    "obs_test.dtype"
   ]
  },
  {
   "cell_type": "code",
   "execution_count": 14,
   "metadata": {},
   "outputs": [
    {
     "data": {
      "image/png": "[encoded data removed]",
      "text/plain": [
       "<Figure size 1440x720 with 3 Axes>"
      ]
     },
     "metadata": {
      "needs_background": "light"
     },
     "output_type": "display_data"
    }
   ],
   "source": [
    "from PIL import Image\n",
    "img = Image.fromarray((obs_test*255).astype(np.uint8))\n",
    "img1 = img.resize(size=(160,210))\n",
    "img2 = img.resize(size=(160,210), resample=Image.NEAREST)\n",
    "img3 = img.resize(size=(160,210), resample=Image.BILINEAR)\n",
    "\n",
    "plt.figure(figsize=(20,10))\n",
    "plt.subplot(1,3,1)\n",
    "plt.imshow(img1)\n",
    "plt.subplot(1,3,2)\n",
    "plt.imshow(img2)\n",
    "plt.subplot(1,3,3)\n",
    "plt.imshow(img3)\n",
    "plt.show()"
   ]
  },
  {
   "cell_type": "markdown",
   "metadata": {},
   "source": [
    "# Simulate investigation"
   ]
  },
  {
   "cell_type": "code",
   "execution_count": 2,
   "metadata": {},
   "outputs": [],
   "source": [
    "import statistics"
   ]
  },
  {
   "cell_type": "code",
   "execution_count": 5,
   "metadata": {},
   "outputs": [],
   "source": [
    "with open('/home/student/PycharmProjects/worldmodel/WorldModelsExperiments/breakout/action_collection.json') as f:\n",
    "    file = json.load(f)\n"
   ]
  },
  {
   "cell_type": "code",
   "execution_count": 6,
   "metadata": {},
   "outputs": [
    {
     "data": {
      "image/png": "[encoded data removed]",
      "text/plain": [
       "<Figure size 432x288 with 1 Axes>"
      ]
     },
     "metadata": {
      "needs_background": "light"
     },
     "output_type": "display_data"
    },
    {
     "name": "stdout",
     "output_type": "stream",
     "text": [
      "Mean:  1.96\n"
     ]
    }
   ],
   "source": [
    "reward_list = []\n",
    "counter = 0\n",
    "for trial in file:\n",
    "    reward_list.append(file[counter]['rewards'])\n",
    "    counter+=1\n",
    "plt.plot(reward_list)\n",
    "plt.show()\n",
    "print('Mean: ', statistics.mean(reward_list))"
   ]
  },
  {
   "cell_type": "code",
   "execution_count": 9,
   "metadata": {},
   "outputs": [
    {
     "data": {
      "image/png": "[encoded data removed]",
      "text/plain": [
       "<Figure size 432x288 with 1 Axes>"
      ]
     },
     "metadata": {
      "needs_background": "light"
     },
     "output_type": "display_data"
    },
    {
     "name": "stdout",
     "output_type": "stream",
     "text": [
      "Mean:  1.96\n"
     ]
    }
   ],
   "source": [
    "with open('/home/student/PycharmProjects/worldmodel/WorldModelsExperiments/breakout/action_collection_1.json') as f:\n",
    "    file2 = json.load(f)\n",
    "\n",
    "reward_list2 = []\n",
    "counter = 0\n",
    "for trial in file2:\n",
    "    reward_list2.append(file2[counter]['rewards'])\n",
    "    counter+=1\n",
    "plt.plot(reward_list2)\n",
    "plt.show()\n",
    "print('Mean: ', statistics.mean(reward_list2))"
   ]
  },
  {
   "cell_type": "code",
   "execution_count": 24,
   "metadata": {},
   "outputs": [
    {
     "data": {
      "text/plain": [
       "100"
      ]
     },
     "execution_count": 24,
     "metadata": {},
     "output_type": "execute_result"
    }
   ],
   "source": [
    "len(file)"
   ]
  },
  {
   "cell_type": "code",
   "execution_count": 26,
   "metadata": {},
   "outputs": [
    {
     "data": {
      "text/plain": [
       "True"
      ]
     },
     "execution_count": 26,
     "metadata": {},
     "output_type": "execute_result"
    }
   ],
   "source": [
    "action_list_0 = file[0]['actions']\n",
    "action_list_1 = file[51]['actions']\n",
    "action_list_0 == action_list_1"
   ]
  },
  {
   "cell_type": "markdown",
   "metadata": {},
   "source": [
    "### Reward 0"
   ]
  },
  {
   "cell_type": "code",
   "execution_count": 22,
   "metadata": {
    "scrolled": true
   },
   "outputs": [
    {
     "data": {
      "text/plain": [
       "[1,\n",
       " 2,\n",
       " 5,\n",
       " 10,\n",
       " 12,\n",
       " 17,\n",
       " 18,\n",
       " 19,\n",
       " 21,\n",
       " 23,\n",
       " 24,\n",
       " 27,\n",
       " 30,\n",
       " 35,\n",
       " 41,\n",
       " 45,\n",
       " 47,\n",
       " 53,\n",
       " 59,\n",
       " 64,\n",
       " 68,\n",
       " 73,\n",
       " 83,\n",
       " 98]"
      ]
     },
     "execution_count": 22,
     "metadata": {},
     "output_type": "execute_result"
    }
   ],
   "source": [
    "zero_reward = []\n",
    "counter =0\n",
    "for trial in file:\n",
    "    if file[counter]['rewards'] ==0:\n",
    "        zero_reward.append(counter)\n",
    "    counter +=1\n"
   ]
  },
  {
   "cell_type": "code",
   "execution_count": 11,
   "metadata": {},
   "outputs": [
    {
     "data": {
      "text/plain": [
       "{0, 1, 2, 3}"
      ]
     },
     "execution_count": 11,
     "metadata": {},
     "output_type": "execute_result"
    }
   ],
   "source": [
    "set(file[1]['actions'])"
   ]
  },
  {
   "cell_type": "code",
   "execution_count": 12,
   "metadata": {},
   "outputs": [
    {
     "data": {
      "text/plain": [
       "145"
      ]
     },
     "execution_count": 12,
     "metadata": {},
     "output_type": "execute_result"
    }
   ],
   "source": [
    "file[1]['actions'].count(1)"
   ]
  },
  {
   "cell_type": "code",
   "execution_count": 14,
   "metadata": {},
   "outputs": [
    {
     "data": {
      "text/plain": [
       "214"
      ]
     },
     "execution_count": 14,
     "metadata": {},
     "output_type": "execute_result"
    }
   ],
   "source": [
    "file[51]['actions'].count(3)"
   ]
  },
  {
   "cell_type": "code",
   "execution_count": 10,
   "metadata": {},
   "outputs": [
    {
     "name": "stdout",
     "output_type": "stream",
     "text": [
      "Trial  1\n",
      "[55, 145, 276, 23]\n",
      "1\n",
      "Trial  2\n",
      "[42, 121, 306, 22]\n",
      "2\n",
      "Trial  5\n",
      "[81, 108, 264, 91]\n",
      "3\n",
      "Trial  10\n",
      "[55, 148, 293, 15]\n",
      "4\n",
      "Trial  12\n",
      "[51, 135, 290, 16]\n",
      "5\n",
      "Trial  17\n",
      "[51, 143, 294, 15]\n",
      "6\n",
      "Trial  18\n",
      "[72, 129, 287, 15]\n",
      "7\n",
      "Trial  19\n",
      "[59, 137, 289, 20]\n",
      "8\n",
      "Trial  21\n",
      "[55, 129, 302, 19]\n",
      "9\n"
     ]
    },
    {
     "data": {
      "image/png": "[encoded data removed]",
      "text/plain": [
       "<Figure size 1152x576 with 9 Axes>"
      ]
     },
     "metadata": {
      "needs_background": "light"
     },
     "output_type": "display_data"
    }
   ],
   "source": [
    "zero_reward_snap = zero_reward[:9]\n",
    "\n",
    "counter = 1\n",
    "plt.figure(figsize=(16,8))\n",
    "for trial in zero_reward_snap:\n",
    "    print('Trial ', trial)\n",
    "    action_set = set(file[trial]['actions'])\n",
    "    actions_counted = []\n",
    "    for elem in action_set:\n",
    "        actions_counted.append(file[trial]['actions'].count(elem))\n",
    "        \n",
    "    plt.subplot(3,3, counter)\n",
    "    plt.bar(list(action_set), actions_counted)\n",
    "    print(actions_counted)\n",
    "    print(counter)\n",
    "    counter += 1\n",
    "    \n",
    "plt.show()\n"
   ]
  },
  {
   "cell_type": "markdown",
   "metadata": {},
   "source": [
    "### Reward 2"
   ]
  },
  {
   "cell_type": "code",
   "execution_count": 15,
   "metadata": {
    "scrolled": true
   },
   "outputs": [
    {
     "data": {
      "text/plain": [
       "[0,\n",
       " 3,\n",
       " 4,\n",
       " 6,\n",
       " 16,\n",
       " 20,\n",
       " 22,\n",
       " 25,\n",
       " 26,\n",
       " 29,\n",
       " 31,\n",
       " 32,\n",
       " 33,\n",
       " 38,\n",
       " 39,\n",
       " 40,\n",
       " 43,\n",
       " 44,\n",
       " 46,\n",
       " 49,\n",
       " 55,\n",
       " 56,\n",
       " 58,\n",
       " 60,\n",
       " 62,\n",
       " 63,\n",
       " 65,\n",
       " 66,\n",
       " 67,\n",
       " 72,\n",
       " 75,\n",
       " 76,\n",
       " 78,\n",
       " 79,\n",
       " 84,\n",
       " 85,\n",
       " 88,\n",
       " 90,\n",
       " 91,\n",
       " 92,\n",
       " 95,\n",
       " 97]"
      ]
     },
     "execution_count": 15,
     "metadata": {},
     "output_type": "execute_result"
    }
   ],
   "source": [
    "reward_two = []\n",
    "counter =0\n",
    "for trial in file:\n",
    "    if file[counter]['rewards'] ==2:\n",
    "        reward_two.append(counter)\n",
    "    counter +=1\n"
   ]
  },
  {
   "cell_type": "code",
   "execution_count": 17,
   "metadata": {},
   "outputs": [
    {
     "name": "stdout",
     "output_type": "stream",
     "text": [
      "0\n",
      "[85, 304, 332, 75]\n",
      "3\n",
      "[71, 230, 468, 24]\n",
      "4\n",
      "[83, 222, 458, 26]\n",
      "6\n",
      "[99, 222, 413, 79]\n",
      "16\n",
      "[84, 213, 469, 26]\n",
      "20\n",
      "[78, 183, 505, 29]\n",
      "22\n",
      "[70, 222, 468, 33]\n",
      "25\n",
      "[62, 217, 490, 22]\n",
      "26\n",
      "[114, 237, 372, 77]\n"
     ]
    },
    {
     "data": {
      "image/png": "[encoded data removed]",
      "text/plain": [
       "<Figure size 1152x576 with 9 Axes>"
      ]
     },
     "metadata": {
      "needs_background": "light"
     },
     "output_type": "display_data"
    }
   ],
   "source": [
    "reward_two_snap = reward_two[:9]\n",
    "\n",
    "counter = 1\n",
    "plt.figure(figsize=(16,8))\n",
    "for trial in reward_two_snap:\n",
    "    print(trial)\n",
    "    actions_set = set(file[trial]['actions'])\n",
    "    actions_counted = []\n",
    "    for elem in actions_set:\n",
    "        actions_counted.append(file[trial]['actions'].count(elem))\n",
    "        \n",
    "    plt.subplot(3,3, counter)\n",
    "    plt.bar(list(action_set), actions_counted)\n",
    "    print(actions_counted)\n",
    "    \n",
    "    counter += 1\n",
    "    \n",
    "plt.show()"
   ]
  },
  {
   "cell_type": "markdown",
   "metadata": {},
   "source": [
    "# tsne\n",
    "do observations lead to actions ?\n",
    "Does it makes sense? Probably each observations doesn't lead to a single action. but maybe several observations are leading to a single action? How many observations ?\n",
    "Can be helpful in the evaluation process."
   ]
  },
  {
   "cell_type": "code",
   "execution_count": 16,
   "metadata": {},
   "outputs": [],
   "source": [
    "import pandas as pd"
   ]
  },
  {
   "cell_type": "code",
   "execution_count": 4,
   "metadata": {},
   "outputs": [
    {
     "name": "stdout",
     "output_type": "stream",
     "text": [
      "INFO:tensorflow:Model using cpu.\n"
     ]
    }
   ],
   "source": [
    "model = make_model(rnn_path=os.path.join(rnn_path, 'rnn.json'), vae_path=os.path.join(vae_path, 'vae.json'))"
   ]
  },
  {
   "cell_type": "code",
   "execution_count": 5,
   "metadata": {},
   "outputs": [
    {
     "name": "stdout",
     "output_type": "stream",
     "text": [
      "loading file /home/student/PycharmProjects/worldmodel/WorldModelsExperiments/breakout/log/breakout.cma.16.64.best.json\n"
     ]
    }
   ],
   "source": [
    "model.load_model('/home/student/PycharmProjects/worldmodel/WorldModelsExperiments/breakout/log/breakout.cma.16.64.best.json')"
   ]
  },
  {
   "cell_type": "code",
   "execution_count": 11,
   "metadata": {},
   "outputs": [],
   "source": [
    "reward, steps_taken, action_list, obs_list = simulate(model,\n",
    "      train_mode=False, render_mode=False, num_episode=100)"
   ]
  },
  {
   "cell_type": "code",
   "execution_count": 12,
   "metadata": {
    "scrolled": true
   },
   "outputs": [
    {
     "data": {
      "text/plain": [
       "100"
      ]
     },
     "execution_count": 12,
     "metadata": {},
     "output_type": "execute_result"
    }
   ],
   "source": [
    "len(action_list)"
   ]
  },
  {
   "cell_type": "code",
   "execution_count": 10,
   "metadata": {},
   "outputs": [
    {
     "data": {
      "text/plain": [
       "819"
      ]
     },
     "execution_count": 10,
     "metadata": {},
     "output_type": "execute_result"
    }
   ],
   "source": [
    "len(action_list[0])"
   ]
  },
  {
   "cell_type": "code",
   "execution_count": 23,
   "metadata": {},
   "outputs": [
    {
     "data": {
      "text/plain": [
       "2"
      ]
     },
     "execution_count": 23,
     "metadata": {},
     "output_type": "execute_result"
    }
   ],
   "source": [
    "action_list[0][0]"
   ]
  },
  {
   "cell_type": "code",
   "execution_count": null,
   "metadata": {},
   "outputs": [],
   "source": []
  },
  {
   "cell_type": "code",
   "execution_count": 26,
   "metadata": {
    "scrolled": true
   },
   "outputs": [
    {
     "data": {
      "text/plain": [
       "array([[[0, 0, 0],\n",
       "        [0, 0, 0],\n",
       "        [0, 0, 0],\n",
       "        [0, 0, 0],\n",
       "        [0, 0, 0],\n",
       "        [0, 0, 0],\n",
       "        ..., \n",
       "        [0, 0, 0],\n",
       "        [0, 0, 0],\n",
       "        [0, 0, 0],\n",
       "        [0, 0, 0],\n",
       "        [0, 0, 0],\n",
       "        [0, 0, 0]],\n",
       "\n",
       "       [[0, 0, 0],\n",
       "        [0, 0, 0],\n",
       "        [0, 0, 0],\n",
       "        [0, 0, 0],\n",
       "        [0, 0, 0],\n",
       "        [0, 0, 0],\n",
       "        ..., \n",
       "        [0, 0, 0],\n",
       "        [0, 0, 0],\n",
       "        [0, 0, 0],\n",
       "        [0, 0, 0],\n",
       "        [0, 0, 0],\n",
       "        [0, 0, 0]],\n",
       "\n",
       "       [[0, 0, 0],\n",
       "        [0, 0, 0],\n",
       "        [0, 0, 0],\n",
       "        [0, 0, 0],\n",
       "        [0, 0, 0],\n",
       "        [0, 0, 0],\n",
       "        ..., \n",
       "        [0, 0, 0],\n",
       "        [0, 0, 0],\n",
       "        [0, 0, 0],\n",
       "        [0, 0, 0],\n",
       "        [0, 0, 0],\n",
       "        [0, 0, 0]],\n",
       "\n",
       "       [[0, 0, 0],\n",
       "        [0, 0, 0],\n",
       "        [0, 0, 0],\n",
       "        [0, 0, 0],\n",
       "        [0, 0, 0],\n",
       "        [0, 0, 0],\n",
       "        ..., \n",
       "        [0, 0, 0],\n",
       "        [0, 0, 0],\n",
       "        [0, 0, 0],\n",
       "        [0, 0, 0],\n",
       "        [0, 0, 0],\n",
       "        [0, 0, 0]],\n",
       "\n",
       "       [[0, 0, 0],\n",
       "        [0, 0, 0],\n",
       "        [0, 0, 0],\n",
       "        [0, 0, 0],\n",
       "        [0, 0, 0],\n",
       "        [0, 0, 0],\n",
       "        ..., \n",
       "        [0, 0, 0],\n",
       "        [0, 0, 0],\n",
       "        [0, 0, 0],\n",
       "        [0, 0, 0],\n",
       "        [0, 0, 0],\n",
       "        [0, 0, 0]],\n",
       "\n",
       "       [[0, 0, 0],\n",
       "        [0, 0, 0],\n",
       "        [0, 0, 0],\n",
       "        [0, 0, 0],\n",
       "        [0, 0, 0],\n",
       "        [0, 0, 0],\n",
       "        ..., \n",
       "        [0, 0, 0],\n",
       "        [0, 0, 0],\n",
       "        [0, 0, 0],\n",
       "        [0, 0, 0],\n",
       "        [0, 0, 0],\n",
       "        [0, 0, 0]],\n",
       "\n",
       "       ..., \n",
       "       [[0, 0, 0],\n",
       "        [0, 0, 0],\n",
       "        [0, 0, 0],\n",
       "        [0, 0, 0],\n",
       "        [0, 0, 0],\n",
       "        [0, 0, 0],\n",
       "        ..., \n",
       "        [0, 0, 0],\n",
       "        [0, 0, 0],\n",
       "        [0, 0, 0],\n",
       "        [0, 0, 0],\n",
       "        [0, 0, 0],\n",
       "        [0, 0, 0]],\n",
       "\n",
       "       [[0, 0, 0],\n",
       "        [0, 0, 0],\n",
       "        [0, 0, 0],\n",
       "        [0, 0, 0],\n",
       "        [0, 0, 0],\n",
       "        [0, 0, 0],\n",
       "        ..., \n",
       "        [0, 0, 0],\n",
       "        [0, 0, 0],\n",
       "        [0, 0, 0],\n",
       "        [0, 0, 0],\n",
       "        [0, 0, 0],\n",
       "        [0, 0, 0]],\n",
       "\n",
       "       [[0, 0, 0],\n",
       "        [0, 0, 0],\n",
       "        [0, 0, 0],\n",
       "        [0, 0, 0],\n",
       "        [0, 0, 0],\n",
       "        [0, 0, 0],\n",
       "        ..., \n",
       "        [0, 0, 0],\n",
       "        [0, 0, 0],\n",
       "        [0, 0, 0],\n",
       "        [0, 0, 0],\n",
       "        [0, 0, 0],\n",
       "        [0, 0, 0]],\n",
       "\n",
       "       [[0, 0, 0],\n",
       "        [0, 0, 0],\n",
       "        [0, 0, 0],\n",
       "        [0, 0, 0],\n",
       "        [0, 0, 0],\n",
       "        [0, 0, 0],\n",
       "        ..., \n",
       "        [0, 0, 0],\n",
       "        [0, 0, 0],\n",
       "        [0, 0, 0],\n",
       "        [0, 0, 0],\n",
       "        [0, 0, 0],\n",
       "        [0, 0, 0]],\n",
       "\n",
       "       [[0, 0, 0],\n",
       "        [0, 0, 0],\n",
       "        [0, 0, 0],\n",
       "        [0, 0, 0],\n",
       "        [0, 0, 0],\n",
       "        [0, 0, 0],\n",
       "        ..., \n",
       "        [0, 0, 0],\n",
       "        [0, 0, 0],\n",
       "        [0, 0, 0],\n",
       "        [0, 0, 0],\n",
       "        [0, 0, 0],\n",
       "        [0, 0, 0]],\n",
       "\n",
       "       [[0, 0, 0],\n",
       "        [0, 0, 0],\n",
       "        [0, 0, 0],\n",
       "        [0, 0, 0],\n",
       "        [0, 0, 0],\n",
       "        [0, 0, 0],\n",
       "        ..., \n",
       "        [0, 0, 0],\n",
       "        [0, 0, 0],\n",
       "        [0, 0, 0],\n",
       "        [0, 0, 0],\n",
       "        [0, 0, 0],\n",
       "        [0, 0, 0]]], dtype=uint8)"
      ]
     },
     "execution_count": 26,
     "metadata": {},
     "output_type": "execute_result"
    }
   ],
   "source": [
    "obs_list[0][0]"
   ]
  },
  {
   "cell_type": "code",
   "execution_count": 31,
   "metadata": {},
   "outputs": [
    {
     "ename": "IndexError",
     "evalue": "list index out of range",
     "output_type": "error",
     "traceback": [
      "\u001b[0;31m---------------------------------------------------------------------------\u001b[0m",
      "\u001b[0;31mIndexError\u001b[0m                                Traceback (most recent call last)",
      "\u001b[0;32m<ipython-input-31-46c68c484f6c>\u001b[0m in \u001b[0;36m<module>\u001b[0;34m\u001b[0m\n\u001b[1;32m      5\u001b[0m     \u001b[0mcounter_2\u001b[0m \u001b[0;34m=\u001b[0m \u001b[0;36m0\u001b[0m\u001b[0;34m\u001b[0m\u001b[0;34m\u001b[0m\u001b[0m\n\u001b[1;32m      6\u001b[0m     \u001b[0;32mfor\u001b[0m \u001b[0melem\u001b[0m \u001b[0;32min\u001b[0m \u001b[0mtrial\u001b[0m\u001b[0;34m:\u001b[0m\u001b[0;34m\u001b[0m\u001b[0;34m\u001b[0m\u001b[0m\n\u001b[0;32m----> 7\u001b[0;31m         \u001b[0mdata\u001b[0m\u001b[0;34m.\u001b[0m\u001b[0mappend\u001b[0m\u001b[0;34m(\u001b[0m\u001b[0;34m[\u001b[0m\u001b[0mobs_list\u001b[0m\u001b[0;34m[\u001b[0m\u001b[0mcounter_1\u001b[0m\u001b[0;34m]\u001b[0m\u001b[0;34m[\u001b[0m\u001b[0mcounter_2\u001b[0m\u001b[0;34m]\u001b[0m\u001b[0;34m,\u001b[0m \u001b[0melem\u001b[0m\u001b[0;34m]\u001b[0m\u001b[0;34m)\u001b[0m\u001b[0;34m\u001b[0m\u001b[0;34m\u001b[0m\u001b[0m\n\u001b[0m\u001b[1;32m      8\u001b[0m         \u001b[0mcounter_2\u001b[0m \u001b[0;34m+=\u001b[0m\u001b[0;36m1\u001b[0m\u001b[0;34m\u001b[0m\u001b[0;34m\u001b[0m\u001b[0m\n\u001b[1;32m      9\u001b[0m     \u001b[0mcounter_1\u001b[0m \u001b[0;34m=\u001b[0m\u001b[0;34m+\u001b[0m\u001b[0;36m1\u001b[0m\u001b[0;34m\u001b[0m\u001b[0;34m\u001b[0m\u001b[0m\n",
      "\u001b[0;31mIndexError\u001b[0m: list index out of range"
     ]
    }
   ],
   "source": [
    "counter_1 = 0\n",
    "data = pd.DataFrame(columns=['observation', 'action'])\n",
    "for trial in action_list:\n",
    "    counter_2 = 0\n",
    "    for elem in trial:\n",
    "        data.append([obs_list[counter_1][counter_2], elem])\n",
    "        counter_2 +=1\n",
    "    counter_1 =+1\n",
    "data.head()"
   ]
  },
  {
   "cell_type": "markdown",
   "metadata": {},
   "source": [
    "## Display one observation for thesis"
   ]
  },
  {
   "cell_type": "code",
   "execution_count": 7,
   "metadata": {},
   "outputs": [
    {
     "name": "stderr",
     "output_type": "stream",
     "text": [
      "/home/student/PycharmProjects/worldmodel/venv/lib/python3.6/site-packages/gym/envs/registration.py:17: PkgResourcesDeprecationWarning: Parameters to load are deprecated.  Call .resolve and .require separately.\n",
      "  result = entry_point.load(False)\n"
     ]
    }
   ],
   "source": [
    "import gym\n",
    "env = gym.make('Breakout-v0')"
   ]
  },
  {
   "cell_type": "code",
   "execution_count": 41,
   "metadata": {},
   "outputs": [
    {
     "data": {
      "image/png": "[encoded data removed]",
      "text/plain": [
       "<Figure size 432x288 with 1 Axes>"
      ]
     },
     "metadata": {
      "needs_background": "light"
     },
     "output_type": "display_data"
    }
   ],
   "source": [
    "obs = env.reset()\n",
    "for i in range(250):\n",
    "    action = env.action_space.sample()\n",
    "    observation, reward, done, info = env.step(action)\n",
    "plt.imshow(observation)\n",
    "plt.axis('off')\n",
    "plt.show()"
   ]
  },
  {
   "cell_type": "code",
   "execution_count": 40,
   "metadata": {},
   "outputs": [
    {
     "data": {
      "image/png": "[encoded data removed]",
      "text/plain": [
       "<Figure size 432x288 with 1 Axes>"
      ]
     },
     "metadata": {
      "needs_background": "light"
     },
     "output_type": "display_data"
    }
   ],
   "source": [
    "plt.imshow(observation)\n",
    "plt.axis('off')\n",
    "plt.show()\n"
   ]
  },
  {
   "cell_type": "markdown",
   "metadata": {},
   "source": [
    "# Inspect observations in record \"..-version-v3/200321/record\"\n",
    "\n"
   ]
  },
  {
   "cell_type": "code",
   "execution_count": 1,
   "metadata": {},
   "outputs": [],
   "source": [
    "import numpy as np"
   ]
  },
  {
   "cell_type": "code",
   "execution_count": 3,
   "metadata": {},
   "outputs": [],
   "source": [
    "data = np.load('/home/student/Dropbox/MA/worldmodel/worldmodel-breakout-server-version-v3/200321/record/2147335555.npz')['obs']"
   ]
  },
  {
   "cell_type": "code",
   "execution_count": 5,
   "metadata": {},
   "outputs": [
    {
     "data": {
      "text/plain": [
       "(500, 64, 64, 3)"
      ]
     },
     "execution_count": 5,
     "metadata": {},
     "output_type": "execute_result"
    }
   ],
   "source": [
    "data.shape"
   ]
  },
  {
   "cell_type": "code",
   "execution_count": 6,
   "metadata": {},
   "outputs": [],
   "source": [
    "import base64\n",
    "import imageio\n",
    "import IPython\n",
    "from PIL import Image"
   ]
  },
  {
   "cell_type": "code",
   "execution_count": 7,
   "metadata": {},
   "outputs": [],
   "source": [
    "def embed_mp4(filename,video):\n",
    "  \"\"\"Embeds an mp4 file in the notebook.\"\"\"\n",
    "  video = open(filename,'rb').read()\n",
    "  b64 = base64.b64encode(video)\n",
    "  tag = '''\n",
    "  <video width=\"640\" height=\"480\" controls>\n",
    "    <source src=\"data:video/mp4;base64,{0}\" type=\"video/mp4\">\n",
    "  Your browser does not support the video tag.\n",
    "  </video>'''.format(b64.decode())\n",
    "\n",
    "  return IPython.display.HTML(tag)"
   ]
  },
  {
   "cell_type": "code",
   "execution_count": 8,
   "metadata": {},
   "outputs": [
    {
     "name": "stderr",
     "output_type": "stream",
     "text": [
      "Lossy conversion from float16 to uint8. Range [0, 1]. Convert image to uint8 prior to saving to suppress this warning.\n",
      "Lossy conversion from float16 to uint8. Range [0, 1]. Convert image to uint8 prior to saving to suppress this warning.\n",
      "Lossy conversion from float16 to uint8. Range [0, 1]. Convert image to uint8 prior to saving to suppress this warning.\n",
      "Lossy conversion from float16 to uint8. Range [0, 1]. Convert image to uint8 prior to saving to suppress this warning.\n",
      "Lossy conversion from float16 to uint8. Range [0, 1]. Convert image to uint8 prior to saving to suppress this warning.\n",
      "Lossy conversion from float16 to uint8. Range [0, 1]. Convert image to uint8 prior to saving to suppress this warning.\n",
      "Lossy conversion from float16 to uint8. Range [0, 1]. Convert image to uint8 prior to saving to suppress this warning.\n",
      "Lossy conversion from float16 to uint8. Range [0, 1]. Convert image to uint8 prior to saving to suppress this warning.\n",
      "Lossy conversion from float16 to uint8. Range [0, 1]. Convert image to uint8 prior to saving to suppress this warning.\n",
      "Lossy conversion from float16 to uint8. Range [0, 1]. Convert image to uint8 prior to saving to suppress this warning.\n",
      "Lossy conversion from float16 to uint8. Range [0, 1]. Convert image to uint8 prior to saving to suppress this warning.\n",
      "Lossy conversion from float16 to uint8. Range [0, 1]. Convert image to uint8 prior to saving to suppress this warning.\n",
      "Lossy conversion from float16 to uint8. Range [0, 1]. Convert image to uint8 prior to saving to suppress this warning.\n",
      "Lossy conversion from float16 to uint8. Range [0, 1]. Convert image to uint8 prior to saving to suppress this warning.\n",
      "Lossy conversion from float16 to uint8. Range [0, 1]. Convert image to uint8 prior to saving to suppress this warning.\n",
      "Lossy conversion from float16 to uint8. Range [0, 1]. Convert image to uint8 prior to saving to suppress this warning.\n",
      "Lossy conversion from float16 to uint8. Range [0, 1]. Convert image to uint8 prior to saving to suppress this warning.\n",
      "Lossy conversion from float16 to uint8. Range [0, 1]. Convert image to uint8 prior to saving to suppress this warning.\n",
      "Lossy conversion from float16 to uint8. Range [0, 1]. Convert image to uint8 prior to saving to suppress this warning.\n",
      "Lossy conversion from float16 to uint8. Range [0, 1]. Convert image to uint8 prior to saving to suppress this warning.\n",
      "Lossy conversion from float16 to uint8. Range [0, 1]. Convert image to uint8 prior to saving to suppress this warning.\n",
      "Lossy conversion from float16 to uint8. Range [0, 1]. Convert image to uint8 prior to saving to suppress this warning.\n",
      "Lossy conversion from float16 to uint8. Range [0, 1]. Convert image to uint8 prior to saving to suppress this warning.\n",
      "Lossy conversion from float16 to uint8. Range [0, 1]. Convert image to uint8 prior to saving to suppress this warning.\n",
      "Lossy conversion from float16 to uint8. Range [0, 1]. Convert image to uint8 prior to saving to suppress this warning.\n",
      "Lossy conversion from float16 to uint8. Range [0, 1]. Convert image to uint8 prior to saving to suppress this warning.\n",
      "Lossy conversion from float16 to uint8. Range [0, 1]. Convert image to uint8 prior to saving to suppress this warning.\n",
      "Lossy conversion from float16 to uint8. Range [0, 1]. Convert image to uint8 prior to saving to suppress this warning.\n",
      "Lossy conversion from float16 to uint8. Range [0, 1]. Convert image to uint8 prior to saving to suppress this warning.\n",
      "Lossy conversion from float16 to uint8. Range [0, 1]. Convert image to uint8 prior to saving to suppress this warning.\n",
      "Lossy conversion from float16 to uint8. Range [0, 1]. Convert image to uint8 prior to saving to suppress this warning.\n",
      "Lossy conversion from float16 to uint8. Range [0, 1]. Convert image to uint8 prior to saving to suppress this warning.\n",
      "Lossy conversion from float16 to uint8. Range [0, 1]. Convert image to uint8 prior to saving to suppress this warning.\n",
      "Lossy conversion from float16 to uint8. Range [0, 1]. Convert image to uint8 prior to saving to suppress this warning.\n",
      "Lossy conversion from float16 to uint8. Range [0, 1]. Convert image to uint8 prior to saving to suppress this warning.\n",
      "Lossy conversion from float16 to uint8. Range [0, 1]. Convert image to uint8 prior to saving to suppress this warning.\n",
      "Lossy conversion from float16 to uint8. Range [0, 1]. Convert image to uint8 prior to saving to suppress this warning.\n",
      "Lossy conversion from float16 to uint8. Range [0, 1]. Convert image to uint8 prior to saving to suppress this warning.\n",
      "Lossy conversion from float16 to uint8. Range [0, 1]. Convert image to uint8 prior to saving to suppress this warning.\n",
      "Lossy conversion from float16 to uint8. Range [0, 1]. Convert image to uint8 prior to saving to suppress this warning.\n",
      "Lossy conversion from float16 to uint8. Range [0, 1]. Convert image to uint8 prior to saving to suppress this warning.\n",
      "Lossy conversion from float16 to uint8. Range [0, 1]. Convert image to uint8 prior to saving to suppress this warning.\n",
      "Lossy conversion from float16 to uint8. Range [0, 1]. Convert image to uint8 prior to saving to suppress this warning.\n",
      "Lossy conversion from float16 to uint8. Range [0, 1]. Convert image to uint8 prior to saving to suppress this warning.\n",
      "Lossy conversion from float16 to uint8. Range [0, 1]. Convert image to uint8 prior to saving to suppress this warning.\n",
      "Lossy conversion from float16 to uint8. Range [0, 1]. Convert image to uint8 prior to saving to suppress this warning.\n",
      "Lossy conversion from float16 to uint8. Range [0, 1]. Convert image to uint8 prior to saving to suppress this warning.\n",
      "Lossy conversion from float16 to uint8. Range [0, 1]. Convert image to uint8 prior to saving to suppress this warning.\n",
      "Lossy conversion from float16 to uint8. Range [0, 1]. Convert image to uint8 prior to saving to suppress this warning.\n",
      "Lossy conversion from float16 to uint8. Range [0, 1]. Convert image to uint8 prior to saving to suppress this warning.\n",
      "Lossy conversion from float16 to uint8. Range [0, 1]. Convert image to uint8 prior to saving to suppress this warning.\n",
      "Lossy conversion from float16 to uint8. Range [0, 1]. Convert image to uint8 prior to saving to suppress this warning.\n",
      "Lossy conversion from float16 to uint8. Range [0, 1]. Convert image to uint8 prior to saving to suppress this warning.\n",
      "Lossy conversion from float16 to uint8. Range [0, 1]. Convert image to uint8 prior to saving to suppress this warning.\n",
      "Lossy conversion from float16 to uint8. Range [0, 1]. Convert image to uint8 prior to saving to suppress this warning.\n",
      "Lossy conversion from float16 to uint8. Range [0, 1]. Convert image to uint8 prior to saving to suppress this warning.\n",
      "Lossy conversion from float16 to uint8. Range [0, 1]. Convert image to uint8 prior to saving to suppress this warning.\n",
      "Lossy conversion from float16 to uint8. Range [0, 1]. Convert image to uint8 prior to saving to suppress this warning.\n",
      "Lossy conversion from float16 to uint8. Range [0, 1]. Convert image to uint8 prior to saving to suppress this warning.\n",
      "Lossy conversion from float16 to uint8. Range [0, 1]. Convert image to uint8 prior to saving to suppress this warning.\n",
      "Lossy conversion from float16 to uint8. Range [0, 1]. Convert image to uint8 prior to saving to suppress this warning.\n",
      "Lossy conversion from float16 to uint8. Range [0, 1]. Convert image to uint8 prior to saving to suppress this warning.\n",
      "Lossy conversion from float16 to uint8. Range [0, 1]. Convert image to uint8 prior to saving to suppress this warning.\n",
      "Lossy conversion from float16 to uint8. Range [0, 1]. Convert image to uint8 prior to saving to suppress this warning.\n",
      "Lossy conversion from float16 to uint8. Range [0, 1]. Convert image to uint8 prior to saving to suppress this warning.\n",
      "Lossy conversion from float16 to uint8. Range [0, 1]. Convert image to uint8 prior to saving to suppress this warning.\n",
      "Lossy conversion from float16 to uint8. Range [0, 1]. Convert image to uint8 prior to saving to suppress this warning.\n",
      "Lossy conversion from float16 to uint8. Range [0, 1]. Convert image to uint8 prior to saving to suppress this warning.\n",
      "Lossy conversion from float16 to uint8. Range [0, 1]. Convert image to uint8 prior to saving to suppress this warning.\n",
      "Lossy conversion from float16 to uint8. Range [0, 1]. Convert image to uint8 prior to saving to suppress this warning.\n",
      "Lossy conversion from float16 to uint8. Range [0, 1]. Convert image to uint8 prior to saving to suppress this warning.\n",
      "Lossy conversion from float16 to uint8. Range [0, 1]. Convert image to uint8 prior to saving to suppress this warning.\n",
      "Lossy conversion from float16 to uint8. Range [0, 1]. Convert image to uint8 prior to saving to suppress this warning.\n",
      "Lossy conversion from float16 to uint8. Range [0, 1]. Convert image to uint8 prior to saving to suppress this warning.\n",
      "Lossy conversion from float16 to uint8. Range [0, 1]. Convert image to uint8 prior to saving to suppress this warning.\n",
      "Lossy conversion from float16 to uint8. Range [0, 1]. Convert image to uint8 prior to saving to suppress this warning.\n",
      "Lossy conversion from float16 to uint8. Range [0, 1]. Convert image to uint8 prior to saving to suppress this warning.\n",
      "Lossy conversion from float16 to uint8. Range [0, 1]. Convert image to uint8 prior to saving to suppress this warning.\n",
      "Lossy conversion from float16 to uint8. Range [0, 1]. Convert image to uint8 prior to saving to suppress this warning.\n",
      "Lossy conversion from float16 to uint8. Range [0, 1]. Convert image to uint8 prior to saving to suppress this warning.\n",
      "Lossy conversion from float16 to uint8. Range [0, 1]. Convert image to uint8 prior to saving to suppress this warning.\n",
      "Lossy conversion from float16 to uint8. Range [0, 1]. Convert image to uint8 prior to saving to suppress this warning.\n",
      "Lossy conversion from float16 to uint8. Range [0, 1]. Convert image to uint8 prior to saving to suppress this warning.\n",
      "Lossy conversion from float16 to uint8. Range [0, 1]. Convert image to uint8 prior to saving to suppress this warning.\n",
      "Lossy conversion from float16 to uint8. Range [0, 1]. Convert image to uint8 prior to saving to suppress this warning.\n",
      "Lossy conversion from float16 to uint8. Range [0, 1]. Convert image to uint8 prior to saving to suppress this warning.\n",
      "Lossy conversion from float16 to uint8. Range [0, 1]. Convert image to uint8 prior to saving to suppress this warning.\n",
      "Lossy conversion from float16 to uint8. Range [0, 1]. Convert image to uint8 prior to saving to suppress this warning.\n",
      "Lossy conversion from float16 to uint8. Range [0, 1]. Convert image to uint8 prior to saving to suppress this warning.\n",
      "Lossy conversion from float16 to uint8. Range [0, 1]. Convert image to uint8 prior to saving to suppress this warning.\n",
      "Lossy conversion from float16 to uint8. Range [0, 1]. Convert image to uint8 prior to saving to suppress this warning.\n",
      "Lossy conversion from float16 to uint8. Range [0, 1]. Convert image to uint8 prior to saving to suppress this warning.\n",
      "Lossy conversion from float16 to uint8. Range [0, 1]. Convert image to uint8 prior to saving to suppress this warning.\n",
      "Lossy conversion from float16 to uint8. Range [0, 1]. Convert image to uint8 prior to saving to suppress this warning.\n",
      "Lossy conversion from float16 to uint8. Range [0, 1]. Convert image to uint8 prior to saving to suppress this warning.\n",
      "Lossy conversion from float16 to uint8. Range [0, 1]. Convert image to uint8 prior to saving to suppress this warning.\n",
      "Lossy conversion from float16 to uint8. Range [0, 1]. Convert image to uint8 prior to saving to suppress this warning.\n",
      "Lossy conversion from float16 to uint8. Range [0, 1]. Convert image to uint8 prior to saving to suppress this warning.\n",
      "Lossy conversion from float16 to uint8. Range [0, 1]. Convert image to uint8 prior to saving to suppress this warning.\n",
      "Lossy conversion from float16 to uint8. Range [0, 1]. Convert image to uint8 prior to saving to suppress this warning.\n",
      "Lossy conversion from float16 to uint8. Range [0, 1]. Convert image to uint8 prior to saving to suppress this warning.\n",
      "Lossy conversion from float16 to uint8. Range [0, 1]. Convert image to uint8 prior to saving to suppress this warning.\n",
      "Lossy conversion from float16 to uint8. Range [0, 1]. Convert image to uint8 prior to saving to suppress this warning.\n",
      "Lossy conversion from float16 to uint8. Range [0, 1]. Convert image to uint8 prior to saving to suppress this warning.\n",
      "Lossy conversion from float16 to uint8. Range [0, 1]. Convert image to uint8 prior to saving to suppress this warning.\n",
      "Lossy conversion from float16 to uint8. Range [0, 1]. Convert image to uint8 prior to saving to suppress this warning.\n",
      "Lossy conversion from float16 to uint8. Range [0, 1]. Convert image to uint8 prior to saving to suppress this warning.\n",
      "Lossy conversion from float16 to uint8. Range [0, 1]. Convert image to uint8 prior to saving to suppress this warning.\n",
      "Lossy conversion from float16 to uint8. Range [0, 1]. Convert image to uint8 prior to saving to suppress this warning.\n",
      "Lossy conversion from float16 to uint8. Range [0, 1]. Convert image to uint8 prior to saving to suppress this warning.\n",
      "Lossy conversion from float16 to uint8. Range [0, 1]. Convert image to uint8 prior to saving to suppress this warning.\n",
      "Lossy conversion from float16 to uint8. Range [0, 1]. Convert image to uint8 prior to saving to suppress this warning.\n",
      "Lossy conversion from float16 to uint8. Range [0, 1]. Convert image to uint8 prior to saving to suppress this warning.\n",
      "Lossy conversion from float16 to uint8. Range [0, 1]. Convert image to uint8 prior to saving to suppress this warning.\n",
      "Lossy conversion from float16 to uint8. Range [0, 1]. Convert image to uint8 prior to saving to suppress this warning.\n",
      "Lossy conversion from float16 to uint8. Range [0, 1]. Convert image to uint8 prior to saving to suppress this warning.\n",
      "Lossy conversion from float16 to uint8. Range [0, 1]. Convert image to uint8 prior to saving to suppress this warning.\n",
      "Lossy conversion from float16 to uint8. Range [0, 1]. Convert image to uint8 prior to saving to suppress this warning.\n",
      "Lossy conversion from float16 to uint8. Range [0, 1]. Convert image to uint8 prior to saving to suppress this warning.\n",
      "Lossy conversion from float16 to uint8. Range [0, 1]. Convert image to uint8 prior to saving to suppress this warning.\n",
      "Lossy conversion from float16 to uint8. Range [0, 1]. Convert image to uint8 prior to saving to suppress this warning.\n",
      "Lossy conversion from float16 to uint8. Range [0, 1]. Convert image to uint8 prior to saving to suppress this warning.\n",
      "Lossy conversion from float16 to uint8. Range [0, 1]. Convert image to uint8 prior to saving to suppress this warning.\n",
      "Lossy conversion from float16 to uint8. Range [0, 1]. Convert image to uint8 prior to saving to suppress this warning.\n",
      "Lossy conversion from float16 to uint8. Range [0, 1]. Convert image to uint8 prior to saving to suppress this warning.\n",
      "Lossy conversion from float16 to uint8. Range [0, 1]. Convert image to uint8 prior to saving to suppress this warning.\n",
      "Lossy conversion from float16 to uint8. Range [0, 1]. Convert image to uint8 prior to saving to suppress this warning.\n",
      "Lossy conversion from float16 to uint8. Range [0, 1]. Convert image to uint8 prior to saving to suppress this warning.\n",
      "Lossy conversion from float16 to uint8. Range [0, 1]. Convert image to uint8 prior to saving to suppress this warning.\n",
      "Lossy conversion from float16 to uint8. Range [0, 1]. Convert image to uint8 prior to saving to suppress this warning.\n",
      "Lossy conversion from float16 to uint8. Range [0, 1]. Convert image to uint8 prior to saving to suppress this warning.\n",
      "Lossy conversion from float16 to uint8. Range [0, 1]. Convert image to uint8 prior to saving to suppress this warning.\n",
      "Lossy conversion from float16 to uint8. Range [0, 1]. Convert image to uint8 prior to saving to suppress this warning.\n",
      "Lossy conversion from float16 to uint8. Range [0, 1]. Convert image to uint8 prior to saving to suppress this warning.\n",
      "Lossy conversion from float16 to uint8. Range [0, 1]. Convert image to uint8 prior to saving to suppress this warning.\n",
      "Lossy conversion from float16 to uint8. Range [0, 1]. Convert image to uint8 prior to saving to suppress this warning.\n",
      "Lossy conversion from float16 to uint8. Range [0, 1]. Convert image to uint8 prior to saving to suppress this warning.\n",
      "Lossy conversion from float16 to uint8. Range [0, 1]. Convert image to uint8 prior to saving to suppress this warning.\n",
      "Lossy conversion from float16 to uint8. Range [0, 1]. Convert image to uint8 prior to saving to suppress this warning.\n",
      "Lossy conversion from float16 to uint8. Range [0, 1]. Convert image to uint8 prior to saving to suppress this warning.\n",
      "Lossy conversion from float16 to uint8. Range [0, 1]. Convert image to uint8 prior to saving to suppress this warning.\n",
      "Lossy conversion from float16 to uint8. Range [0, 1]. Convert image to uint8 prior to saving to suppress this warning.\n",
      "Lossy conversion from float16 to uint8. Range [0, 1]. Convert image to uint8 prior to saving to suppress this warning.\n",
      "Lossy conversion from float16 to uint8. Range [0, 1]. Convert image to uint8 prior to saving to suppress this warning.\n",
      "Lossy conversion from float16 to uint8. Range [0, 1]. Convert image to uint8 prior to saving to suppress this warning.\n",
      "Lossy conversion from float16 to uint8. Range [0, 1]. Convert image to uint8 prior to saving to suppress this warning.\n",
      "Lossy conversion from float16 to uint8. Range [0, 1]. Convert image to uint8 prior to saving to suppress this warning.\n",
      "Lossy conversion from float16 to uint8. Range [0, 1]. Convert image to uint8 prior to saving to suppress this warning.\n",
      "Lossy conversion from float16 to uint8. Range [0, 1]. Convert image to uint8 prior to saving to suppress this warning.\n",
      "Lossy conversion from float16 to uint8. Range [0, 1]. Convert image to uint8 prior to saving to suppress this warning.\n",
      "Lossy conversion from float16 to uint8. Range [0, 1]. Convert image to uint8 prior to saving to suppress this warning.\n",
      "Lossy conversion from float16 to uint8. Range [0, 1]. Convert image to uint8 prior to saving to suppress this warning.\n",
      "Lossy conversion from float16 to uint8. Range [0, 1]. Convert image to uint8 prior to saving to suppress this warning.\n",
      "Lossy conversion from float16 to uint8. Range [0, 1]. Convert image to uint8 prior to saving to suppress this warning.\n",
      "Lossy conversion from float16 to uint8. Range [0, 1]. Convert image to uint8 prior to saving to suppress this warning.\n",
      "Lossy conversion from float16 to uint8. Range [0, 1]. Convert image to uint8 prior to saving to suppress this warning.\n",
      "Lossy conversion from float16 to uint8. Range [0, 1]. Convert image to uint8 prior to saving to suppress this warning.\n",
      "Lossy conversion from float16 to uint8. Range [0, 1]. Convert image to uint8 prior to saving to suppress this warning.\n",
      "Lossy conversion from float16 to uint8. Range [0, 1]. Convert image to uint8 prior to saving to suppress this warning.\n",
      "Lossy conversion from float16 to uint8. Range [0, 1]. Convert image to uint8 prior to saving to suppress this warning.\n",
      "Lossy conversion from float16 to uint8. Range [0, 1]. Convert image to uint8 prior to saving to suppress this warning.\n",
      "Lossy conversion from float16 to uint8. Range [0, 1]. Convert image to uint8 prior to saving to suppress this warning.\n",
      "Lossy conversion from float16 to uint8. Range [0, 1]. Convert image to uint8 prior to saving to suppress this warning.\n",
      "Lossy conversion from float16 to uint8. Range [0, 1]. Convert image to uint8 prior to saving to suppress this warning.\n",
      "Lossy conversion from float16 to uint8. Range [0, 1]. Convert image to uint8 prior to saving to suppress this warning.\n",
      "Lossy conversion from float16 to uint8. Range [0, 1]. Convert image to uint8 prior to saving to suppress this warning.\n",
      "Lossy conversion from float16 to uint8. Range [0, 1]. Convert image to uint8 prior to saving to suppress this warning.\n",
      "Lossy conversion from float16 to uint8. Range [0, 1]. Convert image to uint8 prior to saving to suppress this warning.\n",
      "Lossy conversion from float16 to uint8. Range [0, 1]. Convert image to uint8 prior to saving to suppress this warning.\n",
      "Lossy conversion from float16 to uint8. Range [0, 1]. Convert image to uint8 prior to saving to suppress this warning.\n",
      "Lossy conversion from float16 to uint8. Range [0, 1]. Convert image to uint8 prior to saving to suppress this warning.\n",
      "Lossy conversion from float16 to uint8. Range [0, 1]. Convert image to uint8 prior to saving to suppress this warning.\n",
      "Lossy conversion from float16 to uint8. Range [0, 1]. Convert image to uint8 prior to saving to suppress this warning.\n",
      "Lossy conversion from float16 to uint8. Range [0, 1]. Convert image to uint8 prior to saving to suppress this warning.\n",
      "Lossy conversion from float16 to uint8. Range [0, 1]. Convert image to uint8 prior to saving to suppress this warning.\n",
      "Lossy conversion from float16 to uint8. Range [0, 1]. Convert image to uint8 prior to saving to suppress this warning.\n",
      "Lossy conversion from float16 to uint8. Range [0, 1]. Convert image to uint8 prior to saving to suppress this warning.\n",
      "Lossy conversion from float16 to uint8. Range [0, 1]. Convert image to uint8 prior to saving to suppress this warning.\n",
      "Lossy conversion from float16 to uint8. Range [0, 1]. Convert image to uint8 prior to saving to suppress this warning.\n",
      "Lossy conversion from float16 to uint8. Range [0, 1]. Convert image to uint8 prior to saving to suppress this warning.\n",
      "Lossy conversion from float16 to uint8. Range [0, 1]. Convert image to uint8 prior to saving to suppress this warning.\n",
      "Lossy conversion from float16 to uint8. Range [0, 1]. Convert image to uint8 prior to saving to suppress this warning.\n",
      "Lossy conversion from float16 to uint8. Range [0, 1]. Convert image to uint8 prior to saving to suppress this warning.\n",
      "Lossy conversion from float16 to uint8. Range [0, 1]. Convert image to uint8 prior to saving to suppress this warning.\n",
      "Lossy conversion from float16 to uint8. Range [0, 1]. Convert image to uint8 prior to saving to suppress this warning.\n",
      "Lossy conversion from float16 to uint8. Range [0, 1]. Convert image to uint8 prior to saving to suppress this warning.\n",
      "Lossy conversion from float16 to uint8. Range [0, 1]. Convert image to uint8 prior to saving to suppress this warning.\n",
      "Lossy conversion from float16 to uint8. Range [0, 1]. Convert image to uint8 prior to saving to suppress this warning.\n",
      "Lossy conversion from float16 to uint8. Range [0, 1]. Convert image to uint8 prior to saving to suppress this warning.\n",
      "Lossy conversion from float16 to uint8. Range [0, 1]. Convert image to uint8 prior to saving to suppress this warning.\n",
      "Lossy conversion from float16 to uint8. Range [0, 1]. Convert image to uint8 prior to saving to suppress this warning.\n",
      "Lossy conversion from float16 to uint8. Range [0, 1]. Convert image to uint8 prior to saving to suppress this warning.\n",
      "Lossy conversion from float16 to uint8. Range [0, 1]. Convert image to uint8 prior to saving to suppress this warning.\n",
      "Lossy conversion from float16 to uint8. Range [0, 1]. Convert image to uint8 prior to saving to suppress this warning.\n",
      "Lossy conversion from float16 to uint8. Range [0, 1]. Convert image to uint8 prior to saving to suppress this warning.\n",
      "Lossy conversion from float16 to uint8. Range [0, 1]. Convert image to uint8 prior to saving to suppress this warning.\n",
      "Lossy conversion from float16 to uint8. Range [0, 1]. Convert image to uint8 prior to saving to suppress this warning.\n",
      "Lossy conversion from float16 to uint8. Range [0, 1]. Convert image to uint8 prior to saving to suppress this warning.\n",
      "Lossy conversion from float16 to uint8. Range [0, 1]. Convert image to uint8 prior to saving to suppress this warning.\n",
      "Lossy conversion from float16 to uint8. Range [0, 1]. Convert image to uint8 prior to saving to suppress this warning.\n",
      "Lossy conversion from float16 to uint8. Range [0, 1]. Convert image to uint8 prior to saving to suppress this warning.\n",
      "Lossy conversion from float16 to uint8. Range [0, 1]. Convert image to uint8 prior to saving to suppress this warning.\n",
      "Lossy conversion from float16 to uint8. Range [0, 1]. Convert image to uint8 prior to saving to suppress this warning.\n",
      "Lossy conversion from float16 to uint8. Range [0, 1]. Convert image to uint8 prior to saving to suppress this warning.\n",
      "Lossy conversion from float16 to uint8. Range [0, 1]. Convert image to uint8 prior to saving to suppress this warning.\n",
      "Lossy conversion from float16 to uint8. Range [0, 1]. Convert image to uint8 prior to saving to suppress this warning.\n",
      "Lossy conversion from float16 to uint8. Range [0, 1]. Convert image to uint8 prior to saving to suppress this warning.\n",
      "Lossy conversion from float16 to uint8. Range [0, 1]. Convert image to uint8 prior to saving to suppress this warning.\n",
      "Lossy conversion from float16 to uint8. Range [0, 1]. Convert image to uint8 prior to saving to suppress this warning.\n",
      "Lossy conversion from float16 to uint8. Range [0, 1]. Convert image to uint8 prior to saving to suppress this warning.\n",
      "Lossy conversion from float16 to uint8. Range [0, 1]. Convert image to uint8 prior to saving to suppress this warning.\n",
      "Lossy conversion from float16 to uint8. Range [0, 1]. Convert image to uint8 prior to saving to suppress this warning.\n",
      "Lossy conversion from float16 to uint8. Range [0, 1]. Convert image to uint8 prior to saving to suppress this warning.\n",
      "Lossy conversion from float16 to uint8. Range [0, 1]. Convert image to uint8 prior to saving to suppress this warning.\n",
      "Lossy conversion from float16 to uint8. Range [0, 1]. Convert image to uint8 prior to saving to suppress this warning.\n",
      "Lossy conversion from float16 to uint8. Range [0, 1]. Convert image to uint8 prior to saving to suppress this warning.\n",
      "Lossy conversion from float16 to uint8. Range [0, 1]. Convert image to uint8 prior to saving to suppress this warning.\n",
      "Lossy conversion from float16 to uint8. Range [0, 1]. Convert image to uint8 prior to saving to suppress this warning.\n",
      "Lossy conversion from float16 to uint8. Range [0, 1]. Convert image to uint8 prior to saving to suppress this warning.\n",
      "Lossy conversion from float16 to uint8. Range [0, 1]. Convert image to uint8 prior to saving to suppress this warning.\n",
      "Lossy conversion from float16 to uint8. Range [0, 1]. Convert image to uint8 prior to saving to suppress this warning.\n",
      "Lossy conversion from float16 to uint8. Range [0, 1]. Convert image to uint8 prior to saving to suppress this warning.\n",
      "Lossy conversion from float16 to uint8. Range [0, 1]. Convert image to uint8 prior to saving to suppress this warning.\n",
      "Lossy conversion from float16 to uint8. Range [0, 1]. Convert image to uint8 prior to saving to suppress this warning.\n",
      "Lossy conversion from float16 to uint8. Range [0, 1]. Convert image to uint8 prior to saving to suppress this warning.\n",
      "Lossy conversion from float16 to uint8. Range [0, 1]. Convert image to uint8 prior to saving to suppress this warning.\n",
      "Lossy conversion from float16 to uint8. Range [0, 1]. Convert image to uint8 prior to saving to suppress this warning.\n",
      "Lossy conversion from float16 to uint8. Range [0, 1]. Convert image to uint8 prior to saving to suppress this warning.\n",
      "Lossy conversion from float16 to uint8. Range [0, 1]. Convert image to uint8 prior to saving to suppress this warning.\n",
      "Lossy conversion from float16 to uint8. Range [0, 1]. Convert image to uint8 prior to saving to suppress this warning.\n",
      "Lossy conversion from float16 to uint8. Range [0, 1]. Convert image to uint8 prior to saving to suppress this warning.\n",
      "Lossy conversion from float16 to uint8. Range [0, 1]. Convert image to uint8 prior to saving to suppress this warning.\n",
      "Lossy conversion from float16 to uint8. Range [0, 1]. Convert image to uint8 prior to saving to suppress this warning.\n",
      "Lossy conversion from float16 to uint8. Range [0, 1]. Convert image to uint8 prior to saving to suppress this warning.\n",
      "Lossy conversion from float16 to uint8. Range [0, 1]. Convert image to uint8 prior to saving to suppress this warning.\n",
      "Lossy conversion from float16 to uint8. Range [0, 1]. Convert image to uint8 prior to saving to suppress this warning.\n",
      "Lossy conversion from float16 to uint8. Range [0, 1]. Convert image to uint8 prior to saving to suppress this warning.\n",
      "Lossy conversion from float16 to uint8. Range [0, 1]. Convert image to uint8 prior to saving to suppress this warning.\n",
      "Lossy conversion from float16 to uint8. Range [0, 1]. Convert image to uint8 prior to saving to suppress this warning.\n",
      "Lossy conversion from float16 to uint8. Range [0, 1]. Convert image to uint8 prior to saving to suppress this warning.\n",
      "Lossy conversion from float16 to uint8. Range [0, 1]. Convert image to uint8 prior to saving to suppress this warning.\n",
      "Lossy conversion from float16 to uint8. Range [0, 1]. Convert image to uint8 prior to saving to suppress this warning.\n",
      "Lossy conversion from float16 to uint8. Range [0, 1]. Convert image to uint8 prior to saving to suppress this warning.\n",
      "Lossy conversion from float16 to uint8. Range [0, 1]. Convert image to uint8 prior to saving to suppress this warning.\n",
      "Lossy conversion from float16 to uint8. Range [0, 1]. Convert image to uint8 prior to saving to suppress this warning.\n",
      "Lossy conversion from float16 to uint8. Range [0, 1]. Convert image to uint8 prior to saving to suppress this warning.\n",
      "Lossy conversion from float16 to uint8. Range [0, 1]. Convert image to uint8 prior to saving to suppress this warning.\n",
      "Lossy conversion from float16 to uint8. Range [0, 1]. Convert image to uint8 prior to saving to suppress this warning.\n",
      "Lossy conversion from float16 to uint8. Range [0, 1]. Convert image to uint8 prior to saving to suppress this warning.\n",
      "Lossy conversion from float16 to uint8. Range [0, 1]. Convert image to uint8 prior to saving to suppress this warning.\n",
      "Lossy conversion from float16 to uint8. Range [0, 1]. Convert image to uint8 prior to saving to suppress this warning.\n",
      "Lossy conversion from float16 to uint8. Range [0, 1]. Convert image to uint8 prior to saving to suppress this warning.\n",
      "Lossy conversion from float16 to uint8. Range [0, 1]. Convert image to uint8 prior to saving to suppress this warning.\n",
      "Lossy conversion from float16 to uint8. Range [0, 1]. Convert image to uint8 prior to saving to suppress this warning.\n",
      "Lossy conversion from float16 to uint8. Range [0, 1]. Convert image to uint8 prior to saving to suppress this warning.\n",
      "Lossy conversion from float16 to uint8. Range [0, 1]. Convert image to uint8 prior to saving to suppress this warning.\n",
      "Lossy conversion from float16 to uint8. Range [0, 1]. Convert image to uint8 prior to saving to suppress this warning.\n",
      "Lossy conversion from float16 to uint8. Range [0, 1]. Convert image to uint8 prior to saving to suppress this warning.\n",
      "Lossy conversion from float16 to uint8. Range [0, 1]. Convert image to uint8 prior to saving to suppress this warning.\n",
      "Lossy conversion from float16 to uint8. Range [0, 1]. Convert image to uint8 prior to saving to suppress this warning.\n",
      "Lossy conversion from float16 to uint8. Range [0, 1]. Convert image to uint8 prior to saving to suppress this warning.\n",
      "Lossy conversion from float16 to uint8. Range [0, 1]. Convert image to uint8 prior to saving to suppress this warning.\n",
      "Lossy conversion from float16 to uint8. Range [0, 1]. Convert image to uint8 prior to saving to suppress this warning.\n",
      "Lossy conversion from float16 to uint8. Range [0, 1]. Convert image to uint8 prior to saving to suppress this warning.\n",
      "Lossy conversion from float16 to uint8. Range [0, 1]. Convert image to uint8 prior to saving to suppress this warning.\n",
      "Lossy conversion from float16 to uint8. Range [0, 1]. Convert image to uint8 prior to saving to suppress this warning.\n",
      "Lossy conversion from float16 to uint8. Range [0, 1]. Convert image to uint8 prior to saving to suppress this warning.\n",
      "Lossy conversion from float16 to uint8. Range [0, 1]. Convert image to uint8 prior to saving to suppress this warning.\n",
      "Lossy conversion from float16 to uint8. Range [0, 1]. Convert image to uint8 prior to saving to suppress this warning.\n",
      "Lossy conversion from float16 to uint8. Range [0, 1]. Convert image to uint8 prior to saving to suppress this warning.\n",
      "Lossy conversion from float16 to uint8. Range [0, 1]. Convert image to uint8 prior to saving to suppress this warning.\n",
      "Lossy conversion from float16 to uint8. Range [0, 1]. Convert image to uint8 prior to saving to suppress this warning.\n",
      "Lossy conversion from float16 to uint8. Range [0, 1]. Convert image to uint8 prior to saving to suppress this warning.\n",
      "Lossy conversion from float16 to uint8. Range [0, 1]. Convert image to uint8 prior to saving to suppress this warning.\n",
      "Lossy conversion from float16 to uint8. Range [0, 1]. Convert image to uint8 prior to saving to suppress this warning.\n",
      "Lossy conversion from float16 to uint8. Range [0, 1]. Convert image to uint8 prior to saving to suppress this warning.\n",
      "Lossy conversion from float16 to uint8. Range [0, 1]. Convert image to uint8 prior to saving to suppress this warning.\n",
      "Lossy conversion from float16 to uint8. Range [0, 1]. Convert image to uint8 prior to saving to suppress this warning.\n",
      "Lossy conversion from float16 to uint8. Range [0, 1]. Convert image to uint8 prior to saving to suppress this warning.\n",
      "Lossy conversion from float16 to uint8. Range [0, 1]. Convert image to uint8 prior to saving to suppress this warning.\n",
      "Lossy conversion from float16 to uint8. Range [0, 1]. Convert image to uint8 prior to saving to suppress this warning.\n",
      "Lossy conversion from float16 to uint8. Range [0, 1]. Convert image to uint8 prior to saving to suppress this warning.\n",
      "Lossy conversion from float16 to uint8. Range [0, 1]. Convert image to uint8 prior to saving to suppress this warning.\n",
      "Lossy conversion from float16 to uint8. Range [0, 1]. Convert image to uint8 prior to saving to suppress this warning.\n",
      "Lossy conversion from float16 to uint8. Range [0, 1]. Convert image to uint8 prior to saving to suppress this warning.\n",
      "Lossy conversion from float16 to uint8. Range [0, 1]. Convert image to uint8 prior to saving to suppress this warning.\n",
      "Lossy conversion from float16 to uint8. Range [0, 1]. Convert image to uint8 prior to saving to suppress this warning.\n",
      "Lossy conversion from float16 to uint8. Range [0, 1]. Convert image to uint8 prior to saving to suppress this warning.\n",
      "Lossy conversion from float16 to uint8. Range [0, 1]. Convert image to uint8 prior to saving to suppress this warning.\n",
      "Lossy conversion from float16 to uint8. Range [0, 1]. Convert image to uint8 prior to saving to suppress this warning.\n",
      "Lossy conversion from float16 to uint8. Range [0, 1]. Convert image to uint8 prior to saving to suppress this warning.\n",
      "Lossy conversion from float16 to uint8. Range [0, 1]. Convert image to uint8 prior to saving to suppress this warning.\n",
      "Lossy conversion from float16 to uint8. Range [0, 1]. Convert image to uint8 prior to saving to suppress this warning.\n",
      "Lossy conversion from float16 to uint8. Range [0, 1]. Convert image to uint8 prior to saving to suppress this warning.\n",
      "Lossy conversion from float16 to uint8. Range [0, 1]. Convert image to uint8 prior to saving to suppress this warning.\n",
      "Lossy conversion from float16 to uint8. Range [0, 1]. Convert image to uint8 prior to saving to suppress this warning.\n",
      "Lossy conversion from float16 to uint8. Range [0, 1]. Convert image to uint8 prior to saving to suppress this warning.\n",
      "Lossy conversion from float16 to uint8. Range [0, 1]. Convert image to uint8 prior to saving to suppress this warning.\n",
      "Lossy conversion from float16 to uint8. Range [0, 1]. Convert image to uint8 prior to saving to suppress this warning.\n",
      "Lossy conversion from float16 to uint8. Range [0, 1]. Convert image to uint8 prior to saving to suppress this warning.\n",
      "Lossy conversion from float16 to uint8. Range [0, 1]. Convert image to uint8 prior to saving to suppress this warning.\n",
      "Lossy conversion from float16 to uint8. Range [0, 1]. Convert image to uint8 prior to saving to suppress this warning.\n",
      "Lossy conversion from float16 to uint8. Range [0, 1]. Convert image to uint8 prior to saving to suppress this warning.\n",
      "Lossy conversion from float16 to uint8. Range [0, 1]. Convert image to uint8 prior to saving to suppress this warning.\n",
      "Lossy conversion from float16 to uint8. Range [0, 1]. Convert image to uint8 prior to saving to suppress this warning.\n",
      "Lossy conversion from float16 to uint8. Range [0, 1]. Convert image to uint8 prior to saving to suppress this warning.\n",
      "Lossy conversion from float16 to uint8. Range [0, 1]. Convert image to uint8 prior to saving to suppress this warning.\n",
      "Lossy conversion from float16 to uint8. Range [0, 1]. Convert image to uint8 prior to saving to suppress this warning.\n",
      "Lossy conversion from float16 to uint8. Range [0, 1]. Convert image to uint8 prior to saving to suppress this warning.\n",
      "Lossy conversion from float16 to uint8. Range [0, 1]. Convert image to uint8 prior to saving to suppress this warning.\n",
      "Lossy conversion from float16 to uint8. Range [0, 1]. Convert image to uint8 prior to saving to suppress this warning.\n",
      "Lossy conversion from float16 to uint8. Range [0, 1]. Convert image to uint8 prior to saving to suppress this warning.\n",
      "Lossy conversion from float16 to uint8. Range [0, 1]. Convert image to uint8 prior to saving to suppress this warning.\n",
      "Lossy conversion from float16 to uint8. Range [0, 1]. Convert image to uint8 prior to saving to suppress this warning.\n",
      "Lossy conversion from float16 to uint8. Range [0, 1]. Convert image to uint8 prior to saving to suppress this warning.\n",
      "Lossy conversion from float16 to uint8. Range [0, 1]. Convert image to uint8 prior to saving to suppress this warning.\n",
      "Lossy conversion from float16 to uint8. Range [0, 1]. Convert image to uint8 prior to saving to suppress this warning.\n",
      "Lossy conversion from float16 to uint8. Range [0, 1]. Convert image to uint8 prior to saving to suppress this warning.\n",
      "Lossy conversion from float16 to uint8. Range [0, 1]. Convert image to uint8 prior to saving to suppress this warning.\n",
      "Lossy conversion from float16 to uint8. Range [0, 1]. Convert image to uint8 prior to saving to suppress this warning.\n",
      "Lossy conversion from float16 to uint8. Range [0, 1]. Convert image to uint8 prior to saving to suppress this warning.\n",
      "Lossy conversion from float16 to uint8. Range [0, 1]. Convert image to uint8 prior to saving to suppress this warning.\n",
      "Lossy conversion from float16 to uint8. Range [0, 1]. Convert image to uint8 prior to saving to suppress this warning.\n",
      "Lossy conversion from float16 to uint8. Range [0, 1]. Convert image to uint8 prior to saving to suppress this warning.\n",
      "Lossy conversion from float16 to uint8. Range [0, 1]. Convert image to uint8 prior to saving to suppress this warning.\n",
      "Lossy conversion from float16 to uint8. Range [0, 1]. Convert image to uint8 prior to saving to suppress this warning.\n",
      "Lossy conversion from float16 to uint8. Range [0, 1]. Convert image to uint8 prior to saving to suppress this warning.\n",
      "Lossy conversion from float16 to uint8. Range [0, 1]. Convert image to uint8 prior to saving to suppress this warning.\n",
      "Lossy conversion from float16 to uint8. Range [0, 1]. Convert image to uint8 prior to saving to suppress this warning.\n",
      "Lossy conversion from float16 to uint8. Range [0, 1]. Convert image to uint8 prior to saving to suppress this warning.\n",
      "Lossy conversion from float16 to uint8. Range [0, 1]. Convert image to uint8 prior to saving to suppress this warning.\n",
      "Lossy conversion from float16 to uint8. Range [0, 1]. Convert image to uint8 prior to saving to suppress this warning.\n",
      "Lossy conversion from float16 to uint8. Range [0, 1]. Convert image to uint8 prior to saving to suppress this warning.\n",
      "Lossy conversion from float16 to uint8. Range [0, 1]. Convert image to uint8 prior to saving to suppress this warning.\n",
      "Lossy conversion from float16 to uint8. Range [0, 1]. Convert image to uint8 prior to saving to suppress this warning.\n",
      "Lossy conversion from float16 to uint8. Range [0, 1]. Convert image to uint8 prior to saving to suppress this warning.\n",
      "Lossy conversion from float16 to uint8. Range [0, 1]. Convert image to uint8 prior to saving to suppress this warning.\n",
      "Lossy conversion from float16 to uint8. Range [0, 1]. Convert image to uint8 prior to saving to suppress this warning.\n",
      "Lossy conversion from float16 to uint8. Range [0, 1]. Convert image to uint8 prior to saving to suppress this warning.\n",
      "Lossy conversion from float16 to uint8. Range [0, 1]. Convert image to uint8 prior to saving to suppress this warning.\n",
      "Lossy conversion from float16 to uint8. Range [0, 1]. Convert image to uint8 prior to saving to suppress this warning.\n",
      "Lossy conversion from float16 to uint8. Range [0, 1]. Convert image to uint8 prior to saving to suppress this warning.\n",
      "Lossy conversion from float16 to uint8. Range [0, 1]. Convert image to uint8 prior to saving to suppress this warning.\n",
      "Lossy conversion from float16 to uint8. Range [0, 1]. Convert image to uint8 prior to saving to suppress this warning.\n",
      "Lossy conversion from float16 to uint8. Range [0, 1]. Convert image to uint8 prior to saving to suppress this warning.\n",
      "Lossy conversion from float16 to uint8. Range [0, 1]. Convert image to uint8 prior to saving to suppress this warning.\n",
      "Lossy conversion from float16 to uint8. Range [0, 1]. Convert image to uint8 prior to saving to suppress this warning.\n",
      "Lossy conversion from float16 to uint8. Range [0, 1]. Convert image to uint8 prior to saving to suppress this warning.\n",
      "Lossy conversion from float16 to uint8. Range [0, 1]. Convert image to uint8 prior to saving to suppress this warning.\n",
      "Lossy conversion from float16 to uint8. Range [0, 1]. Convert image to uint8 prior to saving to suppress this warning.\n",
      "Lossy conversion from float16 to uint8. Range [0, 1]. Convert image to uint8 prior to saving to suppress this warning.\n",
      "Lossy conversion from float16 to uint8. Range [0, 1]. Convert image to uint8 prior to saving to suppress this warning.\n",
      "Lossy conversion from float16 to uint8. Range [0, 1]. Convert image to uint8 prior to saving to suppress this warning.\n",
      "Lossy conversion from float16 to uint8. Range [0, 1]. Convert image to uint8 prior to saving to suppress this warning.\n",
      "Lossy conversion from float16 to uint8. Range [0, 1]. Convert image to uint8 prior to saving to suppress this warning.\n",
      "Lossy conversion from float16 to uint8. Range [0, 1]. Convert image to uint8 prior to saving to suppress this warning.\n",
      "Lossy conversion from float16 to uint8. Range [0, 1]. Convert image to uint8 prior to saving to suppress this warning.\n",
      "Lossy conversion from float16 to uint8. Range [0, 1]. Convert image to uint8 prior to saving to suppress this warning.\n",
      "Lossy conversion from float16 to uint8. Range [0, 1]. Convert image to uint8 prior to saving to suppress this warning.\n",
      "Lossy conversion from float16 to uint8. Range [0, 1]. Convert image to uint8 prior to saving to suppress this warning.\n",
      "Lossy conversion from float16 to uint8. Range [0, 1]. Convert image to uint8 prior to saving to suppress this warning.\n",
      "Lossy conversion from float16 to uint8. Range [0, 1]. Convert image to uint8 prior to saving to suppress this warning.\n",
      "Lossy conversion from float16 to uint8. Range [0, 1]. Convert image to uint8 prior to saving to suppress this warning.\n",
      "Lossy conversion from float16 to uint8. Range [0, 1]. Convert image to uint8 prior to saving to suppress this warning.\n",
      "Lossy conversion from float16 to uint8. Range [0, 1]. Convert image to uint8 prior to saving to suppress this warning.\n",
      "Lossy conversion from float16 to uint8. Range [0, 1]. Convert image to uint8 prior to saving to suppress this warning.\n",
      "Lossy conversion from float16 to uint8. Range [0, 1]. Convert image to uint8 prior to saving to suppress this warning.\n",
      "Lossy conversion from float16 to uint8. Range [0, 1]. Convert image to uint8 prior to saving to suppress this warning.\n",
      "Lossy conversion from float16 to uint8. Range [0, 1]. Convert image to uint8 prior to saving to suppress this warning.\n",
      "Lossy conversion from float16 to uint8. Range [0, 1]. Convert image to uint8 prior to saving to suppress this warning.\n",
      "Lossy conversion from float16 to uint8. Range [0, 1]. Convert image to uint8 prior to saving to suppress this warning.\n",
      "Lossy conversion from float16 to uint8. Range [0, 1]. Convert image to uint8 prior to saving to suppress this warning.\n",
      "Lossy conversion from float16 to uint8. Range [0, 1]. Convert image to uint8 prior to saving to suppress this warning.\n",
      "Lossy conversion from float16 to uint8. Range [0, 1]. Convert image to uint8 prior to saving to suppress this warning.\n",
      "Lossy conversion from float16 to uint8. Range [0, 1]. Convert image to uint8 prior to saving to suppress this warning.\n",
      "Lossy conversion from float16 to uint8. Range [0, 1]. Convert image to uint8 prior to saving to suppress this warning.\n",
      "Lossy conversion from float16 to uint8. Range [0, 1]. Convert image to uint8 prior to saving to suppress this warning.\n",
      "Lossy conversion from float16 to uint8. Range [0, 1]. Convert image to uint8 prior to saving to suppress this warning.\n",
      "Lossy conversion from float16 to uint8. Range [0, 1]. Convert image to uint8 prior to saving to suppress this warning.\n",
      "Lossy conversion from float16 to uint8. Range [0, 1]. Convert image to uint8 prior to saving to suppress this warning.\n",
      "Lossy conversion from float16 to uint8. Range [0, 1]. Convert image to uint8 prior to saving to suppress this warning.\n",
      "Lossy conversion from float16 to uint8. Range [0, 1]. Convert image to uint8 prior to saving to suppress this warning.\n",
      "Lossy conversion from float16 to uint8. Range [0, 1]. Convert image to uint8 prior to saving to suppress this warning.\n",
      "Lossy conversion from float16 to uint8. Range [0, 1]. Convert image to uint8 prior to saving to suppress this warning.\n",
      "Lossy conversion from float16 to uint8. Range [0, 1]. Convert image to uint8 prior to saving to suppress this warning.\n",
      "Lossy conversion from float16 to uint8. Range [0, 1]. Convert image to uint8 prior to saving to suppress this warning.\n",
      "Lossy conversion from float16 to uint8. Range [0, 1]. Convert image to uint8 prior to saving to suppress this warning.\n",
      "Lossy conversion from float16 to uint8. Range [0, 1]. Convert image to uint8 prior to saving to suppress this warning.\n",
      "Lossy conversion from float16 to uint8. Range [0, 1]. Convert image to uint8 prior to saving to suppress this warning.\n",
      "Lossy conversion from float16 to uint8. Range [0, 1]. Convert image to uint8 prior to saving to suppress this warning.\n",
      "Lossy conversion from float16 to uint8. Range [0, 1]. Convert image to uint8 prior to saving to suppress this warning.\n",
      "Lossy conversion from float16 to uint8. Range [0, 1]. Convert image to uint8 prior to saving to suppress this warning.\n",
      "Lossy conversion from float16 to uint8. Range [0, 1]. Convert image to uint8 prior to saving to suppress this warning.\n",
      "Lossy conversion from float16 to uint8. Range [0, 1]. Convert image to uint8 prior to saving to suppress this warning.\n",
      "Lossy conversion from float16 to uint8. Range [0, 1]. Convert image to uint8 prior to saving to suppress this warning.\n",
      "Lossy conversion from float16 to uint8. Range [0, 1]. Convert image to uint8 prior to saving to suppress this warning.\n",
      "Lossy conversion from float16 to uint8. Range [0, 1]. Convert image to uint8 prior to saving to suppress this warning.\n",
      "Lossy conversion from float16 to uint8. Range [0, 1]. Convert image to uint8 prior to saving to suppress this warning.\n",
      "Lossy conversion from float16 to uint8. Range [0, 1]. Convert image to uint8 prior to saving to suppress this warning.\n",
      "Lossy conversion from float16 to uint8. Range [0, 1]. Convert image to uint8 prior to saving to suppress this warning.\n",
      "Lossy conversion from float16 to uint8. Range [0, 1]. Convert image to uint8 prior to saving to suppress this warning.\n",
      "Lossy conversion from float16 to uint8. Range [0, 1]. Convert image to uint8 prior to saving to suppress this warning.\n",
      "Lossy conversion from float16 to uint8. Range [0, 1]. Convert image to uint8 prior to saving to suppress this warning.\n",
      "Lossy conversion from float16 to uint8. Range [0, 1]. Convert image to uint8 prior to saving to suppress this warning.\n",
      "Lossy conversion from float16 to uint8. Range [0, 1]. Convert image to uint8 prior to saving to suppress this warning.\n",
      "Lossy conversion from float16 to uint8. Range [0, 1]. Convert image to uint8 prior to saving to suppress this warning.\n",
      "Lossy conversion from float16 to uint8. Range [0, 1]. Convert image to uint8 prior to saving to suppress this warning.\n",
      "Lossy conversion from float16 to uint8. Range [0, 1]. Convert image to uint8 prior to saving to suppress this warning.\n",
      "Lossy conversion from float16 to uint8. Range [0, 1]. Convert image to uint8 prior to saving to suppress this warning.\n",
      "Lossy conversion from float16 to uint8. Range [0, 1]. Convert image to uint8 prior to saving to suppress this warning.\n",
      "Lossy conversion from float16 to uint8. Range [0, 1]. Convert image to uint8 prior to saving to suppress this warning.\n",
      "Lossy conversion from float16 to uint8. Range [0, 1]. Convert image to uint8 prior to saving to suppress this warning.\n",
      "Lossy conversion from float16 to uint8. Range [0, 1]. Convert image to uint8 prior to saving to suppress this warning.\n",
      "Lossy conversion from float16 to uint8. Range [0, 1]. Convert image to uint8 prior to saving to suppress this warning.\n",
      "Lossy conversion from float16 to uint8. Range [0, 1]. Convert image to uint8 prior to saving to suppress this warning.\n",
      "Lossy conversion from float16 to uint8. Range [0, 1]. Convert image to uint8 prior to saving to suppress this warning.\n",
      "Lossy conversion from float16 to uint8. Range [0, 1]. Convert image to uint8 prior to saving to suppress this warning.\n",
      "Lossy conversion from float16 to uint8. Range [0, 1]. Convert image to uint8 prior to saving to suppress this warning.\n",
      "Lossy conversion from float16 to uint8. Range [0, 1]. Convert image to uint8 prior to saving to suppress this warning.\n",
      "Lossy conversion from float16 to uint8. Range [0, 1]. Convert image to uint8 prior to saving to suppress this warning.\n",
      "Lossy conversion from float16 to uint8. Range [0, 1]. Convert image to uint8 prior to saving to suppress this warning.\n",
      "Lossy conversion from float16 to uint8. Range [0, 1]. Convert image to uint8 prior to saving to suppress this warning.\n",
      "Lossy conversion from float16 to uint8. Range [0, 1]. Convert image to uint8 prior to saving to suppress this warning.\n",
      "Lossy conversion from float16 to uint8. Range [0, 1]. Convert image to uint8 prior to saving to suppress this warning.\n",
      "Lossy conversion from float16 to uint8. Range [0, 1]. Convert image to uint8 prior to saving to suppress this warning.\n",
      "Lossy conversion from float16 to uint8. Range [0, 1]. Convert image to uint8 prior to saving to suppress this warning.\n",
      "Lossy conversion from float16 to uint8. Range [0, 1]. Convert image to uint8 prior to saving to suppress this warning.\n",
      "Lossy conversion from float16 to uint8. Range [0, 1]. Convert image to uint8 prior to saving to suppress this warning.\n",
      "Lossy conversion from float16 to uint8. Range [0, 1]. Convert image to uint8 prior to saving to suppress this warning.\n",
      "Lossy conversion from float16 to uint8. Range [0, 1]. Convert image to uint8 prior to saving to suppress this warning.\n",
      "Lossy conversion from float16 to uint8. Range [0, 1]. Convert image to uint8 prior to saving to suppress this warning.\n",
      "Lossy conversion from float16 to uint8. Range [0, 1]. Convert image to uint8 prior to saving to suppress this warning.\n",
      "Lossy conversion from float16 to uint8. Range [0, 1]. Convert image to uint8 prior to saving to suppress this warning.\n",
      "Lossy conversion from float16 to uint8. Range [0, 1]. Convert image to uint8 prior to saving to suppress this warning.\n",
      "Lossy conversion from float16 to uint8. Range [0, 1]. Convert image to uint8 prior to saving to suppress this warning.\n",
      "Lossy conversion from float16 to uint8. Range [0, 1]. Convert image to uint8 prior to saving to suppress this warning.\n",
      "Lossy conversion from float16 to uint8. Range [0, 1]. Convert image to uint8 prior to saving to suppress this warning.\n",
      "Lossy conversion from float16 to uint8. Range [0, 1]. Convert image to uint8 prior to saving to suppress this warning.\n",
      "Lossy conversion from float16 to uint8. Range [0, 1]. Convert image to uint8 prior to saving to suppress this warning.\n",
      "Lossy conversion from float16 to uint8. Range [0, 1]. Convert image to uint8 prior to saving to suppress this warning.\n",
      "Lossy conversion from float16 to uint8. Range [0, 1]. Convert image to uint8 prior to saving to suppress this warning.\n",
      "Lossy conversion from float16 to uint8. Range [0, 1]. Convert image to uint8 prior to saving to suppress this warning.\n",
      "Lossy conversion from float16 to uint8. Range [0, 1]. Convert image to uint8 prior to saving to suppress this warning.\n",
      "Lossy conversion from float16 to uint8. Range [0, 1]. Convert image to uint8 prior to saving to suppress this warning.\n",
      "Lossy conversion from float16 to uint8. Range [0, 1]. Convert image to uint8 prior to saving to suppress this warning.\n",
      "Lossy conversion from float16 to uint8. Range [0, 1]. Convert image to uint8 prior to saving to suppress this warning.\n",
      "Lossy conversion from float16 to uint8. Range [0, 1]. Convert image to uint8 prior to saving to suppress this warning.\n",
      "Lossy conversion from float16 to uint8. Range [0, 1]. Convert image to uint8 prior to saving to suppress this warning.\n",
      "Lossy conversion from float16 to uint8. Range [0, 1]. Convert image to uint8 prior to saving to suppress this warning.\n",
      "Lossy conversion from float16 to uint8. Range [0, 1]. Convert image to uint8 prior to saving to suppress this warning.\n",
      "Lossy conversion from float16 to uint8. Range [0, 1]. Convert image to uint8 prior to saving to suppress this warning.\n",
      "Lossy conversion from float16 to uint8. Range [0, 1]. Convert image to uint8 prior to saving to suppress this warning.\n",
      "Lossy conversion from float16 to uint8. Range [0, 1]. Convert image to uint8 prior to saving to suppress this warning.\n",
      "Lossy conversion from float16 to uint8. Range [0, 1]. Convert image to uint8 prior to saving to suppress this warning.\n",
      "Lossy conversion from float16 to uint8. Range [0, 1]. Convert image to uint8 prior to saving to suppress this warning.\n",
      "Lossy conversion from float16 to uint8. Range [0, 1]. Convert image to uint8 prior to saving to suppress this warning.\n",
      "Lossy conversion from float16 to uint8. Range [0, 1]. Convert image to uint8 prior to saving to suppress this warning.\n",
      "Lossy conversion from float16 to uint8. Range [0, 1]. Convert image to uint8 prior to saving to suppress this warning.\n",
      "Lossy conversion from float16 to uint8. Range [0, 1]. Convert image to uint8 prior to saving to suppress this warning.\n",
      "Lossy conversion from float16 to uint8. Range [0, 1]. Convert image to uint8 prior to saving to suppress this warning.\n",
      "Lossy conversion from float16 to uint8. Range [0, 1]. Convert image to uint8 prior to saving to suppress this warning.\n",
      "Lossy conversion from float16 to uint8. Range [0, 1]. Convert image to uint8 prior to saving to suppress this warning.\n",
      "Lossy conversion from float16 to uint8. Range [0, 1]. Convert image to uint8 prior to saving to suppress this warning.\n",
      "Lossy conversion from float16 to uint8. Range [0, 1]. Convert image to uint8 prior to saving to suppress this warning.\n",
      "Lossy conversion from float16 to uint8. Range [0, 1]. Convert image to uint8 prior to saving to suppress this warning.\n",
      "Lossy conversion from float16 to uint8. Range [0, 1]. Convert image to uint8 prior to saving to suppress this warning.\n",
      "Lossy conversion from float16 to uint8. Range [0, 1]. Convert image to uint8 prior to saving to suppress this warning.\n",
      "Lossy conversion from float16 to uint8. Range [0, 1]. Convert image to uint8 prior to saving to suppress this warning.\n",
      "Lossy conversion from float16 to uint8. Range [0, 1]. Convert image to uint8 prior to saving to suppress this warning.\n",
      "Lossy conversion from float16 to uint8. Range [0, 1]. Convert image to uint8 prior to saving to suppress this warning.\n",
      "Lossy conversion from float16 to uint8. Range [0, 1]. Convert image to uint8 prior to saving to suppress this warning.\n",
      "Lossy conversion from float16 to uint8. Range [0, 1]. Convert image to uint8 prior to saving to suppress this warning.\n",
      "Lossy conversion from float16 to uint8. Range [0, 1]. Convert image to uint8 prior to saving to suppress this warning.\n",
      "Lossy conversion from float16 to uint8. Range [0, 1]. Convert image to uint8 prior to saving to suppress this warning.\n",
      "Lossy conversion from float16 to uint8. Range [0, 1]. Convert image to uint8 prior to saving to suppress this warning.\n",
      "Lossy conversion from float16 to uint8. Range [0, 1]. Convert image to uint8 prior to saving to suppress this warning.\n",
      "Lossy conversion from float16 to uint8. Range [0, 1]. Convert image to uint8 prior to saving to suppress this warning.\n",
      "Lossy conversion from float16 to uint8. Range [0, 1]. Convert image to uint8 prior to saving to suppress this warning.\n",
      "Lossy conversion from float16 to uint8. Range [0, 1]. Convert image to uint8 prior to saving to suppress this warning.\n",
      "Lossy conversion from float16 to uint8. Range [0, 1]. Convert image to uint8 prior to saving to suppress this warning.\n",
      "Lossy conversion from float16 to uint8. Range [0, 1]. Convert image to uint8 prior to saving to suppress this warning.\n",
      "Lossy conversion from float16 to uint8. Range [0, 1]. Convert image to uint8 prior to saving to suppress this warning.\n",
      "Lossy conversion from float16 to uint8. Range [0, 1]. Convert image to uint8 prior to saving to suppress this warning.\n",
      "Lossy conversion from float16 to uint8. Range [0, 1]. Convert image to uint8 prior to saving to suppress this warning.\n",
      "Lossy conversion from float16 to uint8. Range [0, 1]. Convert image to uint8 prior to saving to suppress this warning.\n",
      "Lossy conversion from float16 to uint8. Range [0, 1]. Convert image to uint8 prior to saving to suppress this warning.\n",
      "Lossy conversion from float16 to uint8. Range [0, 1]. Convert image to uint8 prior to saving to suppress this warning.\n",
      "Lossy conversion from float16 to uint8. Range [0, 1]. Convert image to uint8 prior to saving to suppress this warning.\n",
      "Lossy conversion from float16 to uint8. Range [0, 1]. Convert image to uint8 prior to saving to suppress this warning.\n",
      "Lossy conversion from float16 to uint8. Range [0, 1]. Convert image to uint8 prior to saving to suppress this warning.\n",
      "Lossy conversion from float16 to uint8. Range [0, 1]. Convert image to uint8 prior to saving to suppress this warning.\n",
      "Lossy conversion from float16 to uint8. Range [0, 1]. Convert image to uint8 prior to saving to suppress this warning.\n",
      "Lossy conversion from float16 to uint8. Range [0, 1]. Convert image to uint8 prior to saving to suppress this warning.\n",
      "Lossy conversion from float16 to uint8. Range [0, 1]. Convert image to uint8 prior to saving to suppress this warning.\n",
      "Lossy conversion from float16 to uint8. Range [0, 1]. Convert image to uint8 prior to saving to suppress this warning.\n",
      "Lossy conversion from float16 to uint8. Range [0, 1]. Convert image to uint8 prior to saving to suppress this warning.\n",
      "Lossy conversion from float16 to uint8. Range [0, 1]. Convert image to uint8 prior to saving to suppress this warning.\n",
      "Lossy conversion from float16 to uint8. Range [0, 1]. Convert image to uint8 prior to saving to suppress this warning.\n",
      "Lossy conversion from float16 to uint8. Range [0, 1]. Convert image to uint8 prior to saving to suppress this warning.\n",
      "Lossy conversion from float16 to uint8. Range [0, 1]. Convert image to uint8 prior to saving to suppress this warning.\n"
     ]
    },
    {
     "data": {
      "text/html": [
       "\n",
       "  <video width=\"640\" height=\"480\" controls>\n",
       "    <source src=\"data:video/mp4;base64,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\" type=\"video/mp4\">\n",
       "  Your browser does not support the video tag.\n",
       "  </video>"
      ],
      "text/plain": [
       "<IPython.core.display.HTML object>"
      ]
     },
     "execution_count": 8,
     "metadata": {},
     "output_type": "execute_result"
    }
   ],
   "source": [
    "filename = 'observations.mp4'\n",
    "with imageio.get_writer(filename, mode='I', macro_block_size=None) as video:    \n",
    "    for image in range(len(data)):\n",
    "        video.append_data(data[image])\n",
    "embed_mp4(filename,video)"
   ]
  },
  {
   "cell_type": "code",
   "execution_count": null,
   "metadata": {},
   "outputs": [],
   "source": []
  }
 ],
 "metadata": {
  "kernelspec": {
   "display_name": "venv",
   "language": "python",
   "name": "venv"
  },
  "language_info": {
   "codemirror_mode": {
    "name": "ipython",
    "version": 3
   },
   "file_extension": ".py",
   "mimetype": "text/x-python",
   "name": "python",
   "nbconvert_exporter": "python",
   "pygments_lexer": "ipython3",
   "version": "3.6.8"
  }
 },
 "nbformat": 4,
 "nbformat_minor": 4
}
