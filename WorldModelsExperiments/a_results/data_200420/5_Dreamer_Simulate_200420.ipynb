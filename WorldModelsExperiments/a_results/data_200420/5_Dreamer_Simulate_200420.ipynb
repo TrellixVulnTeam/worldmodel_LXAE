{
 "cells": [
  {
   "cell_type": "markdown",
   "metadata": {},
   "source": [
    "# Simulate Dreamer"
   ]
  },
  {
   "cell_type": "markdown",
   "metadata": {},
   "source": [
    "simulate the loop with \n",
    "* get action from z with Controller and RNN\n",
    "* step:\n",
    "  * sample next z with RNN\n",
    "  * done= False until certain level of steps is reached\n",
    "  * reward = 0 - always"
   ]
  },
  {
   "cell_type": "code",
   "execution_count": 1,
   "metadata": {},
   "outputs": [],
   "source": [
    "import numpy as np\n",
    "import tensorflow as tf\n",
    "import os \n",
    "import json\n",
    "import numpy as np\n",
    "from gym.envs.atari.atari_env import AtariEnv\n",
    "from gym.spaces.box import Box\n",
    "from gym.utils import seeding\n",
    "from PIL import Image"
   ]
  },
  {
   "cell_type": "code",
   "execution_count": 2,
   "metadata": {},
   "outputs": [],
   "source": [
    "import sys\n",
    "from pathlib import Path\n",
    "path = str(Path(os.getcwd()).parent.parent)\n",
    "sys.path.insert(0, path)\n",
    "\n",
    "from breakout.vae.vae import ConvVAE\n",
    "from breakout.rnn.rnn import RNNModel, hps_sample, rnn_init_state, rnn_next_state, rnn_output, rnn_output_size"
   ]
  },
  {
   "cell_type": "code",
   "execution_count": 3,
   "metadata": {},
   "outputs": [],
   "source": [
    "load_model = True\n",
    "rnn_path='/home/student/Dropbox/MA/worldmodel/worldmodel-breakout-server-version-v3/200420/tf_rnn/rnn.json'\n",
    "vae_path='/home/student/Dropbox/MA/worldmodel/worldmodel-breakout-server-version-v3/200420/tf_vae/vae.json'\n",
    "\n",
    "file = '/home/student/Dropbox/MA/worldmodel/worldmodel-breakout-server-version-v3/200420/log/breakout.cma.16.32.best.json'\n",
    "\n",
    "num_episode = 1\n",
    "frame_limit = 500"
   ]
  },
  {
   "cell_type": "code",
   "execution_count": 4,
   "metadata": {},
   "outputs": [],
   "source": [
    "SCREEN_X = 64\n",
    "SCREEN_Y = 64\n",
    "FACTOR = 3"
   ]
  },
  {
   "cell_type": "code",
   "execution_count": 5,
   "metadata": {},
   "outputs": [],
   "source": [
    "with open(os.path.join('/home/student/Dropbox/MA/worldmodel/worldmodel-breakout-server-version-v3/200420/tf_initial_z', 'initial_z.json'), 'r') as f:\n",
    "    [initial_mu, initial_logvar] = json.load(f)\n",
    "\n",
    "initial_mu_logvar = [list(elem) for elem in zip(initial_mu, initial_logvar)]"
   ]
  },
  {
   "cell_type": "code",
   "execution_count": 7,
   "metadata": {},
   "outputs": [],
   "source": [
    "seq_length = num_episode*frame_limit+1\n",
    "img_sequence = np.zeros(shape=(seq_length,64,64,3))"
   ]
  },
  {
   "cell_type": "code",
   "execution_count": 8,
   "metadata": {},
   "outputs": [],
   "source": [
    "def get_pi_idx(x, pdf):\n",
    "    N = pdf.size\n",
    "    accumulate = 0\n",
    "    for i in range(0, N):\n",
    "        accumulate += pdf[i]\n",
    "        if (accumulate >= x):\n",
    "            return i\n",
    "    print('error with sampling ensemble')\n",
    "    return -1"
   ]
  },
  {
   "cell_type": "code",
   "execution_count": 24,
   "metadata": {},
   "outputs": [],
   "source": [
    "class BreakoutDream(AtariEnv):\n",
    "    metadata = {\n",
    "        'render.modes':['human', 'rgb_array']\n",
    "    }\n",
    "    def __init__(self, agent, frame_limit):\n",
    "        self.observation_space = Box(low=0, high=255., shape=(64,64,3))\n",
    "        self.agent = agent\n",
    "        self.vae = agent.vae\n",
    "        self.rnn = agent.rnn\n",
    "        self.z_size = self.rnn.hps.encoded_img_width\n",
    "        self.viewer = None\n",
    "        self.frame_count = None\n",
    "        self.frame_limit = frame_limit\n",
    "        self.z = None\n",
    "        self.temperature = 0.7\n",
    "        self.seq_counter=0\n",
    "\n",
    "    def _seed(self, seed=None):\n",
    "        self.np_random, seed = seeding.np_random(seed)\n",
    "        return [seed]\n",
    "\n",
    "    def _sample_next_z(self, action):\n",
    "        r_model = self.rnn\n",
    "        temp = self.temperature\n",
    "\n",
    "        sess = r_model.sess\n",
    "        hps = r_model.hps\n",
    "\n",
    "        prev_x = np.zeros((1, 1, self.z_size))\n",
    "        prev_x[0][0] = self.z\n",
    "\n",
    "        input_x = np.concatenate((prev_x, action.reshape(1, 1, 4)), axis=2)\n",
    "        feed = {\n",
    "            r_model.input_x : input_x,\n",
    "            r_model.initial_state: self.agent.state\n",
    "        }\n",
    "        [logmix, mean, logstd, self.agent.state] = sess.run(\n",
    "            [r_model.out_logmix, r_model.out_mean, r_model.out_logstd, r_model.final_state], feed)\n",
    "\n",
    "        # adjust temperatures\n",
    "        logmix2 = np.copy(logmix) / temp\n",
    "        logmix2 -= logmix2.max()\n",
    "        logmix2 = np.exp(logmix2)\n",
    "        logmix2 /= logmix2.sum(axis=1).reshape(self.z_size, 1)\n",
    "\n",
    "        mixture_idx = np.zeros(self.z_size)\n",
    "        chosen_mean = np.zeros(self.z_size)\n",
    "        chosen_logstd = np.zeros(self.z_size)\n",
    "        for j in range(self.z_size):\n",
    "            idx = get_pi_idx(self.np_random.rand(), logmix2[j])\n",
    "            mixture_idx[j] = idx\n",
    "            chosen_mean[j] = mean[j][idx]\n",
    "            chosen_logstd[j] = logstd[j][idx]\n",
    "\n",
    "        rand_gaussian = self.np_random.randn(self.z_size)*np.sqrt(temp)\n",
    "        next_x = chosen_mean + np.exp(chosen_logstd)*rand_gaussian\n",
    "\n",
    "        next_z = next_x.reshape(self.z_size)\n",
    "\n",
    "        return next_z\n",
    "\n",
    "    def _reset(self):\n",
    "        idx = self.np_random.randint(0,len(initial_mu_logvar))\n",
    "        init_mu, init_logvar = initial_mu_logvar[idx]\n",
    "        init_mu = np.array(init_mu)/10000.\n",
    "        init_logvar = np.array(init_logvar)/10000.\n",
    "        \n",
    "        self.z = init_mu + np.exp(init_logvar/2.0) * self.np_random.randn(*init_logvar.shape)\n",
    "\n",
    "        self.frame_count = 0\n",
    "        return self.z\n",
    "\n",
    "    def _step(self, action_one_hot):\n",
    "        self.frame_count += 1\n",
    "        next_z = self._sample_next_z(action_one_hot)\n",
    "        reward = 0\n",
    "        done = False\n",
    "        if self.frame_count > self.frame_limit:\n",
    "            done = True\n",
    "        self.z = next_z\n",
    "        return next_z, reward, done, {}\n",
    "\n",
    "    def _render(self, mode='human', close = False):\n",
    "        img = self.vae.decode(self.z.reshape(1, self.z_size))*255.\n",
    "        img = np.round(img).astype(np.uint8)\n",
    "        img = img.reshape(64,64,3)\n",
    "        \n",
    "        seq_counter = self.seq_counter\n",
    "        img_sequence[seq_counter,:,:,:] = img\n",
    "        seq_counter+=1\n",
    "        self.seq_counter = seq_counter\n",
    "\n",
    "        img = Image.fromarray(img)\n",
    "        img_resize = img.resize(size=(int(np.round(SCREEN_Y*FACTOR)), int(np.round(SCREEN_X*FACTOR))))\n",
    "        img_resize = np.array(img_resize)\n",
    "\n",
    "        if close:\n",
    "            if self.viewer is not None:\n",
    "                self.viewer.close()\n",
    "                self.viewer = None\n",
    "            return\n",
    "\n",
    "        if mode == 'rgb_array':\n",
    "            return img_resize\n",
    "        elif mode == 'human':\n",
    "            from gym.envs.classic_control import rendering\n",
    "            if self.viewer is None:\n",
    "                self.viewer = rendering.SimpleImageViewer()\n",
    "            self.viewer.imshow(img_resize)"
   ]
  },
  {
   "cell_type": "code",
   "execution_count": 25,
   "metadata": {},
   "outputs": [],
   "source": [
    "def make_env(env_name, agent, frame_limit, seed=-1, render_mode = False):\n",
    "    env = BreakoutDream(agent, frame_limit)\n",
    "    if seed<0:\n",
    "        seed = np.random.randint(2**31-1)\n",
    "    env.seed(seed)\n",
    "    return env"
   ]
  },
  {
   "cell_type": "code",
   "execution_count": 11,
   "metadata": {},
   "outputs": [],
   "source": [
    "def softmax(x):\n",
    "    return np.exp(x)/ np.sum(np.exp(x), axis=0)"
   ]
  },
  {
   "cell_type": "code",
   "execution_count": 26,
   "metadata": {},
   "outputs": [],
   "source": [
    "class DreamModel():\n",
    "    def __init__(self, load_model=True,   rnn_path='tf_rnn/rnn.json', vae_path='tf_vae/vae.json', frame_limit=1200):\n",
    "        self.env_name = 'Breakout-v0'\n",
    "\n",
    "        self.vae = ConvVAE(batch_size=1, gpu_mode=False, is_training=False, reuse=True)\n",
    "        self.rnn = RNNModel(hps_sample, gpu_mode=False, reuse=True)\n",
    "\n",
    "        if load_model:\n",
    "            self.vae.load_json(vae_path)  # vae_path)\n",
    "            self.rnn.load_json(rnn_path)\n",
    "\n",
    "        self.frame_limit=frame_limit\n",
    "        self._make_env()\n",
    "\n",
    "        self.state = rnn_init_state(self.rnn)\n",
    "        self.rnn_mode = True\n",
    "\n",
    "        self.input_size = rnn_output_size()\n",
    "        self.z_size = 32\n",
    "\n",
    "        self.render_mode = False\n",
    "\n",
    "    def _make_env(self, seed=-1, render_mode =False):\n",
    "        self.render_mode = render_mode\n",
    "        self.env = make_env(self.env_name, agent = self, frame_limit= self.frame_limit, seed = seed)\n",
    "\n",
    "    def reset(self):\n",
    "        self.state = rnn_init_state(self.rnn)\n",
    "\n",
    "    def encode_obs(self, obs):\n",
    "        result = np.expand_dims(obs, axis=0)\n",
    "        mu, logvar = self.vae.encode_mu_logvar(result)\n",
    "        mu = mu[0]\n",
    "        logvar = logvar[0]\n",
    "        s = logvar.shape\n",
    "        z = mu + np.exp(logvar / 2.0) * np.random.randn(*s)\n",
    "        return z, mu, logvar\n",
    "\n",
    "    def get_action(self, z):\n",
    "        h = rnn_output(self.state, z)\n",
    "        action = softmax(np.matmul(h, self.weight) + self.bias)\n",
    "        action = np.argmax(action)\n",
    "        action_one_hot = np.zeros(self.rnn.hps.num_actions)\n",
    "        action_one_hot[action] = 1\n",
    "        self.state = rnn_next_state(self.rnn, z, action_one_hot, self.state)\n",
    "        return action_one_hot, action\n",
    "\n",
    "    def set_model_params(self, model_params):\n",
    "        self.bias = np.array(model_params[:4])\n",
    "        self.weight = np.array(model_params[4:]).reshape(self.input_size, 4)\n",
    "\n",
    "    def load_model(self, filename):\n",
    "        with open(filename) as f:\n",
    "            data = json.load(f)\n",
    "        print('loading file %s' % (filename))\n",
    "        self.data = data\n",
    "        model_params = np.array(data[0])  # assuming other stuff is in data\n",
    "        self.set_model_params(model_params)"
   ]
  },
  {
   "cell_type": "code",
   "execution_count": 27,
   "metadata": {},
   "outputs": [
    {
     "name": "stdout",
     "output_type": "stream",
     "text": [
      "INFO:tensorflow:Model using cpu.\n"
     ]
    }
   ],
   "source": [
    "model = DreamModel(load_model, rnn_path, vae_path, frame_limit=frame_limit)"
   ]
  },
  {
   "cell_type": "code",
   "execution_count": 28,
   "metadata": {},
   "outputs": [
    {
     "name": "stdout",
     "output_type": "stream",
     "text": [
      "loading file /home/student/Dropbox/MA/worldmodel/worldmodel-breakout-server-version-v3/200420/log/breakout.cma.16.32.best.json\n"
     ]
    }
   ],
   "source": [
    "model.load_model(file)"
   ]
  },
  {
   "cell_type": "code",
   "execution_count": 29,
   "metadata": {},
   "outputs": [],
   "source": [
    "def simulate(model, train_mode=False, render_mode=False, num_episode=1, seed=-1, max_len=-1):\n",
    "    reward_list = []\n",
    "    t_list= []\n",
    "    action_list = []\n",
    "    z_sumsquare = []\n",
    "    max_episode_length = 2100\n",
    "\n",
    "    if max_len>0:\n",
    "        max_episode_length = max_len\n",
    "\n",
    "    if (seed >= 0):\n",
    "        random.seed(seed)\n",
    "        np.random.seed(seed)\n",
    "        model.env.seed(seed)\n",
    "\n",
    "    for episode in range(num_episode):\n",
    "        model.reset()\n",
    "        z = model.env.reset()\n",
    "\n",
    "        for t in range(max_episode_length):\n",
    "            action_one_hot, action = model.get_action(z)\n",
    "            action_list.append(action)\n",
    "\n",
    "            if render_mode:\n",
    "                model.env.render('human')\n",
    "            else:\n",
    "                model.env.render('rgb_array')\n",
    "\n",
    "\n",
    "            z, reward, done, info = model.env.step(action_one_hot) # two problems here: where to get reward and done info ?\n",
    "            z_sumsquare.append(np.sum(np.square(z)))\n",
    "\n",
    "            if done:\n",
    "                model.env.viewer.close()\n",
    "                model.env.viewer = None\n",
    "                break\n",
    "        t_list.append(t)\n",
    "\n",
    "    return reward_list, t_list, action_list, z_sumsquare"
   ]
  },
  {
   "cell_type": "code",
   "execution_count": 30,
   "metadata": {},
   "outputs": [
    {
     "name": "stdout",
     "output_type": "stream",
     "text": [
      "(32,)\n",
      "terminal reward:  []  ,average steps taken:  501.0\n"
     ]
    }
   ],
   "source": [
    "reward, steps_taken, action_list, z_sumsquare = simulate(model, train_mode=False, render_mode=True, num_episode=num_episode)\n",
    "print('terminal reward: ', reward, ' ,average steps taken: ', np.mean(steps_taken)+1)"
   ]
  },
  {
   "cell_type": "markdown",
   "metadata": {},
   "source": [
    "## Auswertung"
   ]
  },
  {
   "cell_type": "code",
   "execution_count": 17,
   "metadata": {},
   "outputs": [],
   "source": [
    "import matplotlib.pyplot as plt"
   ]
  },
  {
   "cell_type": "markdown",
   "metadata": {},
   "source": [
    "Action Distribution"
   ]
  },
  {
   "cell_type": "code",
   "execution_count": 18,
   "metadata": {},
   "outputs": [
    {
     "data": {
      "image/png": "[encoded data removed]",
      "text/plain": [
       "<Figure size 432x288 with 1 Axes>"
      ]
     },
     "metadata": {
      "needs_background": "light"
     },
     "output_type": "display_data"
    }
   ],
   "source": [
    "set_action = set(action_list)\n",
    "action_counted = []\n",
    "for action_elem in set_action:\n",
    "    action_counted.append(action_list.count(action_elem))\n",
    "\n",
    "plt.bar(list(set_action), action_counted)\n",
    "plt.title('Distribution of action in trial')\n",
    "plt.show()"
   ]
  },
  {
   "cell_type": "markdown",
   "metadata": {},
   "source": [
    "Evolving z"
   ]
  },
  {
   "cell_type": "code",
   "execution_count": 19,
   "metadata": {},
   "outputs": [
    {
     "data": {
      "image/png": "[encoded data removed]",
      "text/plain": [
       "<Figure size 432x288 with 1 Axes>"
      ]
     },
     "metadata": {
      "needs_background": "light"
     },
     "output_type": "display_data"
    }
   ],
   "source": [
    "plt.plot(z_sumsquare)\n",
    "plt.show()"
   ]
  },
  {
   "cell_type": "markdown",
   "metadata": {},
   "source": [
    "Video Sequence"
   ]
  },
  {
   "cell_type": "code",
   "execution_count": 20,
   "metadata": {},
   "outputs": [],
   "source": [
    "import base64\n",
    "import imageio\n",
    "import IPython"
   ]
  },
  {
   "cell_type": "code",
   "execution_count": 21,
   "metadata": {},
   "outputs": [],
   "source": [
    "def embed_mp4(filename,video):\n",
    "  \"\"\"Embeds an mp4 file in the notebook.\"\"\"\n",
    "  video = open(filename,'rb').read()\n",
    "  b64 = base64.b64encode(video)\n",
    "  tag = '''\n",
    "  <video width=\"400\" height=\"300\" controls>\n",
    "    <source src=\"data:video/mp4;base64,{0}\" type=\"video/mp4\">\n",
    "  Your browser does not support the video tag.\n",
    "  </video>'''.format(b64.decode())\n",
    "\n",
    "  return IPython.display.HTML(tag)"
   ]
  },
  {
   "cell_type": "code",
   "execution_count": 22,
   "metadata": {},
   "outputs": [
    {
     "data": {
      "text/plain": [
       "False"
      ]
     },
     "execution_count": 22,
     "metadata": {},
     "output_type": "execute_result"
    }
   ],
   "source": [
    "np.array_equal(img_sequence[5], img_sequence[6])"
   ]
  },
  {
   "cell_type": "code",
   "execution_count": 23,
   "metadata": {},
   "outputs": [
    {
     "data": {
      "text/html": [
       "\n",
       "  <video width=\"400\" height=\"300\" controls>\n",
       "    <source src=\"data:video/mp4;base64,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\" type=\"video/mp4\">\n",
       "  Your browser does not support the video tag.\n",
       "  </video>"
      ],
      "text/plain": [
       "<IPython.core.display.HTML object>"
      ]
     },
     "execution_count": 23,
     "metadata": {},
     "output_type": "execute_result"
    }
   ],
   "source": [
    "filename = 'simulate_sequence_200420.mp4'\n",
    "with imageio.get_writer(filename, mode='I', macro_block_size=None) as video:    \n",
    "    for image in range(len(img_sequence)):\n",
    "        video.append_data(img_sequence[image].astype(np.uint8))\n",
    "embed_mp4(filename,video)"
   ]
  },
  {
   "cell_type": "code",
   "execution_count": null,
   "metadata": {},
   "outputs": [],
   "source": []
  },
  {
   "cell_type": "code",
   "execution_count": null,
   "metadata": {},
   "outputs": [],
   "source": []
  },
  {
   "cell_type": "code",
   "execution_count": null,
   "metadata": {},
   "outputs": [],
   "source": []
  },
  {
   "cell_type": "code",
   "execution_count": null,
   "metadata": {},
   "outputs": [],
   "source": []
  }
 ],
 "metadata": {
  "kernelspec": {
   "display_name": "venv",
   "language": "python",
   "name": "venv"
  },
  "language_info": {
   "codemirror_mode": {
    "name": "ipython",
    "version": 3
   },
   "file_extension": ".py",
   "mimetype": "text/x-python",
   "name": "python",
   "nbconvert_exporter": "python",
   "pygments_lexer": "ipython3",
   "version": "3.6.8"
  }
 },
 "nbformat": 4,
 "nbformat_minor": 4
}
