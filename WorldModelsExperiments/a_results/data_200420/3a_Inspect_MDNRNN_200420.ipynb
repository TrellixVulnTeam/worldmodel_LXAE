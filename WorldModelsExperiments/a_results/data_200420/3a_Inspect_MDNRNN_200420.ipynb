{
 "cells": [
  {
   "cell_type": "markdown",
   "metadata": {},
   "source": [
    "# MDN_RNN\n",
    "___\n",
    "* MDN-RNN output: next latent vector z\n",
    "* see training params\n",
    "![title](RNN_Flow.png)\n",
    "\n",
    "* ...macht keinen Sinn"
   ]
  },
  {
   "cell_type": "code",
   "execution_count": 84,
   "metadata": {},
   "outputs": [
    {
     "name": "stdout",
     "output_type": "stream",
     "text": [
      "The autoreload extension is already loaded. To reload it, use:\n",
      "  %reload_ext autoreload\n"
     ]
    }
   ],
   "source": [
    "%load_ext autoreload\n",
    "%autoreload 2\n",
    "\n",
    "import tensorflow as tf\n",
    "import numpy as np\n",
    "import os\n",
    "import matplotlib.pyplot as plt\n",
    "import json\n",
    "from gym.utils import seeding\n"
   ]
  },
  {
   "cell_type": "code",
   "execution_count": 13,
   "metadata": {},
   "outputs": [],
   "source": [
    "from pathlib import Path\n",
    "path = str(Path(os.getcwd()).parent.parent)\n",
    "import_path = str(Path(os.getcwd()).parent.parent.parent)\n",
    "\n",
    "import sys\n",
    "sys.path.insert(0,path)\n",
    "from breakout.rnn.rnn import RNNModel, hps_sample, rnn_init_state\n",
    "from breakout.vae.vae import ConvVAE\n",
    "\n",
    "sys.path.insert(0, import_path)\n",
    "from WorldModelsExperiments.breakout.model import Model, _process_frame"
   ]
  },
  {
   "cell_type": "code",
   "execution_count": 14,
   "metadata": {},
   "outputs": [],
   "source": [
    "path = '/home/student/Dropbox/MA/worldmodel/worldmodel-breakout-server-version-v3/200420'\n",
    "rnn_path = path + '/tf_rnn'\n",
    "series_path = path + '/series'\n",
    "vae_path = path + '/tf_vae'\n",
    "obs_path = path + '/record'\n",
    "seq_len = 500\n"
   ]
  },
  {
   "cell_type": "markdown",
   "metadata": {},
   "source": [
    "## See MDN-RNN output\n",
    "Observation and Action are taken from the recorded data, only the state as rnn output is again input for the rnn"
   ]
  },
  {
   "cell_type": "code",
   "execution_count": 15,
   "metadata": {},
   "outputs": [
    {
     "name": "stdout",
     "output_type": "stream",
     "text": [
      "INFO:tensorflow:Model using cpu.\n"
     ]
    }
   ],
   "source": [
    "model = Model(load_model=True, rnn_path=os.path.join(rnn_path, 'rnn.json'), vae_path=os.path.join(vae_path, 'vae.json'))"
   ]
  },
  {
   "cell_type": "code",
   "execution_count": 16,
   "metadata": {},
   "outputs": [],
   "source": [
    "series = np.load(os.path.join(series_path,'series.npz'))\n",
    "data_mu = series['mu']\n",
    "data_logvar = series['logvar']\n",
    "data_action = series['action']"
   ]
  },
  {
   "cell_type": "code",
   "execution_count": 17,
   "metadata": {},
   "outputs": [
    {
     "data": {
      "text/plain": [
       "(500, 32)"
      ]
     },
     "execution_count": 17,
     "metadata": {},
     "output_type": "execute_result"
    }
   ],
   "source": [
    "data_mu[0].shape"
   ]
  },
  {
   "cell_type": "code",
   "execution_count": 18,
   "metadata": {},
   "outputs": [],
   "source": [
    "def get_pi_idx(x, pdf):\n",
    "  # samples from a categorial distribution\n",
    "    N = pdf.size\n",
    "    accumulate = 0\n",
    "    for i in range(0, N):\n",
    "        accumulate += pdf[i]\n",
    "        if (accumulate >= x):\n",
    "            return i\n",
    "    random_value = np.random.randint(N)\n",
    "    #print('error with sampling ensemble, returning random', random_value)\n",
    "    return random_value"
   ]
  },
  {
   "cell_type": "code",
   "execution_count": 19,
   "metadata": {},
   "outputs": [],
   "source": [
    "def sample_z(mu, log_sigma):\n",
    "    z =  mu + (np.exp(log_sigma)) * np_random.randn(*log_sigma.shape) * 0.5\n",
    "    return z"
   ]
  },
  {
   "cell_type": "code",
   "execution_count": 20,
   "metadata": {},
   "outputs": [
    {
     "data": {
      "text/plain": [
       "(500, 32)"
      ]
     },
     "execution_count": 20,
     "metadata": {},
     "output_type": "execute_result"
    }
   ],
   "source": [
    "z_ofwholeobs = np.zeros((seq_len, 32), dtype=np.float32)\n",
    "z_ofwholeobs.shape"
   ]
  },
  {
   "cell_type": "code",
   "execution_count": 21,
   "metadata": {},
   "outputs": [
    {
     "data": {
      "text/plain": [
       "(500, 32)"
      ]
     },
     "execution_count": 21,
     "metadata": {},
     "output_type": "execute_result"
    }
   ],
   "source": [
    "data_mu[5].shape"
   ]
  },
  {
   "cell_type": "code",
   "execution_count": 22,
   "metadata": {},
   "outputs": [
    {
     "data": {
      "text/plain": [
       "(256,)"
      ]
     },
     "execution_count": 22,
     "metadata": {},
     "output_type": "execute_result"
    }
   ],
   "source": [
    "state = model.state\n",
    "state.h[0].shape"
   ]
  },
  {
   "cell_type": "code",
   "execution_count": 23,
   "metadata": {},
   "outputs": [
    {
     "data": {
      "text/plain": [
       "(32,)"
      ]
     },
     "execution_count": 23,
     "metadata": {},
     "output_type": "execute_result"
    }
   ],
   "source": [
    "z = data_mu[0] + np.exp(data_logvar[0]/2.0) * np.random.randn(*data_logvar[0].shape)\n",
    "z[0].shape"
   ]
  },
  {
   "cell_type": "code",
   "execution_count": 24,
   "metadata": {},
   "outputs": [
    {
     "data": {
      "text/plain": [
       "(288,)"
      ]
     },
     "execution_count": 24,
     "metadata": {},
     "output_type": "execute_result"
    }
   ],
   "source": [
    "np.concatenate([z[0], state.h[0]]).shape"
   ]
  },
  {
   "cell_type": "code",
   "execution_count": 73,
   "metadata": {},
   "outputs": [],
   "source": [
    "# observation (mu+logvar)+ action from collected data (series.npz), state from rnn\n",
    "def generate_next_z(data_mu, data_logvar, data_action, model, temperatur=0.5, z_size=32):\n",
    "    z = data_mu[0] + np.exp(data_logvar[0]/2.0) * np.random.randn(*data_logvar[0].shape)\n",
    "    state = model.state \n",
    "       \n",
    "    for idx in range(seq_len): \n",
    "        # h = np.concatenate([z[idx],state.h[idx]])\n",
    "\n",
    "        input_x = np.concatenate((z.reshape((1, 1, 32)), data_action[idx].reshape((1, 1, 4))), axis=2)\n",
    "        feed = {\n",
    "            model.rnn.input_x: input_x,\n",
    "            model.rnn.initial_state: state\n",
    "            }\n",
    "        [logmix, mean, logstd, next_state] = model.rnn.sess.run([\n",
    "            model.rnn.out_logmix, model.rnn.out_mean, model.rnn.out_logstd, model.rnn.final_state],\n",
    "            feed)\n",
    "        \n",
    "        chosen_log_pi = np.zeros(z_size)\n",
    "        chosen_mu = np.zeros(z_size)\n",
    "        chosen_log_sigma = np.zeros(z_size)\n",
    "        \n",
    "        #adjust temp\n",
    "        logmix2 = np.copy(logmix) #/temperature\n",
    "        logmix2 -= logmix2.max()\n",
    "        logmix2 = np.exp(logmix2)\n",
    "        logmix2 /= logmix2.sum(axis=1).reshape(z_size, 1)\n",
    "        \n",
    "        for j in range(z_size):\n",
    "            idx = get_pi_idx(np.random.rand(), logmix2[j])\n",
    "            chosen_log_pi[j] = idx\n",
    "            chosen_mu[j] = mean[j, idx]\n",
    "            chosen_log_sigma[j] = logstd[j,idx]\n",
    "        \n",
    "        rand_gaussian = np.random.randn(z_size)*np.sqrt(temperatur)\n",
    "        next_z = chosen_mu + np.exp(chosen_log_sigma) * rand_gaussian      \n",
    "        \n",
    "        z_ofwholeobs[idx, :] = next_z.reshape(1,32)\n",
    " \n",
    "        z = next_z\n",
    "        state = next_state\n",
    "        \n",
    "    return z_ofwholeobs\n",
    "        "
   ]
  },
  {
   "cell_type": "markdown",
   "metadata": {},
   "source": [
    "todo: wie ist es am sinnvollsten? Observation/Action Pair gemeinsam aus gesammeltem Datensatz entnehmen (1), oder nur Action entnehmen(2), und Observation generieren. Aber macht das Sinn? Action sollte ja eigentlich auf Grund von Observation vorhergesagt werden. "
   ]
  },
  {
   "cell_type": "code",
   "execution_count": 74,
   "metadata": {},
   "outputs": [],
   "source": [
    "z_list = generate_next_z(data_mu[1], data_logvar[1], data_action[1], model)"
   ]
  },
  {
   "cell_type": "code",
   "execution_count": 69,
   "metadata": {},
   "outputs": [
    {
     "data": {
      "text/plain": [
       "(500, 32)"
      ]
     },
     "execution_count": 69,
     "metadata": {},
     "output_type": "execute_result"
    }
   ],
   "source": [
    "z_list.shape"
   ]
  },
  {
   "cell_type": "code",
   "execution_count": 75,
   "metadata": {},
   "outputs": [
    {
     "data": {
      "text/plain": [
       "(500, 64, 64, 3)"
      ]
     },
     "execution_count": 75,
     "metadata": {},
     "output_type": "execute_result"
    }
   ],
   "source": [
    "next_z_dec = model.vae.decode(z_list)\n",
    "next_z_dec.shape"
   ]
  },
  {
   "cell_type": "code",
   "execution_count": 76,
   "metadata": {},
   "outputs": [
    {
     "data": {
      "image/png": "[encoded data removed]",
      "text/plain": [
       "<Figure size 2160x2160 with 16 Axes>"
      ]
     },
     "metadata": {
      "needs_background": "light"
     },
     "output_type": "display_data"
    }
   ],
   "source": [
    "plt.figure(figsize=(30,30))\n",
    "for i in range(16):\n",
    "    plt.subplot(4,4,i+1)\n",
    "    plt.imshow(next_z_dec[i*10])\n",
    "    plt.title(i*10)\n",
    "    plt.axis('off')\n",
    "plt.show()"
   ]
  },
  {
   "cell_type": "markdown",
   "metadata": {},
   "source": [
    "## Video Sequence"
   ]
  },
  {
   "cell_type": "code",
   "execution_count": 34,
   "metadata": {},
   "outputs": [],
   "source": [
    "import base64\n",
    "import imageio\n",
    "import IPython"
   ]
  },
  {
   "cell_type": "code",
   "execution_count": 35,
   "metadata": {},
   "outputs": [],
   "source": [
    "def embed_mp4(filename,video):\n",
    "  \"\"\"Embeds an mp4 file in the notebook.\"\"\"\n",
    "  video = open(filename,'rb').read()\n",
    "  b64 = base64.b64encode(video)\n",
    "  tag = '''\n",
    "  <video width=\"640\" height=\"480\" controls>\n",
    "    <source src=\"data:video/mp4;base64,{0}\" type=\"video/mp4\">\n",
    "  Your browser does not support the video tag.\n",
    "  </video>'''.format(b64.decode())\n",
    "\n",
    "  return IPython.display.HTML(tag)"
   ]
  },
  {
   "cell_type": "code",
   "execution_count": 77,
   "metadata": {},
   "outputs": [
    {
     "data": {
      "text/html": [
       "\n",
       "  <video width=\"640\" height=\"480\" controls>\n",
       "    <source src=\"data:video/mp4;base64,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\" type=\"video/mp4\">\n",
       "  Your browser does not support the video tag.\n",
       "  </video>"
      ],
      "text/plain": [
       "<IPython.core.display.HTML object>"
      ]
     },
     "execution_count": 77,
     "metadata": {},
     "output_type": "execute_result"
    }
   ],
   "source": [
    "filename = 'rnn_200420.mp4'\n",
    "with imageio.get_writer(filename, mode='I') as video:    \n",
    "    for image in range(399):\n",
    "        video.append_data(np.array(next_z_dec[image]*255, dtype=np.uint8))\n",
    "embed_mp4(filename,video)"
   ]
  },
  {
   "cell_type": "code",
   "execution_count": 78,
   "metadata": {},
   "outputs": [
    {
     "data": {
      "text/plain": [
       "(500, 4)"
      ]
     },
     "execution_count": 78,
     "metadata": {},
     "output_type": "execute_result"
    }
   ],
   "source": [
    "data_action[5].shape"
   ]
  },
  {
   "cell_type": "code",
   "execution_count": 79,
   "metadata": {},
   "outputs": [
    {
     "data": {
      "text/plain": [
       "array([ 1.,  0.,  0.,  0.], dtype=float16)"
      ]
     },
     "execution_count": 79,
     "metadata": {},
     "output_type": "execute_result"
    }
   ],
   "source": [
    "data_action[5][0]"
   ]
  },
  {
   "cell_type": "code",
   "execution_count": 81,
   "metadata": {},
   "outputs": [],
   "source": [
    "action_list = []\n",
    "for frame in data_action[5]:\n",
    "    index =np.where(frame==1)\n",
    "    action_list.append(index[0].item(0))"
   ]
  },
  {
   "cell_type": "code",
   "execution_count": 82,
   "metadata": {},
   "outputs": [
    {
     "data": {
      "image/png": "[encoded data removed]",
      "text/plain": [
       "<Figure size 1440x345.6 with 1 Axes>"
      ]
     },
     "metadata": {
      "needs_background": "light"
     },
     "output_type": "display_data"
    }
   ],
   "source": [
    "plt.figure(figsize=(20,4.8))\n",
    "plt.plot(action_list, '.')\n",
    "plt.title('Action distribution through the trial')\n",
    "plt.show()"
   ]
  },
  {
   "cell_type": "markdown",
   "metadata": {},
   "source": [
    "## Training Param"
   ]
  },
  {
   "cell_type": "code",
   "execution_count": 83,
   "metadata": {},
   "outputs": [
    {
     "ename": "FileNotFoundError",
     "evalue": "[Errno 2] No such file or directory: '/home/student/PycharmProjects/worldmodel/WorldModelsExperiments/breakout/tf_rnn/rnn_train_param.json'",
     "output_type": "error",
     "traceback": [
      "\u001b[0;31m---------------------------------------------------------------------------\u001b[0m",
      "\u001b[0;31mFileNotFoundError\u001b[0m                         Traceback (most recent call last)",
      "\u001b[0;32m<ipython-input-83-554981bdfd8c>\u001b[0m in \u001b[0;36m<module>\u001b[0;34m\u001b[0m\n\u001b[1;32m      1\u001b[0m \u001b[0;31m#with open(rnn_path +'/rnn_train_param.json', 'r') as file:\u001b[0m\u001b[0;34m\u001b[0m\u001b[0;34m\u001b[0m\u001b[0;34m\u001b[0m\u001b[0m\n\u001b[0;32m----> 2\u001b[0;31m \u001b[0;32mwith\u001b[0m \u001b[0mopen\u001b[0m\u001b[0;34m(\u001b[0m\u001b[0;34m'/home/student/PycharmProjects/worldmodel/WorldModelsExperiments/breakout/tf_rnn/rnn_train_param.json'\u001b[0m\u001b[0;34m,\u001b[0m \u001b[0;34m'r'\u001b[0m\u001b[0;34m)\u001b[0m\u001b[0;32mas\u001b[0m \u001b[0mfile\u001b[0m\u001b[0;34m:\u001b[0m\u001b[0;34m\u001b[0m\u001b[0;34m\u001b[0m\u001b[0m\n\u001b[0m\u001b[1;32m      3\u001b[0m     \u001b[0mtrain_param\u001b[0m \u001b[0;34m=\u001b[0m \u001b[0mjson\u001b[0m\u001b[0;34m.\u001b[0m\u001b[0mload\u001b[0m\u001b[0;34m(\u001b[0m\u001b[0mfile\u001b[0m\u001b[0;34m)\u001b[0m\u001b[0;34m\u001b[0m\u001b[0;34m\u001b[0m\u001b[0m\n\u001b[1;32m      4\u001b[0m \u001b[0mtrain_cost\u001b[0m \u001b[0;34m=\u001b[0m \u001b[0;34m[\u001b[0m\u001b[0;34m]\u001b[0m\u001b[0;34m\u001b[0m\u001b[0;34m\u001b[0m\u001b[0m\n\u001b[1;32m      5\u001b[0m \u001b[0mcurr_learning_rate\u001b[0m \u001b[0;34m=\u001b[0m \u001b[0;34m[\u001b[0m\u001b[0;34m]\u001b[0m\u001b[0;34m\u001b[0m\u001b[0;34m\u001b[0m\u001b[0m\n",
      "\u001b[0;31mFileNotFoundError\u001b[0m: [Errno 2] No such file or directory: '/home/student/PycharmProjects/worldmodel/WorldModelsExperiments/breakout/tf_rnn/rnn_train_param.json'"
     ]
    }
   ],
   "source": [
    "#with open(rnn_path +'/rnn_train_param.json', 'r') as file:\n",
    "with open('/home/student/PycharmProjects/worldmodel/WorldModelsExperiments/breakout/tf_rnn/rnn_train_param.json', 'r')as file:\n",
    "    train_param = json.load(file)\n",
    "train_cost = []\n",
    "curr_learning_rate = []\n",
    "for params in train_param:\n",
    "    train_cost.append(params['train_cost'])\n",
    "    \n",
    "plt.plot(train_cost, label='Train Cost')\n",
    "plt.legend(loc='upper right')\n",
    "plt.xlabel('Steps')\n",
    "plt.title('Params during Training')\n",
    "plt.show()"
   ]
  }
 ],
 "metadata": {
  "kernelspec": {
   "display_name": "venv",
   "language": "python",
   "name": "venv"
  },
  "language_info": {
   "codemirror_mode": {
    "name": "ipython",
    "version": 3
   },
   "file_extension": ".py",
   "mimetype": "text/x-python",
   "name": "python",
   "nbconvert_exporter": "python",
   "pygments_lexer": "ipython3",
   "version": "3.6.8"
  }
 },
 "nbformat": 4,
 "nbformat_minor": 4
}
