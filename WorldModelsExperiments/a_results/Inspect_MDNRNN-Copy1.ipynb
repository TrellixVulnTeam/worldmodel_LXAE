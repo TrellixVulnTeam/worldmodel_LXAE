{
 "cells": [
  {
   "cell_type": "markdown",
   "metadata": {},
   "source": [
    "# MDN_RNN\n",
    "___\n",
    "* MDN-RNN output: next latent vector z\n",
    "* see training params"
   ]
  },
  {
   "cell_type": "code",
   "execution_count": 1,
   "metadata": {},
   "outputs": [],
   "source": [
    "%load_ext autoreload\n",
    "%autoreload 2\n",
    "\n",
    "import tensorflow as tf\n",
    "import numpy as np\n",
    "import os\n",
    "import matplotlib.pyplot as plt\n"
   ]
  },
  {
   "cell_type": "code",
   "execution_count": 2,
   "metadata": {},
   "outputs": [],
   "source": [
    "from pathlib import Path\n",
    "path = str(Path(os.getcwd()).parent)\n",
    "import_path = str(Path(os.getcwd()).parent.parent)\n",
    "\n",
    "import sys\n",
    "sys.path.insert(0,path)\n",
    "from breakout.rnn.rnn import RNNModel, hps_sample, rnn_init_state\n",
    "from breakout.vae.vae import ConvVAE\n",
    "\n",
    "sys.path.insert(0, import_path)\n",
    "from WorldModelsExperiments.breakout.model import Model, _process_frame"
   ]
  },
  {
   "cell_type": "code",
   "execution_count": 3,
   "metadata": {},
   "outputs": [],
   "source": [
    "server = True\n",
    "if server:\n",
    "    rnn_path = path + '/breakout/results_200218/tf_rnn'\n",
    "    series_path = path + '/breakout/results_200218/series'\n",
    "    vae_path = path + '/breakout/results_200218/tf_vae'\n",
    "    obs_path = path + '/breakout/results_200218/record'"
   ]
  },
  {
   "cell_type": "markdown",
   "metadata": {},
   "source": [
    "## See MDN-RNN output\n",
    "from Model()"
   ]
  },
  {
   "cell_type": "code",
   "execution_count": 5,
   "metadata": {},
   "outputs": [
    {
     "name": "stderr",
     "output_type": "stream",
     "text": [
      "/home/student/PycharmProjects/worldmodel/venv/lib/python3.6/site-packages/gym/envs/registration.py:17: PkgResourcesDeprecationWarning: Parameters to load are deprecated.  Call .resolve and .require separately.\n",
      "  result = entry_point.load(False)\n"
     ]
    },
    {
     "name": "stdout",
     "output_type": "stream",
     "text": [
      "INFO:tensorflow:Model using cpu.\n",
      "model using cpu\n",
      "input dropout mode = False\n",
      "output dropout mode = False\n",
      "recurrent dropout mode = False\n",
      "RNN/output_w:0\n",
      "RNN/output_b:0\n",
      "RNN/layer_norm_basic_lstm_cell/kernel:0\n",
      "RNN/layer_norm_basic_lstm_cell/bias:0\n"
     ]
    }
   ],
   "source": [
    "model = Model(load_model=True, rnn_path=os.path.join(rnn_path, 'rnn.json'), vae_path=os.path.join(vae_path, 'vae.json'))"
   ]
  },
  {
   "cell_type": "code",
   "execution_count": 6,
   "metadata": {},
   "outputs": [],
   "source": [
    "# nope\n",
    "obs = model.env.reset()\n",
    "obs = _process_frame(obs)\n",
    "\n",
    "z, mu, logvar= model.encode_obs(obs)\n",
    "\n",
    "state = model.state #model.state = rnn.sess.run(rnn.initial_state) # LSTMState Tuple - c,h\n",
    "state\n",
    "\n",
    "h = np.concatenate([z,state.h[0]])\n",
    "weight = model.weight\n",
    "bias = model.bias\n",
    "action = np.argmax(np.matmul(h, weight)+ bias)\n",
    "action_one_hot = np.zeros(model.num_actions)\n",
    "action_one_hot[action] = 1\n",
    "\n",
    "input_x = np.concatenate((z.reshape((1, 1, 32)), action_one_hot.reshape((1, 1, 4))), axis=2)\n",
    "feed = {\n",
    "    model.rnn.input_x: input_x,\n",
    "    model.rnn.initial_state: state\n",
    "}\n",
    "\n",
    "[logmix, mean, logstd, next_state] = model.rnn.sess.run([\n",
    "    model.rnn.out_logmix, model.rnn.out_mean, model.rnn.out_logstd, model.rnn.final_state],\n",
    "    feed\n",
    ") # different output from rnn_mdn"
   ]
  },
  {
   "cell_type": "code",
   "execution_count": 7,
   "metadata": {},
   "outputs": [
    {
     "data": {
      "text/plain": [
       "(32, 5)"
      ]
     },
     "execution_count": 7,
     "metadata": {},
     "output_type": "execute_result"
    }
   ],
   "source": [
    "z_dim = 32\n",
    "chosen_log_pi = np.zeros(z_dim)\n",
    "chosen_mu = np.zeros(z_dim)\n",
    "chosen_log_sigma = np.zeros(z_dim)\n",
    "\n",
    "#adjust temp\n",
    "pi = np.copy(logmix) #/temperature\n",
    "logmix2 = np.exp(pi)\n",
    "logmix2 /= logmix2.sum(axis=1).reshape(z_dim, 1)\n",
    "logmix2.shape"
   ]
  },
  {
   "cell_type": "code",
   "execution_count": 8,
   "metadata": {},
   "outputs": [],
   "source": [
    "from gym.utils import seeding\n",
    "np_random, seed = seeding.np_random()"
   ]
  },
  {
   "cell_type": "code",
   "execution_count": 10,
   "metadata": {},
   "outputs": [],
   "source": [
    "def get_pi_idx(x, pdf):\n",
    "  # samples from a categorial distribution\n",
    "    N = pdf.size\n",
    "    accumulate = 0\n",
    "    for i in range(0, N):\n",
    "        accumulate += pdf[i]\n",
    "        if (accumulate >= x):\n",
    "            return i\n",
    "    random_value = np.random.randint(N)\n",
    "    #print('error with sampling ensemble, returning random', random_value)\n",
    "    return random_value"
   ]
  },
  {
   "cell_type": "code",
   "execution_count": 12,
   "metadata": {},
   "outputs": [],
   "source": [
    "def sample_z(mu, log_sigma):\n",
    "    z =  mu + (np.exp(log_sigma)) * np_random.randn(*log_sigma.shape) * 0.5\n",
    "    return z"
   ]
  },
  {
   "cell_type": "code",
   "execution_count": 13,
   "metadata": {},
   "outputs": [
    {
     "data": {
      "text/plain": [
       "(32,)"
      ]
     },
     "execution_count": 13,
     "metadata": {},
     "output_type": "execute_result"
    }
   ],
   "source": [
    "for j in range(z_dim):\n",
    "    idx = get_pi_idx(np_random.rand(), logmix2[j])\n",
    "    chosen_log_pi[j] = idx\n",
    "    chosen_mu[j] = mean[j, idx]\n",
    "    chosen_log_sigma[j] = logstd[j,idx]\n",
    "    \n",
    "next_z = sample_z(chosen_mu, chosen_log_sigma)\n",
    "next_z.shape"
   ]
  },
  {
   "cell_type": "code",
   "execution_count": 15,
   "metadata": {},
   "outputs": [
    {
     "name": "stdout",
     "output_type": "stream",
     "text": [
      "INFO:tensorflow:Model using gpu.\n"
     ]
    },
    {
     "data": {
      "image/png": "[encoded data removed]",
      "text/plain": [
       "<Figure size 432x288 with 1 Axes>"
      ]
     },
     "metadata": {
      "needs_background": "light"
     },
     "output_type": "display_data"
    }
   ],
   "source": [
    "from breakout.vae.vae import ConvVAE\n",
    "vae = ConvVAE()\n",
    "vae.load_json(os.path.join(vae_path, 'vae.json'))\n",
    "\n",
    "next_z = next_z.reshape(1,32)\n",
    "next_z_decoded = vae.decode(next_z)\n",
    "next_z_decoded = next_z_decoded.reshape(64,64,3)\n",
    "\n",
    "plt.imshow(next_z_decoded)\n",
    "plt.show()"
   ]
  },
  {
   "cell_type": "code",
   "execution_count": null,
   "metadata": {},
   "outputs": [],
   "source": [
    "def get_mdn_coef(output):\n",
    "    logmix, mean, logstd = tf.split(output,3,axis=1)\n",
    "    logmix = logmix - tf.reduce_logsumexp(logmix, 1, keepdims=True) # todo ????????\n",
    "    return logmix, mean, logstd"
   ]
  },
  {
   "cell_type": "markdown",
   "metadata": {},
   "source": [
    "get observation and action from collected data - not ready yet net missing."
   ]
  },
  {
   "cell_type": "code",
   "execution_count": null,
   "metadata": {},
   "outputs": [],
   "source": [
    "def load_raw_data_list(filelist):\n",
    "    data_list = []\n",
    "    action_list = []\n",
    "    counter = 0\n",
    "    for i in range(len(filelist)):\n",
    "        filename = filelist[i]\n",
    "        raw_data = np.load(os.path.join(obs_path, filename))\n",
    "        data_list.append(raw_data['obs'])\n",
    "        action_list.append(raw_data['action'])\n",
    "        if ((i+1) % 1000 == 0):\n",
    "            print(\"loading file\", (i+1))\n",
    "    return data_list, action_list"
   ]
  },
  {
   "cell_type": "code",
   "execution_count": null,
   "metadata": {},
   "outputs": [],
   "source": [
    "filelist = os.listdir(obs_path)\n",
    "filelist.sort()\n",
    "filelist = filelist[0:10]\n",
    "dataset, action_dataset = load_raw_data_list(filelist[0:10])"
   ]
  },
  {
   "cell_type": "code",
   "execution_count": null,
   "metadata": {},
   "outputs": [],
   "source": [
    "dataset[0][0].shape"
   ]
  },
  {
   "cell_type": "code",
   "execution_count": null,
   "metadata": {},
   "outputs": [],
   "source": [
    "def encode_obs(obs):\n",
    "    # convert raw obs to z, mu, logvar\n",
    "    #result = np.copy(obs).astype(np.float)/255.\n",
    "    result = np.expand_dims(obs, axis=0)#reshape(1, 64, 64, 3)\n",
    "    mu, logvar = vae.encode_mu_logvar(result)\n",
    "    mu = mu[0] #\n",
    "    logvar = logvar[0]\n",
    "    s = logvar.shape\n",
    "    z = mu + np.exp(logvar/2.0) * np.random.randn(*s)\n",
    "    return z, mu, logvar"
   ]
  },
  {
   "cell_type": "code",
   "execution_count": null,
   "metadata": {},
   "outputs": [],
   "source": [
    "vae = ConvVAE()\n",
    "z, mu, logvar = encode_obs(dataset[0][0])"
   ]
  },
  {
   "cell_type": "code",
   "execution_count": null,
   "metadata": {},
   "outputs": [],
   "source": [
    "mdnrnn = RNNModel(hps=hps_sample)\n",
    "mdnrnn.load_json(os.path.join(rnn_path, 'rnn.json'))"
   ]
  },
  {
   "cell_type": "code",
   "execution_count": null,
   "metadata": {},
   "outputs": [],
   "source": [
    "state = rnn_init_state(mdnrnn)\n",
    "h = np.concatenate([z,state.h[0]])\n",
    "h.shape"
   ]
  },
  {
   "cell_type": "code",
   "execution_count": null,
   "metadata": {},
   "outputs": [],
   "source": [
    "input_x = np.concatenate((z.reshape(1,1,32), action_dataset[0][0].reshape(1,1,4)), axis=2)\n",
    "input_x.shape"
   ]
  },
  {
   "cell_type": "code",
   "execution_count": null,
   "metadata": {},
   "outputs": [],
   "source": [
    "feed = {\n",
    "    mdnrnn.input_x: input_x,\n",
    "    mdnrnn.initial_state: state\n",
    "}\n",
    "output, next_state = mdnrnn.sess.run(mdnrnn.final_state, feed)\n",
    "output.shape"
   ]
  },
  {
   "cell_type": "code",
   "execution_count": null,
   "metadata": {},
   "outputs": [],
   "source": [
    "with tf.variable_scope('RNN'):\n",
    "    output_w = tf.get_variable(\"output_w\", [hps_sample.rnn_size, 480])\n",
    "    output_b = tf.get_variable(\"output_b\", [480])"
   ]
  },
  {
   "cell_type": "code",
   "execution_count": null,
   "metadata": {},
   "outputs": [],
   "source": [
    "output = tf.reshape(output, [-1, hps_sample.rnn_size])\n",
    "output = tf.nn.xw_plus_b(output, output_w, output_b)\n",
    "output = tf.reshape(output, [-1, hps_sample.num_mixture * 3])"
   ]
  },
  {
   "cell_type": "code",
   "execution_count": null,
   "metadata": {},
   "outputs": [],
   "source": [
    "logmix, mean, logstd = get_mdn_coef(output)"
   ]
  },
  {
   "cell_type": "markdown",
   "metadata": {},
   "source": [
    "get observation from env.reset() and action from some nn - same. not ready yet. using a random sampled net"
   ]
  },
  {
   "cell_type": "code",
   "execution_count": null,
   "metadata": {},
   "outputs": [],
   "source": [
    "logmix"
   ]
  },
  {
   "cell_type": "code",
   "execution_count": null,
   "metadata": {},
   "outputs": [],
   "source": [
    "obs = model.env.reset()\n",
    "obs = _process_frame(obs)\n",
    "\n",
    "z, mu, logvar= model.encode_obs(obs)\n",
    "\n",
    "state = model.state  # LSTMState Tuple - c,h\n",
    "\n",
    "h = np.concatenate([z,state.h[0]])\n",
    "weight = model.weight\n",
    "bias = model.bias\n",
    "action = np.argmax(np.matmul(h, weight)+ bias)\n",
    "action_one_hot = np.zeros(model.num_actions)\n",
    "action_one_hot[action] = 1\n",
    "\n",
    "input_x = np.concatenate((z.reshape((1, 1, 32)), action_one_hot.reshape((1, 1, 4))), axis=2)\n",
    "feed = {\n",
    "    model.rnn.input_x: input_x,\n",
    "    model.rnn.initial_state: state\n",
    "}\n",
    "output, next_state = model.rnn.sess.run(model.rnn.final_state, feed)\n",
    "\n",
    "output.shape # (1,256) ; rnn_size = 256\n",
    "# TODOOOO needs to adapt output shape to (None, 480)\n",
    "output = np.matmul(output, np.random.rand(256,480))\n",
    "output = tf.reshape(output, [-1, mdnrnn.num_mixture*3])\n",
    "# todo needs to resh\n",
    "output.shape\n",
    "logmix, mean, logstd = get_mdn_coef(output)"
   ]
  },
  {
   "cell_type": "code",
   "execution_count": null,
   "metadata": {},
   "outputs": [],
   "source": [
    "with tf.Session() as sess:\n",
    "    logmix = logmix.eval(session=sess)\n",
    "    mean = mean.eval(session=sess)\n",
    "    logstd = logstd.eval(session=sess)\n",
    "    "
   ]
  },
  {
   "cell_type": "code",
   "execution_count": null,
   "metadata": {},
   "outputs": [],
   "source": [
    "# load series data\n",
    "raw_data = np.load(os.path.join(series_path, \"series.npz\"))\n",
    "data_mu = raw_data[\"mu\"]\n",
    "data_logvar = raw_data[\"logvar\"]\n",
    "data_action =  raw_data[\"action\"]\n",
    "data_mu.shape"
   ]
  },
  {
   "cell_type": "code",
   "execution_count": null,
   "metadata": {},
   "outputs": [],
   "source": [
    "# define batch ? \n",
    "# continue with https://github.com/AppliedDataSciencePartners/WorldModels/blob/master/check_04_rnn.ipynb\n",
    "e = np.random.randn(*data_logvar.shape)\n",
    "data_z = data_mu + np.exp(data_logvar/2.0)*e # todo recheck why logvar/2.0\n",
    "data_z.shape"
   ]
  },
  {
   "cell_type": "code",
   "execution_count": null,
   "metadata": {},
   "outputs": [],
   "source": [
    "rnn_input = np.concatenate((data_z[:,:-1,:],data_action[:,:-1,:]), axis=2)\n",
    "rnn_input.shape # len_filelist, seq_length-1, z_dim+4"
   ]
  },
  {
   "cell_type": "code",
   "execution_count": null,
   "metadata": {},
   "outputs": [],
   "source": [
    "model = Model(load_model=True, rnn_path=os.path.join(rnn_path, 'rnn.json'), vae_path=os.path.join(vae_path, 'vae.json'))\n",
    "m_state = model.state\n",
    "m_state\n"
   ]
  },
  {
   "cell_type": "code",
   "execution_count": null,
   "metadata": {},
   "outputs": [],
   "source": [
    "obs.shape\n"
   ]
  },
  {
   "cell_type": "markdown",
   "metadata": {},
   "source": [
    "## Training Param"
   ]
  },
  {
   "cell_type": "code",
   "execution_count": null,
   "metadata": {},
   "outputs": [],
   "source": [
    "with open(path + '/breakout/tf_rnn/rnn_train_param.json', 'r') as file:\n",
    "    train_param = json.load(file)\n",
    "train_cost = []\n",
    "curr_learning_rate = []\n",
    "for params in train_param:\n",
    "    train_cost.append(params['train_cost'])\n",
    "    \n",
    "plt.plot(train_cost, label='Train Cost')\n",
    "plt.legend(loc='upper right')\n",
    "plt.xlabel('Steps')\n",
    "plt.titel('Params during Training')\n",
    "plt.show()"
   ]
  }
 ],
 "metadata": {
  "kernelspec": {
   "display_name": "venv",
   "language": "python",
   "name": "venv"
  },
  "language_info": {
   "codemirror_mode": {
    "name": "ipython",
    "version": 3
   },
   "file_extension": ".py",
   "mimetype": "text/x-python",
   "name": "python",
   "nbconvert_exporter": "python",
   "pygments_lexer": "ipython3",
   "version": "3.6.8"
  }
 },
 "nbformat": 4,
 "nbformat_minor": 4
}
