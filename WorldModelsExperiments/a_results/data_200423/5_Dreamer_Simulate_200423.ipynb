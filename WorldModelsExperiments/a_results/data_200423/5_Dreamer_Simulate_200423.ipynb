{
 "cells": [
  {
   "cell_type": "markdown",
   "metadata": {},
   "source": [
    "# Simulate Dreamer"
   ]
  },
  {
   "cell_type": "markdown",
   "metadata": {},
   "source": [
    "simulate the loop with \n",
    "* get action from z with Controller and RNN\n",
    "* step:\n",
    "  * sample next z with RNN\n",
    "  * done= False until certain level of steps is reached\n",
    "  * reward = 0 - always"
   ]
  },
  {
   "cell_type": "code",
   "execution_count": 1,
   "metadata": {},
   "outputs": [],
   "source": [
    "import numpy as np\n",
    "import tensorflow as tf\n",
    "import os \n",
    "import json\n",
    "import numpy as np\n",
    "from gym.envs.atari.atari_env import AtariEnv\n",
    "from gym.spaces.box import Box\n",
    "from gym.utils import seeding\n",
    "from PIL import Image"
   ]
  },
  {
   "cell_type": "code",
   "execution_count": 2,
   "metadata": {},
   "outputs": [],
   "source": [
    "import sys\n",
    "from pathlib import Path\n",
    "path = str(Path(os.getcwd()).parent.parent)\n",
    "sys.path.insert(0, path)\n",
    "\n",
    "from breakout.vae.vae import ConvVAE\n",
    "from breakout.rnn.rnn import RNNModel, hps_sample, rnn_init_state, rnn_next_state, rnn_output, rnn_output_size"
   ]
  },
  {
   "cell_type": "code",
   "execution_count": 3,
   "metadata": {},
   "outputs": [],
   "source": [
    "load_model = True\n",
    "rnn_path='/home/student/Dropbox/MA/worldmodel/worldmodel-breakout-server-version-v3/200423/tf_rnn/rnn.json'\n",
    "vae_path='/home/student/Dropbox/MA/worldmodel/worldmodel-breakout-server-version-v3/200423/tf_vae/vae.json'\n",
    "\n",
    "file = '/home/student/Dropbox/MA/worldmodel/worldmodel-breakout-server-version-v3/200423/log/breakout.cma.16.64.best.json'\n",
    "\n",
    "num_episode = 1\n",
    "frame_limit = 1000"
   ]
  },
  {
   "cell_type": "code",
   "execution_count": 4,
   "metadata": {},
   "outputs": [],
   "source": [
    "SCREEN_X = 64\n",
    "SCREEN_Y = 64\n",
    "FACTOR = 3"
   ]
  },
  {
   "cell_type": "code",
   "execution_count": 5,
   "metadata": {},
   "outputs": [],
   "source": [
    "with open(os.path.join('/home/student/Dropbox/MA/worldmodel/worldmodel-breakout-server-version-v3/200423/tf_initial_z', 'initial_z.json'), 'r') as f:\n",
    "    [initial_mu, initial_logvar] = json.load(f)\n",
    "\n",
    "initial_mu_logvar = [list(elem) for elem in zip(initial_mu, initial_logvar)]"
   ]
  },
  {
   "cell_type": "code",
   "execution_count": 6,
   "metadata": {},
   "outputs": [],
   "source": [
    "seq_length = num_episode*frame_limit+1\n",
    "img_sequence = np.zeros(shape=(seq_length,64,64,3))"
   ]
  },
  {
   "cell_type": "code",
   "execution_count": 7,
   "metadata": {},
   "outputs": [],
   "source": [
    "def get_pi_idx(x, pdf):\n",
    "    N = pdf.size\n",
    "    accumulate = 0\n",
    "    for i in range(0, N):\n",
    "        accumulate += pdf[i]\n",
    "        if (accumulate >= x):\n",
    "            return i\n",
    "    print('error with sampling ensemble')\n",
    "    return -1"
   ]
  },
  {
   "cell_type": "code",
   "execution_count": 8,
   "metadata": {},
   "outputs": [],
   "source": [
    "class BreakoutDream(AtariEnv):\n",
    "    metadata = {\n",
    "        'render.modes':['human', 'rgb_array']\n",
    "    }\n",
    "    def __init__(self, agent, frame_limit):\n",
    "        self.observation_space = Box(low=0, high=255., shape=(64,64,3))\n",
    "        self.agent = agent\n",
    "        self.vae = agent.vae\n",
    "        self.rnn = agent.rnn\n",
    "        self.z_size = self.rnn.hps.encoded_img_width\n",
    "        self.viewer = None\n",
    "        self.frame_count = None\n",
    "        self.frame_limit = frame_limit\n",
    "        self.z = None\n",
    "        self.temperature = 0.7\n",
    "        self.seq_counter=0\n",
    "\n",
    "    def _seed(self, seed=None):\n",
    "        self.np_random, seed = seeding.np_random(seed)\n",
    "        return [seed]\n",
    "\n",
    "    def _sample_next_z(self, action):\n",
    "        r_model = self.rnn\n",
    "        temp = self.temperature\n",
    "\n",
    "        sess = r_model.sess\n",
    "        hps = r_model.hps\n",
    "\n",
    "        prev_x = np.zeros((1, 1, self.z_size))\n",
    "        prev_x[0][0] = self.z\n",
    "\n",
    "        input_x = np.concatenate((prev_x, action.reshape(1, 1, 4)), axis=2)\n",
    "        feed = {\n",
    "            r_model.input_x : input_x,\n",
    "            r_model.initial_state: self.agent.state\n",
    "        }\n",
    "        [logmix, mean, logstd, self.agent.state] = sess.run(\n",
    "            [r_model.out_logmix, r_model.out_mean, r_model.out_logstd, r_model.final_state], feed)\n",
    "\n",
    "        # adjust temperatures\n",
    "        logmix2 = np.copy(logmix) / temp\n",
    "        logmix2 -= logmix2.max()\n",
    "        logmix2 = np.exp(logmix2)\n",
    "        logmix2 /= logmix2.sum(axis=1).reshape(self.z_size, 1)\n",
    "\n",
    "        mixture_idx = np.zeros(self.z_size)\n",
    "        chosen_mean = np.zeros(self.z_size)\n",
    "        chosen_logstd = np.zeros(self.z_size)\n",
    "        for j in range(self.z_size):\n",
    "            idx = get_pi_idx(self.np_random.rand(), logmix2[j])\n",
    "            mixture_idx[j] = idx\n",
    "            chosen_mean[j] = mean[j][idx]\n",
    "            chosen_logstd[j] = logstd[j][idx]\n",
    "\n",
    "        rand_gaussian = self.np_random.randn(self.z_size)*np.sqrt(temp)\n",
    "        next_x = chosen_mean + np.exp(chosen_logstd)*rand_gaussian\n",
    "\n",
    "        next_z = next_x.reshape(self.z_size)\n",
    "\n",
    "        return next_z\n",
    "\n",
    "    def _reset(self):\n",
    "        idx = self.np_random.randint(0,len(initial_mu_logvar))\n",
    "        init_mu, init_logvar = initial_mu_logvar[idx]\n",
    "        init_mu = np.array(init_mu)/10000.\n",
    "        init_logvar = np.array(init_logvar)/10000.\n",
    "        \n",
    "        self.z = init_mu + np.exp(init_logvar/2.0) * self.np_random.randn(*init_logvar.shape)\n",
    "\n",
    "        self.frame_count = 0\n",
    "        return self.z\n",
    "\n",
    "    def _step(self, action_one_hot):\n",
    "        self.frame_count += 1\n",
    "        next_z = self._sample_next_z(action_one_hot)\n",
    "        reward = 0\n",
    "        done = False\n",
    "        if self.frame_count > self.frame_limit:\n",
    "            done = True\n",
    "        self.z = next_z\n",
    "        return next_z, reward, done, {}\n",
    "\n",
    "    def _render(self, mode='human', close = False):\n",
    "        img = self.vae.decode(self.z.reshape(1, self.z_size))*255.\n",
    "        img = np.round(img).astype(np.uint8)\n",
    "        img = img.reshape(64,64,3)\n",
    "        \n",
    "        seq_counter = self.seq_counter\n",
    "        img_sequence[seq_counter,:,:,:] = img\n",
    "        seq_counter+=1\n",
    "        self.seq_counter = seq_counter\n",
    "\n",
    "        img = Image.fromarray(img)\n",
    "        img_resize = img.resize(size=(int(np.round(SCREEN_Y*FACTOR)), int(np.round(SCREEN_X*FACTOR))))\n",
    "        img_resize = np.array(img_resize)\n",
    "\n",
    "        if close:\n",
    "            if self.viewer is not None:\n",
    "                self.viewer.close()\n",
    "                self.viewer = None\n",
    "            return\n",
    "\n",
    "        if mode == 'rgb_array':\n",
    "            return img_resize\n",
    "        elif mode == 'human':\n",
    "            from gym.envs.classic_control import rendering\n",
    "            if self.viewer is None:\n",
    "                self.viewer = rendering.SimpleImageViewer()\n",
    "            self.viewer.imshow(img_resize)"
   ]
  },
  {
   "cell_type": "code",
   "execution_count": 9,
   "metadata": {},
   "outputs": [],
   "source": [
    "def make_env(env_name, agent, frame_limit, seed=-1, render_mode = False):\n",
    "    env = BreakoutDream(agent, frame_limit)\n",
    "    if seed<0:\n",
    "        seed = np.random.randint(2**31-1)\n",
    "    env.seed(seed)\n",
    "    return env"
   ]
  },
  {
   "cell_type": "code",
   "execution_count": 10,
   "metadata": {},
   "outputs": [],
   "source": [
    "def softmax(x):\n",
    "    return np.exp(x)/ np.sum(np.exp(x), axis=0)"
   ]
  },
  {
   "cell_type": "code",
   "execution_count": 11,
   "metadata": {},
   "outputs": [],
   "source": [
    "class DreamModel():\n",
    "    def __init__(self, load_model=True,   rnn_path='tf_rnn/rnn.json', vae_path='tf_vae/vae.json', frame_limit=1200):\n",
    "        self.env_name = 'Breakout-v0'\n",
    "\n",
    "        self.vae = ConvVAE(batch_size=1, gpu_mode=False, is_training=False, reuse=True)\n",
    "        self.rnn = RNNModel(hps_sample, gpu_mode=False, reuse=True)\n",
    "\n",
    "        if load_model:\n",
    "            self.vae.load_json(vae_path)  # vae_path)\n",
    "            self.rnn.load_json(rnn_path)\n",
    "\n",
    "        self.frame_limit=frame_limit\n",
    "        self._make_env()\n",
    "\n",
    "        self.state = rnn_init_state(self.rnn)\n",
    "        self.rnn_mode = True\n",
    "\n",
    "        self.input_size = rnn_output_size()\n",
    "        self.z_size = 32\n",
    "\n",
    "        self.render_mode = False\n",
    "\n",
    "    def _make_env(self, seed=-1, render_mode =False):\n",
    "        self.render_mode = render_mode\n",
    "        self.env = make_env(self.env_name, agent = self, frame_limit= self.frame_limit, seed = seed)\n",
    "\n",
    "    def reset(self):\n",
    "        self.state = rnn_init_state(self.rnn)\n",
    "\n",
    "    def encode_obs(self, obs):\n",
    "        result = np.expand_dims(obs, axis=0)\n",
    "        mu, logvar = self.vae.encode_mu_logvar(result)\n",
    "        mu = mu[0]\n",
    "        logvar = logvar[0]\n",
    "        s = logvar.shape\n",
    "        z = mu + np.exp(logvar / 2.0) * np.random.randn(*s)\n",
    "        return z, mu, logvar\n",
    "\n",
    "    def get_action(self, z):\n",
    "        h = rnn_output(self.state, z)\n",
    "        action = softmax(np.matmul(h, self.weight) + self.bias)\n",
    "        action = np.argmax(action)\n",
    "        action_one_hot = np.zeros(self.rnn.hps.num_actions)\n",
    "        action_one_hot[action] = 1\n",
    "        self.state = rnn_next_state(self.rnn, z, action_one_hot, self.state)\n",
    "        return action_one_hot, action\n",
    "\n",
    "    def set_model_params(self, model_params):\n",
    "        self.bias = np.array(model_params[:4])\n",
    "        self.weight = np.array(model_params[4:]).reshape(self.input_size, 4)\n",
    "\n",
    "    def load_model(self, filename):\n",
    "        with open(filename) as f:\n",
    "            data = json.load(f)\n",
    "        print('loading file %s' % (filename))\n",
    "        self.data = data\n",
    "        model_params = np.array(data[0])  # assuming other stuff is in data\n",
    "        self.set_model_params(model_params)"
   ]
  },
  {
   "cell_type": "code",
   "execution_count": 12,
   "metadata": {},
   "outputs": [
    {
     "name": "stdout",
     "output_type": "stream",
     "text": [
      "INFO:tensorflow:Model using cpu.\n"
     ]
    }
   ],
   "source": [
    "model = DreamModel(load_model, rnn_path, vae_path, frame_limit=frame_limit)"
   ]
  },
  {
   "cell_type": "code",
   "execution_count": 13,
   "metadata": {},
   "outputs": [
    {
     "name": "stdout",
     "output_type": "stream",
     "text": [
      "loading file /home/student/Dropbox/MA/worldmodel/worldmodel-breakout-server-version-v3/200423/log/breakout.cma.16.64.best.json\n"
     ]
    }
   ],
   "source": [
    "model.load_model(file)"
   ]
  },
  {
   "cell_type": "code",
   "execution_count": 14,
   "metadata": {},
   "outputs": [],
   "source": [
    "def simulate(model, train_mode=False, render_mode=False, num_episode=1, seed=-1, max_len=-1):\n",
    "    reward_list = []\n",
    "    t_list= []\n",
    "    action_list = []\n",
    "    z_sumsquare = []\n",
    "    max_episode_length = 2100\n",
    "\n",
    "    if max_len>0:\n",
    "        max_episode_length = max_len\n",
    "\n",
    "    if (seed >= 0):\n",
    "        random.seed(seed)\n",
    "        np.random.seed(seed)\n",
    "        model.env.seed(seed)\n",
    "\n",
    "    for episode in range(num_episode):\n",
    "        model.reset()\n",
    "        z = model.env.reset()\n",
    "\n",
    "        for t in range(max_episode_length):\n",
    "            action_one_hot, action = model.get_action(z)\n",
    "            action_list.append(action)\n",
    "\n",
    "            if render_mode:\n",
    "                model.env.render('human')\n",
    "            else:\n",
    "                model.env.render('rgb_array')\n",
    "\n",
    "\n",
    "            z, reward, done, info = model.env.step(action_one_hot) # two problems here: where to get reward and done info ?\n",
    "            z_sumsquare.append(np.sum(np.square(z)))\n",
    "\n",
    "            if done:\n",
    "                model.env.viewer.close()\n",
    "                model.env.viewer = None\n",
    "                break\n",
    "        t_list.append(t)\n",
    "\n",
    "    return reward_list, t_list, action_list, z_sumsquare"
   ]
  },
  {
   "cell_type": "code",
   "execution_count": 15,
   "metadata": {},
   "outputs": [
    {
     "name": "stdout",
     "output_type": "stream",
     "text": [
      "terminal reward:  []  ,average steps taken:  1001.0\n"
     ]
    }
   ],
   "source": [
    "reward, steps_taken, action_list, z_sumsquare = simulate(model, train_mode=False, render_mode=True, num_episode=num_episode)\n",
    "print('terminal reward: ', reward, ' ,average steps taken: ', np.mean(steps_taken)+1)"
   ]
  },
  {
   "cell_type": "markdown",
   "metadata": {},
   "source": [
    "## Auswertung"
   ]
  },
  {
   "cell_type": "code",
   "execution_count": 16,
   "metadata": {},
   "outputs": [],
   "source": [
    "import matplotlib.pyplot as plt"
   ]
  },
  {
   "cell_type": "markdown",
   "metadata": {},
   "source": [
    "Action Distribution"
   ]
  },
  {
   "cell_type": "code",
   "execution_count": 17,
   "metadata": {},
   "outputs": [
    {
     "data": {
      "image/png": "[encoded data removed]",
      "text/plain": [
       "<Figure size 432x288 with 1 Axes>"
      ]
     },
     "metadata": {
      "needs_background": "light"
     },
     "output_type": "display_data"
    }
   ],
   "source": [
    "set_action = set(action_list)\n",
    "action_counted = []\n",
    "for action_elem in set_action:\n",
    "    action_counted.append(action_list.count(action_elem))\n",
    "\n",
    "plt.bar(list(set_action), action_counted)\n",
    "plt.title('Distribution of action in trial')\n",
    "plt.show()"
   ]
  },
  {
   "cell_type": "markdown",
   "metadata": {},
   "source": [
    "Evolving z"
   ]
  },
  {
   "cell_type": "code",
   "execution_count": 18,
   "metadata": {},
   "outputs": [
    {
     "data": {
      "image/png": "[encoded data removed]",
      "text/plain": [
       "<Figure size 432x288 with 1 Axes>"
      ]
     },
     "metadata": {
      "needs_background": "light"
     },
     "output_type": "display_data"
    }
   ],
   "source": [
    "plt.plot(z_sumsquare)\n",
    "plt.show()"
   ]
  },
  {
   "cell_type": "markdown",
   "metadata": {},
   "source": [
    "Video Sequence"
   ]
  },
  {
   "cell_type": "code",
   "execution_count": 19,
   "metadata": {},
   "outputs": [],
   "source": [
    "import base64\n",
    "import imageio\n",
    "import IPython"
   ]
  },
  {
   "cell_type": "code",
   "execution_count": 20,
   "metadata": {},
   "outputs": [],
   "source": [
    "def embed_mp4(filename,video):\n",
    "  \"\"\"Embeds an mp4 file in the notebook.\"\"\"\n",
    "  video = open(filename,'rb').read()\n",
    "  b64 = base64.b64encode(video)\n",
    "  tag = '''\n",
    "  <video width=\"400\" height=\"300\" controls>\n",
    "    <source src=\"data:video/mp4;base64,{0}\" type=\"video/mp4\">\n",
    "  Your browser does not support the video tag.\n",
    "  </video>'''.format(b64.decode())\n",
    "\n",
    "  return IPython.display.HTML(tag)"
   ]
  },
  {
   "cell_type": "code",
   "execution_count": 21,
   "metadata": {},
   "outputs": [
    {
     "data": {
      "text/plain": [
       "False"
      ]
     },
     "execution_count": 21,
     "metadata": {},
     "output_type": "execute_result"
    }
   ],
   "source": [
    "np.array_equal(img_sequence[5], img_sequence[6])"
   ]
  },
  {
   "cell_type": "code",
   "execution_count": 22,
   "metadata": {},
   "outputs": [
    {
     "data": {
      "text/html": [
       "\n",
       "  <video width=\"400\" height=\"300\" controls>\n",
       "    <source src=\"data:video/mp4;base64,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\" type=\"video/mp4\">\n",
       "  Your browser does not support the video tag.\n",
       "  </video>"
      ],
      "text/plain": [
       "<IPython.core.display.HTML object>"
      ]
     },
     "execution_count": 22,
     "metadata": {},
     "output_type": "execute_result"
    }
   ],
   "source": [
    "filename = 'simulate_sequence_200423.mp4'\n",
    "with imageio.get_writer(filename, mode='I', macro_block_size=None) as video:    \n",
    "    for image in range(len(img_sequence)):\n",
    "        video.append_data(img_sequence[image].astype(np.uint8))\n",
    "embed_mp4(filename,video)"
   ]
  },
  {
   "cell_type": "code",
   "execution_count": null,
   "metadata": {},
   "outputs": [],
   "source": []
  },
  {
   "cell_type": "code",
   "execution_count": null,
   "metadata": {},
   "outputs": [],
   "source": []
  },
  {
   "cell_type": "code",
   "execution_count": null,
   "metadata": {},
   "outputs": [],
   "source": []
  },
  {
   "cell_type": "code",
   "execution_count": null,
   "metadata": {},
   "outputs": [],
   "source": []
  }
 ],
 "metadata": {
  "kernelspec": {
   "display_name": "venv",
   "language": "python",
   "name": "venv"
  },
  "language_info": {
   "codemirror_mode": {
    "name": "ipython",
    "version": 3
   },
   "file_extension": ".py",
   "mimetype": "text/x-python",
   "name": "python",
   "nbconvert_exporter": "python",
   "pygments_lexer": "ipython3",
   "version": "3.6.8"
  }
 },
 "nbformat": 4,
 "nbformat_minor": 4
}
