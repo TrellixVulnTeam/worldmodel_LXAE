{
 "cells": [
  {
   "cell_type": "markdown",
   "metadata": {},
   "source": [
    "# Inspect Extraction of BREAKOUT\n",
    "___\n",
    "* Reward/Trial\n",
    "* Inspect observations"
   ]
  },
  {
   "cell_type": "code",
   "execution_count": 1,
   "metadata": {},
   "outputs": [],
   "source": [
    "import numpy as np\n",
    "import os\n",
    "import matplotlib.pyplot as plt\n",
    "import gym"
   ]
  },
  {
   "cell_type": "code",
   "execution_count": 2,
   "metadata": {},
   "outputs": [],
   "source": [
    "from pathlib import Path\n",
    "path = str(Path(os.getcwd()).parent.parent)\n",
    "\n",
    "import sys\n",
    "sys.path.insert(0,path)"
   ]
  },
  {
   "cell_type": "code",
   "execution_count": 3,
   "metadata": {},
   "outputs": [],
   "source": [
    "path = '/home/student/Dropbox/MA/worldmodel/worldmodel-breakout-server-version-v3/200321'"
   ]
  },
  {
   "cell_type": "code",
   "execution_count": 4,
   "metadata": {},
   "outputs": [],
   "source": [
    "# SET\n",
    "server = True\n",
    "if server:\n",
    "    path = '/home/student/Dropbox/MA/worldmodel/worldmodel-breakout-server-version-v3/200321'\n",
    "    obs_path = path + '/record'\n",
    "    vae_path = path + '/tf_vae'\n",
    "    trainparam_path = path + '/tf_vae/vae_train_param.json'"
   ]
  },
  {
   "cell_type": "code",
   "execution_count": 7,
   "metadata": {},
   "outputs": [],
   "source": [
    "def load_raw_data_list(filelist):\n",
    "    data_list = []\n",
    "    action_list = []\n",
    "    reward_list = []\n",
    "    counter = 0\n",
    "    for i in range(len(filelist)):\n",
    "        filename = filelist[i]\n",
    "        raw_data = np.load(os.path.join(obs_path, filename))\n",
    "        # data_list.append(raw_data['obs'])\n",
    "        action_list.append(raw_data['action'])\n",
    "        reward_list.append(raw_data['reward'])\n",
    "        if ((i+1) % 1000 == 0):\n",
    "            print(\"loading file\", (i+1))\n",
    "    return action_list, reward_list #data_list, action_list, reward_list"
   ]
  },
  {
   "cell_type": "code",
   "execution_count": 8,
   "metadata": {},
   "outputs": [
    {
     "name": "stdout",
     "output_type": "stream",
     "text": [
      "loading file 1000\n",
      "loading file 2000\n",
      "loading file 3000\n",
      "loading file 4000\n",
      "loading file 5000\n",
      "loading file 6000\n",
      "loading file 7000\n",
      "loading file 8000\n",
      "loading file 9000\n",
      "loading file 10000\n"
     ]
    },
    {
     "data": {
      "text/plain": [
       "10000"
      ]
     },
     "execution_count": 8,
     "metadata": {},
     "output_type": "execute_result"
    }
   ],
   "source": [
    "filelist = os.listdir(obs_path)\n",
    "action_dataset, reward_dataset = load_raw_data_list(filelist)\n",
    "len(action_dataset)"
   ]
  },
  {
   "cell_type": "code",
   "execution_count": null,
   "metadata": {},
   "outputs": [],
   "source": [
    "len_dataset = len(dataset)\n",
    "counter = 0\n",
    "len_complete = 0\n",
    "for elem in dataset:\n",
    "    len_complete = len_complete + len(elem)\n",
    "    counter +=1\n",
    "len_complete"
   ]
  },
  {
   "cell_type": "markdown",
   "metadata": {},
   "source": [
    "## Reward"
   ]
  },
  {
   "cell_type": "code",
   "execution_count": 9,
   "metadata": {},
   "outputs": [
    {
     "data": {
      "image/png": "[encoded data removed]",
      "text/plain": [
       "<Figure size 432x288 with 1 Axes>"
      ]
     },
     "metadata": {
      "needs_background": "light"
     },
     "output_type": "display_data"
    }
   ],
   "source": [
    "episode_rew = []\n",
    "for elem in reward_dataset:\n",
    "    episode_rew.append(sum(elem))\n",
    "set_rew = set(episode_rew)\n",
    "rew_counted = []\n",
    "x_rew_counted = []\n",
    "for elem in set_rew:\n",
    "    x_rew_counted.append(elem)\n",
    "    rew_counted.append(episode_rew.count(elem))\n",
    "\n",
    "plt.bar(x_rew_counted,rew_counted)\n",
    "plt.title('Distribution of reward in extracted Trials')\n",
    "plt.show()"
   ]
  },
  {
   "cell_type": "markdown",
   "metadata": {},
   "source": [
    "## Action"
   ]
  },
  {
   "cell_type": "code",
   "execution_count": 10,
   "metadata": {},
   "outputs": [],
   "source": [
    "action_list = []\n",
    "for trial in action_dataset:\n",
    "    for frame in trial:\n",
    "        index =np.where(frame==1)\n",
    "        action_list.append(index[0].item(0))\n",
    "# action_list: list with occured actions"
   ]
  },
  {
   "cell_type": "code",
   "execution_count": 12,
   "metadata": {},
   "outputs": [
    {
     "data": {
      "image/png": "[encoded data removed]",
      "text/plain": [
       "<Figure size 432x288 with 1 Axes>"
      ]
     },
     "metadata": {
      "needs_background": "light"
     },
     "output_type": "display_data"
    },
    {
     "name": "stdout",
     "output_type": "stream",
     "text": [
      "[1251172, 1244260, 1259591, 1244977]\n",
      "Meaning of Actions: [0, 1, 2, 3] is  ['NOOP', 'FIRE', 'RIGHT', 'LEFT']\n"
     ]
    },
    {
     "name": "stderr",
     "output_type": "stream",
     "text": [
      "/home/student/PycharmProjects/worldmodel/venv/lib/python3.6/site-packages/gym/envs/registration.py:17: PkgResourcesDeprecationWarning: Parameters to load are deprecated.  Call .resolve and .require separately.\n",
      "  result = entry_point.load(False)\n"
     ]
    }
   ],
   "source": [
    "set_action = set(action_list)\n",
    "action_counted = []\n",
    "\n",
    "for elem in set_action:\n",
    "    action_counted.append(action_list.count(elem))\n",
    "    \n",
    "plt.bar(list(set_action),action_counted)\n",
    "plt.title('Distribution of action in extracted Trials')\n",
    "plt.xlabel('Actions')\n",
    "plt.show()\n",
    "\n",
    "print(action_counted)\n",
    "\n",
    "env = gym.make('Breakout-v0')\n",
    "print('Meaning of Actions: [0, 1, 2, 3] is ', env.env.get_action_meanings())"
   ]
  },
  {
   "cell_type": "code",
   "execution_count": null,
   "metadata": {},
   "outputs": [],
   "source": [
    "set_action"
   ]
  },
  {
   "cell_type": "markdown",
   "metadata": {},
   "source": [
    "## Observations\n",
    "just few trials need to be unpacked - otherwise kernel crashes"
   ]
  },
  {
   "cell_type": "code",
   "execution_count": null,
   "metadata": {},
   "outputs": [],
   "source": [
    "import base64\n",
    "import imageio\n",
    "import IPython"
   ]
  },
  {
   "cell_type": "code",
   "execution_count": null,
   "metadata": {},
   "outputs": [],
   "source": [
    "def embed_mp4(filename,video):\n",
    "  \"\"\"Embeds an mp4 file in the notebook.\"\"\"\n",
    "  video = open(filename,'rb').read()\n",
    "  b64 = base64.b64encode(video)\n",
    "  tag = '''\n",
    "  <video width=\"400\" height=\"300\" controls>\n",
    "    <source src=\"data:video/mp4;base64,{0}\" type=\"video/mp4\">\n",
    "  Your browser does not support the video tag.\n",
    "  </video>'''.format(b64.decode())\n",
    "\n",
    "  return IPython.display.HTML(tag)"
   ]
  },
  {
   "cell_type": "code",
   "execution_count": null,
   "metadata": {},
   "outputs": [],
   "source": [
    "filename = 'observations_200321.mp4'\n",
    "with imageio.get_writer(filename, mode='I') as video:    \n",
    "    for image in range(390):\n",
    "        video.append_data(np.array(dataset[0][image]*255, dtype=np.uint8))\n",
    "embed_mp4(filename,video)"
   ]
  }
 ],
 "metadata": {
  "kernelspec": {
   "display_name": "venv",
   "language": "python",
   "name": "venv"
  },
  "language_info": {
   "codemirror_mode": {
    "name": "ipython",
    "version": 3
   },
   "file_extension": ".py",
   "mimetype": "text/x-python",
   "name": "python",
   "nbconvert_exporter": "python",
   "pygments_lexer": "ipython3",
   "version": "3.6.8"
  }
 },
 "nbformat": 4,
 "nbformat_minor": 4
}
