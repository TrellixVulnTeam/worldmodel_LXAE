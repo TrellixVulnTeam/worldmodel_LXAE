{
 "cells": [
  {
   "cell_type": "markdown",
   "metadata": {},
   "source": [
    "# Simulate Dreamer"
   ]
  },
  {
   "cell_type": "markdown",
   "metadata": {},
   "source": [
    "simulate the loop with \n",
    "* get action from z with Controller and RNN\n",
    "* step:\n",
    "  * sample next z with RNN\n",
    "  * done= False until certain level of steps is reached\n",
    "  * reward = 0 - always"
   ]
  },
  {
   "cell_type": "code",
   "execution_count": 1,
   "metadata": {},
   "outputs": [],
   "source": [
    "import numpy as np\n",
    "import tensorflow as tf\n",
    "import os \n",
    "import json\n",
    "import numpy as np\n",
    "from gym.envs.atari.atari_env import AtariEnv\n",
    "from gym.spaces.box import Box\n",
    "from gym.utils import seeding\n",
    "from PIL import Image"
   ]
  },
  {
   "cell_type": "code",
   "execution_count": 2,
   "metadata": {},
   "outputs": [],
   "source": [
    "import sys\n",
    "from pathlib import Path\n",
    "path = str(Path(os.getcwd()).parent.parent)\n",
    "sys.path.insert(0, path)\n",
    "\n",
    "from breakout.vae.vae import ConvVAE\n",
    "from breakout.rnn.rnn import RNNModel, hps_sample, rnn_init_state, rnn_next_state, rnn_output, rnn_output_size"
   ]
  },
  {
   "cell_type": "code",
   "execution_count": 3,
   "metadata": {},
   "outputs": [],
   "source": [
    "load_model = True\n",
    "rnn_path='/home/student/Dropbox/MA/worldmodel/worldmodel-breakout-server-version-v2/200228/tf_rnn_10000/rnn.json'\n",
    "vae_path='/home/student/Dropbox/MA/worldmodel/worldmodel-breakout-server-version-v2/200228/tf_vae/vae.json'\n",
    "\n",
    "file = '/home/student/Dropbox/MA/worldmodel/worldmodel-breakout-server-version-v2/200228/log/breakout.cma.16.64.best.json'\n",
    "\n",
    "num_episode = 1\n",
    "frame_limit = 500"
   ]
  },
  {
   "cell_type": "code",
   "execution_count": 4,
   "metadata": {},
   "outputs": [],
   "source": [
    "SCREEN_X = 64\n",
    "SCREEN_Y = 64\n",
    "FACTOR = 3"
   ]
  },
  {
   "cell_type": "code",
   "execution_count": 5,
   "metadata": {},
   "outputs": [],
   "source": [
    "with open(os.path.join('/home/student/Dropbox/MA/worldmodel/worldmodel-breakout-server-version-v2/200228/tf_initial_z', 'initial_z.json'), 'r') as f:\n",
    "    [initial_mu, initial_logvar] = json.load(f)\n",
    "\n",
    "initial_mu_logvar = [list(elem) for elem in zip(initial_mu, initial_logvar)]"
   ]
  },
  {
   "cell_type": "code",
   "execution_count": 6,
   "metadata": {},
   "outputs": [],
   "source": [
    "seq_length = num_episode*frame_limit+1\n",
    "img_sequence = np.zeros(shape=(seq_length,64,64,3))"
   ]
  },
  {
   "cell_type": "code",
   "execution_count": 7,
   "metadata": {},
   "outputs": [],
   "source": [
    "def get_pi_idx(x, pdf):\n",
    "    N = pdf.size\n",
    "    accumulate = 0\n",
    "    for i in range(0, N):\n",
    "        accumulate += pdf[i]\n",
    "        if (accumulate >= x):\n",
    "            return i\n",
    "    print('error with sampling ensemble')\n",
    "    return -1"
   ]
  },
  {
   "cell_type": "code",
   "execution_count": 8,
   "metadata": {},
   "outputs": [],
   "source": [
    "class BreakoutDream(AtariEnv):\n",
    "    metadata = {\n",
    "        'render.modes':['human', 'rgb_array']\n",
    "    }\n",
    "    def __init__(self, agent, frame_limit):\n",
    "        self.observation_space = Box(low=0, high=255., shape=(64,64,3))\n",
    "        self.agent = agent\n",
    "        self.vae = agent.vae\n",
    "        self.rnn = agent.rnn\n",
    "        self.z_size = self.rnn.hps.encoded_img_width\n",
    "        self.viewer = None\n",
    "        self.frame_count = None\n",
    "        self.frame_limit = frame_limit\n",
    "        self.z = None\n",
    "        self.temperature = 0.7\n",
    "        self.seq_counter=0\n",
    "\n",
    "    def _seed(self, seed=None):\n",
    "        self.np_random, seed = seeding.np_random(seed)\n",
    "        return [seed]\n",
    "\n",
    "    def _sample_next_z(self, action):\n",
    "        r_model = self.rnn\n",
    "        temp = self.temperature\n",
    "\n",
    "        sess = r_model.sess\n",
    "        hps = r_model.hps\n",
    "\n",
    "        prev_x = np.zeros((1, 1, self.z_size))\n",
    "        prev_x[0][0] = self.z\n",
    "\n",
    "        input_x = np.concatenate((prev_x, action.reshape(1, 1, 4)), axis=2)\n",
    "        feed = {\n",
    "            r_model.input_x : input_x,\n",
    "            r_model.initial_state: self.agent.state\n",
    "        }\n",
    "        [logmix, mean, logstd, self.agent.state] = sess.run(\n",
    "            [r_model.out_logmix, r_model.out_mean, r_model.out_logstd, r_model.final_state], feed)\n",
    "\n",
    "        # adjust temperatures\n",
    "        logmix2 = np.copy(logmix) / temp\n",
    "        logmix2 -= logmix2.max()\n",
    "        logmix2 = np.exp(logmix2)\n",
    "        logmix2 /= logmix2.sum(axis=1).reshape(self.z_size, 1)\n",
    "\n",
    "        mixture_idx = np.zeros(self.z_size)\n",
    "        chosen_mean = np.zeros(self.z_size)\n",
    "        chosen_logstd = np.zeros(self.z_size)\n",
    "        for j in range(self.z_size):\n",
    "            idx = get_pi_idx(self.np_random.rand(), logmix2[j])\n",
    "            mixture_idx[j] = idx\n",
    "            chosen_mean[j] = mean[j][idx]\n",
    "            chosen_logstd[j] = logstd[j][idx]\n",
    "\n",
    "        rand_gaussian = self.np_random.randn(self.z_size)*np.sqrt(temp)\n",
    "        next_x = chosen_mean + np.exp(chosen_logstd)*rand_gaussian\n",
    "\n",
    "        next_z = next_x.reshape(self.z_size)\n",
    "\n",
    "        return next_z\n",
    "\n",
    "    def _reset(self):\n",
    "        idx = self.np_random.randint(0,len(initial_mu_logvar))\n",
    "        init_mu, init_logvar = initial_mu_logvar[idx]\n",
    "        init_mu = np.array(init_mu)/10000.\n",
    "        init_logvar = np.array(init_logvar)/10000.\n",
    "\n",
    "        self.z = init_mu + np.exp(init_logvar/2.0) * self.np_random.randn(*init_logvar.shape)\n",
    "\n",
    "        self.frame_count = 0\n",
    "        return self.z\n",
    "\n",
    "    def _step(self, action_one_hot):\n",
    "        self.frame_count += 1\n",
    "        next_z = self._sample_next_z(action_one_hot)\n",
    "        reward = 0\n",
    "        done = False\n",
    "        if self.frame_count > self.frame_limit:\n",
    "            done = True\n",
    "        self.z = next_z\n",
    "        return next_z, reward, done, {}\n",
    "\n",
    "    def _render(self, mode='human', close = False):\n",
    "        img = self.vae.decode(self.z.reshape(1, self.z_size))*255.\n",
    "        img = np.round(img).astype(np.uint8)\n",
    "        img = img.reshape(64,64,3)\n",
    "        \n",
    "        seq_counter = self.seq_counter\n",
    "        img_sequence[seq_counter,:,:,:] = img\n",
    "        seq_counter+=1\n",
    "        self.seq_counter = seq_counter\n",
    "\n",
    "        img = Image.fromarray(img)\n",
    "        img_resize = img.resize(size=(int(np.round(SCREEN_Y*FACTOR)), int(np.round(SCREEN_X*FACTOR))))\n",
    "        img_resize = np.array(img_resize)\n",
    "\n",
    "        if close:\n",
    "            if self.viewer is not None:\n",
    "                self.viewer.close()\n",
    "                self.viewer = None\n",
    "            return\n",
    "\n",
    "        if mode == 'rgb_array':\n",
    "            return img_resize\n",
    "        elif mode == 'human':\n",
    "            from gym.envs.classic_control import rendering\n",
    "            if self.viewer is None:\n",
    "                self.viewer = rendering.SimpleImageViewer()\n",
    "            self.viewer.imshow(img_resize)"
   ]
  },
  {
   "cell_type": "code",
   "execution_count": 9,
   "metadata": {},
   "outputs": [],
   "source": [
    "def make_env(env_name, agent, frame_limit, seed=-1, render_mode = False):\n",
    "    env = BreakoutDream(agent, frame_limit)\n",
    "    if seed<0:\n",
    "        seed = np.random.randint(2**31-1)\n",
    "    env.seed(seed)\n",
    "    return env"
   ]
  },
  {
   "cell_type": "code",
   "execution_count": 10,
   "metadata": {},
   "outputs": [],
   "source": [
    "def softmax(x):\n",
    "    return np.exp(x)/ np.sum(np.exp(x), axis=0)"
   ]
  },
  {
   "cell_type": "code",
   "execution_count": 11,
   "metadata": {},
   "outputs": [],
   "source": [
    "class DreamModel():\n",
    "    def __init__(self, load_model=True,   rnn_path='tf_rnn/rnn.json', vae_path='tf_vae/vae.json', frame_limit=1200):\n",
    "        self.env_name = 'Breakout-v0'\n",
    "\n",
    "        self.vae = ConvVAE(batch_size=1, gpu_mode=False, is_training=False, reuse=True)\n",
    "        self.rnn = RNNModel(hps_sample, gpu_mode=False, reuse=True)\n",
    "\n",
    "        if load_model:\n",
    "            self.vae.load_json(vae_path)  # vae_path)\n",
    "            self.rnn.load_json(rnn_path)\n",
    "\n",
    "        self.frame_limit=frame_limit\n",
    "        self._make_env()\n",
    "\n",
    "        self.state = rnn_init_state(self.rnn)\n",
    "        self.rnn_mode = True\n",
    "\n",
    "        self.input_size = rnn_output_size()\n",
    "        self.z_size = 32\n",
    "\n",
    "        self.render_mode = False\n",
    "\n",
    "    def _make_env(self, seed=-1, render_mode =False):\n",
    "        self.render_mode = render_mode\n",
    "        self.env = make_env(self.env_name, agent = self, frame_limit= self.frame_limit, seed = seed)\n",
    "\n",
    "    def reset(self):\n",
    "        self.state = rnn_init_state(self.rnn)\n",
    "\n",
    "    def encode_obs(self, obs):\n",
    "        result = np.expand_dims(obs, axis=0)\n",
    "        mu, logvar = self.vae.encode_mu_logvar(result)\n",
    "        mu = mu[0]\n",
    "        logvar = logvar[0]\n",
    "        s = logvar.shape\n",
    "        z = mu + np.exp(logvar / 2.0) * np.random.randn(*s)\n",
    "        return z, mu, logvar\n",
    "\n",
    "    def get_action(self, z):\n",
    "        h = rnn_output(self.state, z)\n",
    "        action = softmax(np.matmul(h, self.weight) + self.bias)\n",
    "        action = np.argmax(action)\n",
    "        action_one_hot = np.zeros(self.rnn.hps.num_actions)\n",
    "        action_one_hot[action] = 1\n",
    "        self.state = rnn_next_state(self.rnn, z, action_one_hot, self.state)\n",
    "        return action_one_hot, action\n",
    "\n",
    "    def set_model_params(self, model_params):\n",
    "        self.bias = np.array(model_params[:4])\n",
    "        self.weight = np.array(model_params[4:]).reshape(self.input_size, 4)\n",
    "\n",
    "    def load_model(self, filename):\n",
    "        with open(filename) as f:\n",
    "            data = json.load(f)\n",
    "        print('loading file %s' % (filename))\n",
    "        self.data = data\n",
    "        model_params = np.array(data[0])  # assuming other stuff is in data\n",
    "        self.set_model_params(model_params)"
   ]
  },
  {
   "cell_type": "code",
   "execution_count": 12,
   "metadata": {},
   "outputs": [
    {
     "name": "stdout",
     "output_type": "stream",
     "text": [
      "INFO:tensorflow:Model using cpu.\n"
     ]
    }
   ],
   "source": [
    "model = DreamModel(load_model, rnn_path, vae_path, frame_limit=frame_limit)"
   ]
  },
  {
   "cell_type": "code",
   "execution_count": 13,
   "metadata": {},
   "outputs": [
    {
     "name": "stdout",
     "output_type": "stream",
     "text": [
      "loading file /home/student/Dropbox/MA/worldmodel/worldmodel-breakout-server-version-v2/200228/log/breakout.cma.16.64.best.json\n"
     ]
    }
   ],
   "source": [
    "model.load_model(file)"
   ]
  },
  {
   "cell_type": "code",
   "execution_count": 14,
   "metadata": {},
   "outputs": [],
   "source": [
    "def simulate(model, train_mode=False, render_mode=False, num_episode=1, seed=-1, max_len=-1):\n",
    "    reward_list = []\n",
    "    t_list= []\n",
    "    action_list = []\n",
    "    z_sumsquare = []\n",
    "    max_episode_length = 2100\n",
    "\n",
    "    if max_len>0:\n",
    "        max_episode_length = max_len\n",
    "\n",
    "    if (seed >= 0):\n",
    "        random.seed(seed)\n",
    "        np.random.seed(seed)\n",
    "        model.env.seed(seed)\n",
    "\n",
    "    for episode in range(num_episode):\n",
    "        model.reset()\n",
    "        z = model.env.reset()\n",
    "\n",
    "        for t in range(max_episode_length):\n",
    "            action_one_hot, action = model.get_action(z)\n",
    "            action_list.append(action)\n",
    "\n",
    "            if render_mode:\n",
    "                model.env.render('human')\n",
    "            else:\n",
    "                model.env.render('rgb_array')\n",
    "\n",
    "\n",
    "            z, reward, done, info = model.env.step(action_one_hot) # two problems here: where to get reward and done info ?\n",
    "            z_sumsquare.append(np.sum(np.square(z)))\n",
    "\n",
    "            if done:\n",
    "                model.env.viewer.close()\n",
    "                model.env.viewer = None\n",
    "                break\n",
    "        t_list.append(t)\n",
    "\n",
    "    return reward_list, t_list, action_list, z_sumsquare"
   ]
  },
  {
   "cell_type": "code",
   "execution_count": 15,
   "metadata": {},
   "outputs": [
    {
     "name": "stdout",
     "output_type": "stream",
     "text": [
      "terminal reward:  []  ,average steps taken:  501.0\n"
     ]
    }
   ],
   "source": [
    "reward, steps_taken, action_list, z_sumsquare = simulate(model, train_mode=False, render_mode=True, num_episode=num_episode)\n",
    "print('terminal reward: ', reward, ' ,average steps taken: ', np.mean(steps_taken)+1)"
   ]
  },
  {
   "cell_type": "markdown",
   "metadata": {},
   "source": [
    "## Auswertung"
   ]
  },
  {
   "cell_type": "code",
   "execution_count": 16,
   "metadata": {},
   "outputs": [],
   "source": [
    "import matplotlib.pyplot as plt"
   ]
  },
  {
   "cell_type": "markdown",
   "metadata": {},
   "source": [
    "Action Distribution"
   ]
  },
  {
   "cell_type": "code",
   "execution_count": 17,
   "metadata": {},
   "outputs": [
    {
     "data": {
      "image/png": "[encoded data removed]",
      "text/plain": [
       "<Figure size 432x288 with 1 Axes>"
      ]
     },
     "metadata": {
      "needs_background": "light"
     },
     "output_type": "display_data"
    }
   ],
   "source": [
    "set_action = set(action_list)\n",
    "action_counted = []\n",
    "for action_elem in set_action:\n",
    "    action_counted.append(action_list.count(action_elem))\n",
    "\n",
    "plt.bar(list(set_action), action_counted)\n",
    "plt.title('Distribution of action in trial')\n",
    "plt.show()"
   ]
  },
  {
   "cell_type": "markdown",
   "metadata": {},
   "source": [
    "Evolving z"
   ]
  },
  {
   "cell_type": "code",
   "execution_count": 18,
   "metadata": {},
   "outputs": [
    {
     "data": {
      "image/png": "[encoded data removed]",
      "text/plain": [
       "<Figure size 432x288 with 1 Axes>"
      ]
     },
     "metadata": {
      "needs_background": "light"
     },
     "output_type": "display_data"
    }
   ],
   "source": [
    "plt.plot(z_sumsquare)\n",
    "plt.show()"
   ]
  },
  {
   "cell_type": "markdown",
   "metadata": {},
   "source": [
    "Video Sequence"
   ]
  },
  {
   "cell_type": "code",
   "execution_count": 19,
   "metadata": {},
   "outputs": [],
   "source": [
    "import base64\n",
    "import imageio\n",
    "import IPython"
   ]
  },
  {
   "cell_type": "code",
   "execution_count": 20,
   "metadata": {},
   "outputs": [],
   "source": [
    "def embed_mp4(filename,video):\n",
    "  \"\"\"Embeds an mp4 file in the notebook.\"\"\"\n",
    "  video = open(filename,'rb').read()\n",
    "  b64 = base64.b64encode(video)\n",
    "  tag = '''\n",
    "  <video width=\"400\" height=\"300\" controls>\n",
    "    <source src=\"data:video/mp4;base64,{0}\" type=\"video/mp4\">\n",
    "  Your browser does not support the video tag.\n",
    "  </video>'''.format(b64.decode())\n",
    "\n",
    "  return IPython.display.HTML(tag)"
   ]
  },
  {
   "cell_type": "code",
   "execution_count": 21,
   "metadata": {},
   "outputs": [
    {
     "data": {
      "text/plain": [
       "False"
      ]
     },
     "execution_count": 21,
     "metadata": {},
     "output_type": "execute_result"
    }
   ],
   "source": [
    "np.array_equal(img_sequence[5], img_sequence[6])"
   ]
  },
  {
   "cell_type": "code",
   "execution_count": 22,
   "metadata": {},
   "outputs": [
    {
     "data": {
      "text/html": [
       "\n",
       "  <video width=\"400\" height=\"300\" controls>\n",
       "    <source src=\"data:video/mp4;base64,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\" type=\"video/mp4\">\n",
       "  Your browser does not support the video tag.\n",
       "  </video>"
      ],
      "text/plain": [
       "<IPython.core.display.HTML object>"
      ]
     },
     "execution_count": 22,
     "metadata": {},
     "output_type": "execute_result"
    }
   ],
   "source": [
    "filename = 'simulate_sequence_200228.mp4'\n",
    "with imageio.get_writer(filename, mode='I', macro_block_size=None) as video:    \n",
    "    for image in range(len(img_sequence)):\n",
    "        video.append_data(img_sequence[image].astype(np.uint8))\n",
    "embed_mp4(filename,video)"
   ]
  },
  {
   "cell_type": "code",
   "execution_count": null,
   "metadata": {},
   "outputs": [],
   "source": []
  },
  {
   "cell_type": "code",
   "execution_count": null,
   "metadata": {},
   "outputs": [],
   "source": []
  },
  {
   "cell_type": "code",
   "execution_count": null,
   "metadata": {},
   "outputs": [],
   "source": []
  },
  {
   "cell_type": "code",
   "execution_count": null,
   "metadata": {},
   "outputs": [],
   "source": []
  }
 ],
 "metadata": {
  "kernelspec": {
   "display_name": "venv",
   "language": "python",
   "name": "venv"
  },
  "language_info": {
   "codemirror_mode": {
    "name": "ipython",
    "version": 3
   },
   "file_extension": ".py",
   "mimetype": "text/x-python",
   "name": "python",
   "nbconvert_exporter": "python",
   "pygments_lexer": "ipython3",
   "version": "3.6.8"
  }
 },
 "nbformat": 4,
 "nbformat_minor": 4
}
