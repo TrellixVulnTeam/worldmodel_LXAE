{
 "cells": [
  {
   "cell_type": "markdown",
   "metadata": {},
   "source": [
    "# MDN_RNN\n",
    "___\n",
    "* MDN-RNN output: next latent vector z\n",
    "* see training params"
   ]
  },
  {
   "cell_type": "code",
   "execution_count": 1,
   "metadata": {},
   "outputs": [],
   "source": [
    "%load_ext autoreload\n",
    "%autoreload 2\n",
    "\n",
    "import tensorflow as tf\n",
    "import numpy as np\n",
    "import os\n",
    "import matplotlib.pyplot as plt\n",
    "import json"
   ]
  },
  {
   "cell_type": "code",
   "execution_count": 3,
   "metadata": {},
   "outputs": [],
   "source": [
    "from pathlib import Path\n",
    "path = str(Path(os.getcwd()).parent)\n",
    "import_path = str(Path(os.getcwd()).parent.parent)\n",
    "\n",
    "import sys\n",
    "sys.path.insert(0,path)\n",
    "from breakout.rnn.rnn import RNNModel, hps_sample, rnn_init_state\n",
    "from breakout.vae.vae import ConvVAE\n",
    "\n",
    "sys.path.insert(0, import_path)\n",
    "from WorldModelsExperiments.breakout.model import Model, _process_frame"
   ]
  },
  {
   "cell_type": "code",
   "execution_count": 3,
   "metadata": {},
   "outputs": [],
   "source": [
    "server = True\n",
    "if server:\n",
    "    rnn_path = path + '/breakout/results_200218/tf_rnn'\n",
    "    series_path = path + '/breakout/results_200218/series'\n",
    "    vae_path = path + '/breakout/results_200218/tf_vae'\n",
    "    obs_path = path + '/breakout/results_200218/record'\n",
    "    series_path = path + '/breakout/results_200218/series'\n"
   ]
  },
  {
   "cell_type": "markdown",
   "metadata": {},
   "source": [
    "## See MDN-RNN output\n",
    "from Model()"
   ]
  },
  {
   "cell_type": "code",
   "execution_count": 4,
   "metadata": {},
   "outputs": [
    {
     "name": "stderr",
     "output_type": "stream",
     "text": [
      "/home/student/PycharmProjects/worldmodel/venv/lib/python3.6/site-packages/gym/envs/registration.py:17: PkgResourcesDeprecationWarning: Parameters to load are deprecated.  Call .resolve and .require separately.\n",
      "  result = entry_point.load(False)\n"
     ]
    },
    {
     "name": "stdout",
     "output_type": "stream",
     "text": [
      "INFO:tensorflow:Model using cpu.\n",
      "model using cpu\n",
      "input dropout mode = False\n",
      "output dropout mode = False\n",
      "recurrent dropout mode = False\n"
     ]
    },
    {
     "ename": "FileNotFoundError",
     "evalue": "[Errno 2] No such file or directory: '/home/student/PycharmProjects/worldmodel/WorldModelsExperiments/breakout/results_200218/tf_rnn/rnn.json'",
     "output_type": "error",
     "traceback": [
      "\u001b[0;31m---------------------------------------------------------------------------\u001b[0m",
      "\u001b[0;31mFileNotFoundError\u001b[0m                         Traceback (most recent call last)",
      "\u001b[0;32m<ipython-input-4-261a35b41c8f>\u001b[0m in \u001b[0;36m<module>\u001b[0;34m\u001b[0m\n\u001b[0;32m----> 1\u001b[0;31m \u001b[0mmodel\u001b[0m \u001b[0;34m=\u001b[0m \u001b[0mModel\u001b[0m\u001b[0;34m(\u001b[0m\u001b[0mload_model\u001b[0m\u001b[0;34m=\u001b[0m\u001b[0;32mTrue\u001b[0m\u001b[0;34m,\u001b[0m \u001b[0mrnn_path\u001b[0m\u001b[0;34m=\u001b[0m\u001b[0mos\u001b[0m\u001b[0;34m.\u001b[0m\u001b[0mpath\u001b[0m\u001b[0;34m.\u001b[0m\u001b[0mjoin\u001b[0m\u001b[0;34m(\u001b[0m\u001b[0mrnn_path\u001b[0m\u001b[0;34m,\u001b[0m \u001b[0;34m'rnn.json'\u001b[0m\u001b[0;34m)\u001b[0m\u001b[0;34m,\u001b[0m \u001b[0mvae_path\u001b[0m\u001b[0;34m=\u001b[0m\u001b[0mos\u001b[0m\u001b[0;34m.\u001b[0m\u001b[0mpath\u001b[0m\u001b[0;34m.\u001b[0m\u001b[0mjoin\u001b[0m\u001b[0;34m(\u001b[0m\u001b[0mvae_path\u001b[0m\u001b[0;34m,\u001b[0m \u001b[0;34m'vae.json'\u001b[0m\u001b[0;34m)\u001b[0m\u001b[0;34m)\u001b[0m\u001b[0;34m\u001b[0m\u001b[0;34m\u001b[0m\u001b[0m\n\u001b[0m",
      "\u001b[0;32m~/PycharmProjects/worldmodel/WorldModelsExperiments/breakout/model.py\u001b[0m in \u001b[0;36m__init__\u001b[0;34m(self, load_model, rnn_path, vae_path)\u001b[0m\n\u001b[1;32m     68\u001b[0m     \u001b[0;32mif\u001b[0m \u001b[0mload_model\u001b[0m\u001b[0;34m:\u001b[0m\u001b[0;34m\u001b[0m\u001b[0;34m\u001b[0m\u001b[0m\n\u001b[1;32m     69\u001b[0m       \u001b[0mself\u001b[0m\u001b[0;34m.\u001b[0m\u001b[0mvae\u001b[0m\u001b[0;34m.\u001b[0m\u001b[0mload_json\u001b[0m\u001b[0;34m(\u001b[0m\u001b[0mvae_path\u001b[0m\u001b[0;34m)\u001b[0m  \u001b[0;31m# vae_path)\u001b[0m\u001b[0;34m\u001b[0m\u001b[0;34m\u001b[0m\u001b[0m\n\u001b[0;32m---> 70\u001b[0;31m       \u001b[0mself\u001b[0m\u001b[0;34m.\u001b[0m\u001b[0mrnn\u001b[0m\u001b[0;34m.\u001b[0m\u001b[0mload_json\u001b[0m\u001b[0;34m(\u001b[0m\u001b[0mrnn_path\u001b[0m\u001b[0;34m)\u001b[0m\u001b[0;34m\u001b[0m\u001b[0;34m\u001b[0m\u001b[0m\n\u001b[0m\u001b[1;32m     71\u001b[0m \u001b[0;34m\u001b[0m\u001b[0m\n\u001b[1;32m     72\u001b[0m     \u001b[0mself\u001b[0m\u001b[0;34m.\u001b[0m\u001b[0mstate\u001b[0m \u001b[0;34m=\u001b[0m \u001b[0mrnn_init_state\u001b[0m\u001b[0;34m(\u001b[0m\u001b[0mself\u001b[0m\u001b[0;34m.\u001b[0m\u001b[0mrnn\u001b[0m\u001b[0;34m)\u001b[0m\u001b[0;34m\u001b[0m\u001b[0;34m\u001b[0m\u001b[0m\n",
      "\u001b[0;32m~/PycharmProjects/worldmodel/WorldModelsExperiments/breakout/rnn/rnn.py\u001b[0m in \u001b[0;36mload_json\u001b[0;34m(self, jsonfile)\u001b[0m\n\u001b[1;32m    260\u001b[0m \u001b[0;34m\u001b[0m\u001b[0m\n\u001b[1;32m    261\u001b[0m     \u001b[0;32mdef\u001b[0m \u001b[0mload_json\u001b[0m\u001b[0;34m(\u001b[0m\u001b[0mself\u001b[0m\u001b[0;34m,\u001b[0m \u001b[0mjsonfile\u001b[0m\u001b[0;34m=\u001b[0m\u001b[0;34m'rnn.json'\u001b[0m\u001b[0;34m)\u001b[0m\u001b[0;34m:\u001b[0m\u001b[0;34m\u001b[0m\u001b[0;34m\u001b[0m\u001b[0m\n\u001b[0;32m--> 262\u001b[0;31m         \u001b[0;32mwith\u001b[0m \u001b[0mopen\u001b[0m\u001b[0;34m(\u001b[0m\u001b[0mjsonfile\u001b[0m\u001b[0;34m,\u001b[0m \u001b[0;34m'r'\u001b[0m\u001b[0;34m)\u001b[0m \u001b[0;32mas\u001b[0m \u001b[0mf\u001b[0m\u001b[0;34m:\u001b[0m\u001b[0;34m\u001b[0m\u001b[0;34m\u001b[0m\u001b[0m\n\u001b[0m\u001b[1;32m    263\u001b[0m             \u001b[0mparams\u001b[0m \u001b[0;34m=\u001b[0m \u001b[0mjson\u001b[0m\u001b[0;34m.\u001b[0m\u001b[0mload\u001b[0m\u001b[0;34m(\u001b[0m\u001b[0mf\u001b[0m\u001b[0;34m)\u001b[0m\u001b[0;34m\u001b[0m\u001b[0;34m\u001b[0m\u001b[0m\n\u001b[1;32m    264\u001b[0m         \u001b[0mself\u001b[0m\u001b[0;34m.\u001b[0m\u001b[0mset_model_params\u001b[0m\u001b[0;34m(\u001b[0m\u001b[0mparams\u001b[0m\u001b[0;34m)\u001b[0m\u001b[0;34m\u001b[0m\u001b[0;34m\u001b[0m\u001b[0m\n",
      "\u001b[0;31mFileNotFoundError\u001b[0m: [Errno 2] No such file or directory: '/home/student/PycharmProjects/worldmodel/WorldModelsExperiments/breakout/results_200218/tf_rnn/rnn.json'"
     ]
    }
   ],
   "source": [
    "model = Model(load_model=True, rnn_path=os.path.join(rnn_path, 'rnn.json'), vae_path=os.path.join(vae_path, 'vae.json'))"
   ]
  },
  {
   "cell_type": "code",
   "execution_count": null,
   "metadata": {},
   "outputs": [],
   "source": [
    "series = np.load(os.path.join(series_path,'series.npz'))\n",
    "data_mu = series['mu']\n",
    "data_logvar = series['logvar']\n",
    "data_action = series['action']"
   ]
  },
  {
   "cell_type": "code",
   "execution_count": null,
   "metadata": {},
   "outputs": [],
   "source": [
    "data_mu[0].shape"
   ]
  },
  {
   "cell_type": "code",
   "execution_count": null,
   "metadata": {},
   "outputs": [],
   "source": [
    "z = data_mu[0] + np.exp(data_logvar[0]/2.0) * np.random.randn(*logvar[0].shape)"
   ]
  },
  {
   "cell_type": "code",
   "execution_count": null,
   "metadata": {},
   "outputs": [],
   "source": [
    "z.shape"
   ]
  },
  {
   "cell_type": "code",
   "execution_count": null,
   "metadata": {},
   "outputs": [],
   "source": [
    "z_dec = vae.decode(z[0].reshape(1,32))\n",
    "z_dec.max()"
   ]
  },
  {
   "cell_type": "code",
   "execution_count": null,
   "metadata": {},
   "outputs": [],
   "source": [
    "data_action[0][0].shape"
   ]
  },
  {
   "cell_type": "code",
   "execution_count": null,
   "metadata": {},
   "outputs": [],
   "source": [
    "state = model.state \n",
    "\n",
    "h = np.concatenate([z[0],state.h[0]])\n",
    "\n",
    "input_x = np.concatenate((z[0].reshape((1, 1, 32)), data_action[0][0].reshape((1, 1, 4))), axis=2)\n",
    "feed = {\n",
    "    model.rnn.input_x: input_x,\n",
    "    model.rnn.initial_state: state\n",
    "}\n",
    "\n",
    "[logmix, mean, logstd, next_state] = model.rnn.sess.run([\n",
    "    model.rnn.out_logmix, model.rnn.out_mean, model.rnn.out_logstd, model.rnn.final_state],\n",
    "    feed\n",
    ") # different output from rnn_mdn"
   ]
  },
  {
   "cell_type": "code",
   "execution_count": null,
   "metadata": {},
   "outputs": [],
   "source": [
    "z_dim = 32\n",
    "chosen_log_pi = np.zeros(z_dim)\n",
    "chosen_mu = np.zeros(z_dim)\n",
    "chosen_log_sigma = np.zeros(z_dim)\n",
    "\n",
    "#adjust temp\n",
    "pi = np.copy(logmix) #/temperature\n",
    "logmix2 = np.exp(pi)\n",
    "logmix2 /= logmix2.sum(axis=1).reshape(z_dim, 1)\n",
    "logmix2.shape"
   ]
  },
  {
   "cell_type": "code",
   "execution_count": null,
   "metadata": {},
   "outputs": [],
   "source": [
    "from gym.utils import seeding\n",
    "np_random, seed = seeding.np_random()"
   ]
  },
  {
   "cell_type": "code",
   "execution_count": null,
   "metadata": {},
   "outputs": [],
   "source": [
    "def get_pi_idx(x, pdf):\n",
    "  # samples from a categorial distribution\n",
    "    N = pdf.size\n",
    "    accumulate = 0\n",
    "    for i in range(0, N):\n",
    "        accumulate += pdf[i]\n",
    "        if (accumulate >= x):\n",
    "            return i\n",
    "    random_value = np.random.randint(N)\n",
    "    #print('error with sampling ensemble, returning random', random_value)\n",
    "    return random_value"
   ]
  },
  {
   "cell_type": "code",
   "execution_count": null,
   "metadata": {},
   "outputs": [],
   "source": [
    "def sample_z(mu, log_sigma):\n",
    "    z =  mu + (np.exp(log_sigma)) * np_random.randn(*log_sigma.shape) * 0.5\n",
    "    return z"
   ]
  },
  {
   "cell_type": "code",
   "execution_count": null,
   "metadata": {},
   "outputs": [],
   "source": [
    "for j in range(z_dim):\n",
    "    idx = get_pi_idx(np_random.rand(), logmix2[j])\n",
    "    chosen_log_pi[j] = idx\n",
    "    chosen_mu[j] = mean[j, idx]\n",
    "    chosen_log_sigma[j] = logstd[j,idx]\n",
    "    \n",
    "next_z = sample_z(chosen_mu, chosen_log_sigma)\n",
    "next_z.shape"
   ]
  },
  {
   "cell_type": "code",
   "execution_count": null,
   "metadata": {},
   "outputs": [],
   "source": [
    "from breakout.vae.vae import ConvVAE\n",
    "vae = ConvVAE()\n",
    "vae.load_json(os.path.join(vae_path, 'vae.json'))\n",
    "\n",
    "next_z = next_z.reshape(1,32)\n",
    "next_z_decoded = vae.decode(next_z)\n",
    "next_z_decoded = next_z_decoded.reshape(64,64,3)\n",
    "\n",
    "plt.imshow(next_z_decoded)\n",
    "plt.show()"
   ]
  },
  {
   "cell_type": "markdown",
   "metadata": {},
   "source": [
    "## Training Param"
   ]
  },
  {
   "cell_type": "code",
   "execution_count": 5,
   "metadata": {},
   "outputs": [
    {
     "data": {
      "image/png": "[encoded data removed]",
      "text/plain": [
       "<Figure size 432x288 with 1 Axes>"
      ]
     },
     "metadata": {
      "needs_background": "light"
     },
     "output_type": "display_data"
    }
   ],
   "source": [
    "#with open(rnn_path +'/rnn_train_param.json', 'r') as file:\n",
    "with open('/home/student/PycharmProjects/worldmodel/WorldModelsExperiments/breakout/tf_rnn/rnn_train_param.json', 'r')as file:\n",
    "    train_param = json.load(file)\n",
    "train_cost = []\n",
    "curr_learning_rate = []\n",
    "for params in train_param:\n",
    "    train_cost.append(params['train_cost'])\n",
    "    \n",
    "plt.plot(train_cost, label='Train Cost')\n",
    "plt.legend(loc='upper right')\n",
    "plt.xlabel('Steps')\n",
    "plt.title('Params during Training')\n",
    "plt.show()"
   ]
  }
 ],
 "metadata": {
  "kernelspec": {
   "display_name": "venv",
   "language": "python",
   "name": "venv"
  },
  "language_info": {
   "codemirror_mode": {
    "name": "ipython",
    "version": 3
   },
   "file_extension": ".py",
   "mimetype": "text/x-python",
   "name": "python",
   "nbconvert_exporter": "python",
   "pygments_lexer": "ipython3",
   "version": "3.6.8"
  }
 },
 "nbformat": 4,
 "nbformat_minor": 4
}
