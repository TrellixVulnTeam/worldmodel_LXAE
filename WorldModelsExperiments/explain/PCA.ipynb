{
 "cells": [
  {
   "cell_type": "code",
   "execution_count": 11,
   "metadata": {},
   "outputs": [],
   "source": [
    "import os\n",
    "from sklearn import manifold\n",
    "import numpy as np\n",
    "import pandas as pd\n",
    "import matplotlib.pyplot as plt"
   ]
  },
  {
   "cell_type": "code",
   "execution_count": 5,
   "metadata": {},
   "outputs": [
    {
     "name": "stderr",
     "output_type": "stream",
     "text": [
      "/home/dakaun/PycharmProjects/world_model/venv/lib/python3.6/site-packages/tensorflow/python/framework/dtypes.py:519: FutureWarning: Passing (type, 1) or '1type' as a synonym of type is deprecated; in a future version of numpy, it will be understood as (type, (1,)) / '(1,)type'.\n",
      "  _np_qint8 = np.dtype([(\"qint8\", np.int8, 1)])\n",
      "/home/dakaun/PycharmProjects/world_model/venv/lib/python3.6/site-packages/tensorflow/python/framework/dtypes.py:520: FutureWarning: Passing (type, 1) or '1type' as a synonym of type is deprecated; in a future version of numpy, it will be understood as (type, (1,)) / '(1,)type'.\n",
      "  _np_quint8 = np.dtype([(\"quint8\", np.uint8, 1)])\n",
      "/home/dakaun/PycharmProjects/world_model/venv/lib/python3.6/site-packages/tensorflow/python/framework/dtypes.py:521: FutureWarning: Passing (type, 1) or '1type' as a synonym of type is deprecated; in a future version of numpy, it will be understood as (type, (1,)) / '(1,)type'.\n",
      "  _np_qint16 = np.dtype([(\"qint16\", np.int16, 1)])\n",
      "/home/dakaun/PycharmProjects/world_model/venv/lib/python3.6/site-packages/tensorflow/python/framework/dtypes.py:522: FutureWarning: Passing (type, 1) or '1type' as a synonym of type is deprecated; in a future version of numpy, it will be understood as (type, (1,)) / '(1,)type'.\n",
      "  _np_quint16 = np.dtype([(\"quint16\", np.uint16, 1)])\n",
      "/home/dakaun/PycharmProjects/world_model/venv/lib/python3.6/site-packages/tensorflow/python/framework/dtypes.py:523: FutureWarning: Passing (type, 1) or '1type' as a synonym of type is deprecated; in a future version of numpy, it will be understood as (type, (1,)) / '(1,)type'.\n",
      "  _np_qint32 = np.dtype([(\"qint32\", np.int32, 1)])\n",
      "/home/dakaun/PycharmProjects/world_model/venv/lib/python3.6/site-packages/tensorflow/python/framework/dtypes.py:528: FutureWarning: Passing (type, 1) or '1type' as a synonym of type is deprecated; in a future version of numpy, it will be understood as (type, (1,)) / '(1,)type'.\n",
      "  np_resource = np.dtype([(\"resource\", np.ubyte, 1)])\n"
     ]
    }
   ],
   "source": [
    "import sys\n",
    "from pathlib import Path\n",
    "path = str(Path(os.getcwd()).parent)\n",
    "sys.path.insert(0, path)\n",
    "from breakout.vae.vae import ConvVAE\n",
    "\n",
    "import_path = str(Path(os.getcwd()).parent)\n",
    "\n",
    "sys.path.insert(0, import_path)\n",
    "\n",
    "from breakout.model import make_model, _process_frame"
   ]
  },
  {
   "cell_type": "code",
   "execution_count": 6,
   "metadata": {},
   "outputs": [],
   "source": [
    "num_actions = 4\n",
    "    \n",
    "gamename ='breakout'\n",
    "optimizer = 'cma'\n",
    "num_episode = 16\n",
    "population = 32 # = num_workers * num_worker_trial\n",
    "    \n",
    "path = '/home/dakaun/Dropbox/MA/worldmodel/worldmodel-breakout-server-version-v3/200420'\n",
    "    \n",
    "file_path = path + '/log/'\n",
    "file_base = gamename+'.'+optimizer+'.'+str(num_episode)+'.'+str(population)\n",
    "    \n",
    "vae_path = path + '/tf_vae'\n",
    "rnn_path = path + '/tf_rnn'\n",
    "    \n",
    "record = path + '/record'"
   ]
  },
  {
   "cell_type": "code",
   "execution_count": 7,
   "metadata": {},
   "outputs": [
    {
     "name": "stdout",
     "output_type": "stream",
     "text": [
      "INFO:tensorflow:Model using cpu.\n",
      "loading file /home/dakaun/Dropbox/MA/worldmodel/worldmodel-breakout-server-version-v3/200420/log/breakout.cma.16.32.best.json\n"
     ]
    }
   ],
   "source": [
    "model = make_model(rnn_path=os.path.join(rnn_path, 'rnn.json'), vae_path=os.path.join(vae_path, 'vae.json'))\n",
    "\n",
    "model.load_model(os.path.join(file_path, file_base + '.best.json'))"
   ]
  },
  {
   "cell_type": "code",
   "execution_count": 8,
   "metadata": {},
   "outputs": [],
   "source": [
    "def simulate(model, train_mode=False, render_mode=True, num_episode=5, seed=-1, max_len=-1):\n",
    "    reward_list = []\n",
    "    t_list = []\n",
    "    max_episode_length = 2100\n",
    "    tsne_data = pd.DataFrame()    \n",
    "    action_list = []#action_list_episode = []\n",
    "    observation_list_episode = []\n",
    "    reward_target = []\n",
    "    \n",
    "    if (seed >= 0):\n",
    "        random.seed(seed)\n",
    "        np.random.seed(seed)\n",
    "        model.env.seed(seed)\n",
    "    \n",
    "\n",
    "    for episode in range(num_episode):\n",
    "        #action_list = []\n",
    "        observation_list = []\n",
    "        obs = model.env.reset()\n",
    "        if obs is None:\n",
    "            obs = deepcopy(model.env.reset())\n",
    "        #obs = _process_frame(obs)\n",
    "\n",
    "        total_reward = 0.0\n",
    "\n",
    "        for t in range(max_episode_length):\n",
    "            if render_mode:\n",
    "                model.env.render(\"human\")\n",
    "                model.env.unwrapped.viewer.window.on_key_press = key_press\n",
    "                if RENDER_DELAY:\n",
    "                    time.sleep(0.01)\n",
    "            else:\n",
    "                model.env.render('rgb_array')\n",
    "            obs = _process_frame(obs)\n",
    "            z, mu, logvar = model.encode_obs(obs)\n",
    "            _, action = model.get_action(z)\n",
    "            obs, reward, done, info = model.env.step(action)\n",
    "\n",
    "            action_list.append(int(action))\n",
    "            #observation_list.append(obs)\n",
    "            #obs = _process_frame(obs)\n",
    "            total_reward += reward\n",
    "            reward_target.append(int(reward))\n",
    "            \n",
    "            data = np.concatenate([z, model.state.h[0]]).reshape(1,288)\n",
    "            #data = np.append(data, action).reshape(1,289)\n",
    "            tsne_data = tsne_data.append(pd.DataFrame(data), ignore_index=True)\n",
    "\n",
    "            if done:\n",
    "                if render_mode:\n",
    "                    model.env.close()\n",
    "                #action_list_episode.append(np.array(action_list))\n",
    "                #observation_list_episode.append(observation_list)\n",
    "                break\n",
    "        if render_mode:\n",
    "            print(\"reward\", total_reward, \"timesteps\", t)\n",
    "        #reward_list.append(total_reward)\n",
    "        #t_list.append(t)\n",
    "    return action_list, tsne_data, reward_target\n"
   ]
  },
  {
   "cell_type": "code",
   "execution_count": 9,
   "metadata": {},
   "outputs": [],
   "source": [
    "actions, tsne_data, reward_target= simulate(model, train_mode=False, render_mode=False, num_episode=50)"
   ]
  },
  {
   "cell_type": "code",
   "execution_count": 15,
   "metadata": {},
   "outputs": [],
   "source": [
    "from sklearn.decomposition import PCA"
   ]
  },
  {
   "cell_type": "code",
   "execution_count": 35,
   "metadata": {},
   "outputs": [],
   "source": [
    "pca = PCA(n_components=4)"
   ]
  },
  {
   "cell_type": "code",
   "execution_count": 36,
   "metadata": {},
   "outputs": [],
   "source": [
    "pca_tsne_data = pca.fit_transform(tsne_data)"
   ]
  },
  {
   "cell_type": "code",
   "execution_count": 37,
   "metadata": {},
   "outputs": [
    {
     "data": {
      "text/plain": [
       "array([0.1467, 0.0951, 0.0466, 0.0333])"
      ]
     },
     "execution_count": 37,
     "metadata": {},
     "output_type": "execute_result"
    }
   ],
   "source": [
    "pca.explained_variance_ratio_"
   ]
  },
  {
   "cell_type": "code",
   "execution_count": 38,
   "metadata": {},
   "outputs": [
    {
     "data": {
      "text/plain": [
       "0.3217422791062381"
      ]
     },
     "execution_count": 38,
     "metadata": {},
     "output_type": "execute_result"
    }
   ],
   "source": [
    "sum(pca.explained_variance_ratio_)"
   ]
  },
  {
   "cell_type": "code",
   "execution_count": 33,
   "metadata": {},
   "outputs": [
    {
     "name": "stdout",
     "output_type": "stream",
     "text": [
      "10\n",
      "[0.1467 0.0951 0.0466 0.0332 0.0263 0.0251 0.0246 0.0243 0.0242 0.0242]\n",
      "0.47040713864023725\n",
      "\n",
      "\n",
      "11\n",
      "[0.1467 0.0951 0.0466 0.0333 0.0265 0.0251 0.0246 0.0241 0.0241 0.024  0.0237]\n",
      "0.49373231205738843\n",
      "\n",
      "\n",
      "12\n",
      "[0.1467 0.0951 0.0466 0.0334 0.0262 0.0251 0.0246 0.0244 0.0242 0.0241 0.0238 0.0237]\n",
      "0.517881528535452\n",
      "\n",
      "\n",
      "13\n",
      "[0.1467 0.0951 0.0466 0.0333 0.0263 0.0253 0.0248 0.0244 0.0242 0.024  0.0238 0.0236 0.0236]\n",
      "0.5418776934509211\n",
      "\n",
      "\n",
      "14\n",
      "[0.1467 0.0951 0.0466 0.0334 0.0265 0.0254 0.0246 0.0244 0.0242 0.024  0.0238 0.0237 0.0236 0.0234]\n",
      "0.5653197527894545\n",
      "\n",
      "\n",
      "15\n",
      "[0.1467 0.0951 0.0466 0.0334 0.0263 0.0253 0.0248 0.0244 0.0243 0.0241 0.0238 0.0237 0.0237 0.0236\n",
      " 0.0234]\n",
      "0.5893024645333006\n",
      "\n",
      "\n",
      "16\n",
      "[0.1467 0.0951 0.0466 0.0333 0.0264 0.0254 0.0247 0.0245 0.0243 0.0242 0.0239 0.0238 0.0237 0.0236\n",
      " 0.0234 0.0233]\n",
      "0.6129804276063091\n",
      "\n",
      "\n",
      "17\n",
      "[0.1467 0.0951 0.0466 0.0333 0.0265 0.0254 0.0248 0.0245 0.0243 0.0242 0.0239 0.0238 0.0237 0.0236\n",
      " 0.0233 0.0233 0.0231]\n",
      "0.6362250613044952\n",
      "\n",
      "\n",
      "18\n",
      "[0.1467 0.0951 0.0466 0.0334 0.0265 0.0253 0.0248 0.0245 0.0243 0.0243 0.0239 0.0238 0.0237 0.0236\n",
      " 0.0235 0.0233 0.0231 0.023 ]\n",
      "0.6594257514193288\n",
      "\n",
      "\n",
      "19\n",
      "[0.1467 0.0951 0.0466 0.0334 0.0265 0.0254 0.0248 0.0245 0.0243 0.0243 0.0239 0.0238 0.0237 0.0237\n",
      " 0.0235 0.0233 0.0232 0.023  0.0229]\n",
      "0.6826848224513672\n",
      "\n",
      "\n",
      "20\n",
      "[0.1467 0.0951 0.0466 0.0334 0.0265 0.0254 0.0248 0.0245 0.0243 0.0243 0.0239 0.0238 0.0238 0.0237\n",
      " 0.0235 0.0233 0.0232 0.023  0.0229 0.0228]\n",
      "0.7055003019257619\n",
      "\n",
      "\n",
      "21\n",
      "[0.1467 0.0951 0.0466 0.0334 0.0265 0.0254 0.0248 0.0245 0.0243 0.0243 0.0239 0.0238 0.0238 0.0237\n",
      " 0.0235 0.0233 0.0232 0.023  0.0229 0.0228 0.0227]\n",
      "0.7282161212030013\n",
      "\n",
      "\n",
      "22\n",
      "[0.1467 0.0951 0.0466 0.0334 0.0265 0.0254 0.0248 0.0245 0.0243 0.0243 0.0239 0.0238 0.0238 0.0237\n",
      " 0.0235 0.0233 0.0232 0.023  0.0229 0.0228 0.0227 0.0226]\n",
      "0.7508563601532667\n",
      "\n",
      "\n",
      "23\n",
      "[0.1467 0.0951 0.0466 0.0334 0.0265 0.0254 0.0248 0.0245 0.0243 0.0243 0.0239 0.0238 0.0238 0.0237\n",
      " 0.0235 0.0233 0.0232 0.023  0.0229 0.0228 0.0227 0.0226 0.0225]\n",
      "0.7733966551866702\n",
      "\n",
      "\n",
      "24\n",
      "[0.1467 0.0951 0.0466 0.0334 0.0265 0.0254 0.0248 0.0245 0.0243 0.0243 0.0239 0.0238 0.0238 0.0237\n",
      " 0.0235 0.0233 0.0232 0.023  0.0229 0.0228 0.0227 0.0226 0.0225 0.0224]\n",
      "0.7957830012896736\n",
      "\n",
      "\n",
      "25\n",
      "[0.1467 0.0951 0.0466 0.0334 0.0265 0.0254 0.0248 0.0245 0.0243 0.0243 0.0239 0.0238 0.0238 0.0237\n",
      " 0.0235 0.0233 0.0232 0.023  0.0229 0.0228 0.0227 0.0226 0.0225 0.0224 0.022 ]\n",
      "0.8178122872616352\n",
      "\n",
      "\n",
      "26\n",
      "[0.1467 0.0951 0.0466 0.0334 0.0265 0.0254 0.0248 0.0245 0.0243 0.0243 0.0239 0.0238 0.0238 0.0237\n",
      " 0.0235 0.0233 0.0232 0.023  0.0229 0.0228 0.0227 0.0226 0.0225 0.0224 0.022  0.0219]\n",
      "0.8396766916295754\n",
      "\n",
      "\n",
      "27\n",
      "[0.1467 0.0951 0.0466 0.0334 0.0265 0.0254 0.0248 0.0245 0.0243 0.0243 0.0239 0.0238 0.0238 0.0237\n",
      " 0.0235 0.0233 0.0232 0.023  0.0229 0.0228 0.0227 0.0226 0.0225 0.0224 0.022  0.0219 0.0216]\n",
      "0.8612855398415281\n",
      "\n",
      "\n",
      "28\n",
      "[0.1467 0.0951 0.0466 0.0334 0.0265 0.0254 0.0248 0.0245 0.0243 0.0243 0.0239 0.0238 0.0238 0.0237\n",
      " 0.0235 0.0233 0.0232 0.023  0.0229 0.0228 0.0227 0.0226 0.0225 0.0224 0.022  0.0219 0.0216 0.0214]\n",
      "0.8826367787448378\n",
      "\n",
      "\n",
      "29\n",
      "[0.1467 0.0951 0.0466 0.0334 0.0265 0.0254 0.0248 0.0245 0.0243 0.0243 0.0239 0.0238 0.0238 0.0237\n",
      " 0.0235 0.0233 0.0232 0.023  0.0229 0.0228 0.0227 0.0226 0.0225 0.0224 0.022  0.0219 0.0216 0.0214\n",
      " 0.0163]\n",
      "0.8989776422350739\n",
      "\n",
      "\n"
     ]
    }
   ],
   "source": [
    "for i in range(10,30):\n",
    "    print(i)\n",
    "    pca = PCA(n_components=i)\n",
    "    pca.fit_transform(tsne_data)\n",
    "    \n",
    "    print(pca.explained_variance_ratio_)\n",
    "    \n",
    "    print(sum(pca.explained_variance_ratio_))\n",
    "    print('\\n')"
   ]
  },
  {
   "cell_type": "code",
   "execution_count": 41,
   "metadata": {},
   "outputs": [
    {
     "data": {
      "text/plain": [
       "array([[0.0099, 0.049 , 0.0041, 0.0023, 0.0021, 0.0035, ..., 0.0445, 0.0396, 0.0111, 0.0459,\n",
       "        0.0231, 0.0156],\n",
       "       [0.0123, 0.317 , 0.011 , 0.0229, 0.0122, 0.0023, ..., 0.0027, 0.0697, 0.0108, 0.0171,\n",
       "        0.0449, 0.0319],\n",
       "       [0.0004, 0.0592, 0.0228, 0.0018, 0.0022, 0.018 , ..., 0.0063, 0.0468, 0.029 , 0.0564,\n",
       "        0.0829, 0.0818],\n",
       "       [0.0337, 0.2857, 0.0687, 0.0133, 0.0227, 0.0867, ..., 0.0536, 0.006 , 0.0307, 0.0194,\n",
       "        0.0064, 0.0396]])"
      ]
     },
     "execution_count": 41,
     "metadata": {},
     "output_type": "execute_result"
    }
   ],
   "source": [
    "abs(pca.components_) # shape 4,288"
   ]
  },
  {
   "cell_type": "code",
   "execution_count": 49,
   "metadata": {},
   "outputs": [
    {
     "data": {
      "text/plain": [
       "array([0.0099, 0.049 , 0.0041, 0.0023, 0.0021, 0.0035, 0.0089, 0.031 , 0.0059, 0.013 , 0.0255,\n",
       "       0.088 , 0.001 , 0.0057, 0.0087, 0.0016, 0.0016, 0.0107, 0.0052, 0.0018, 0.012 , 0.3192,\n",
       "       0.0197, 0.0087, 0.0025, 0.3645, 0.0082, 0.1128, 0.1982, 0.0016, 0.0066, 0.1481, 0.0033,\n",
       "       0.0443, 0.0252, 0.0705, 0.0136, 0.0126, 0.0105, 0.094 , 0.0547, 0.0055, 0.0527, 0.0053,\n",
       "       0.0709, 0.0065, 0.0189, 0.0445, 0.0074, 0.0929, 0.024 , 0.1899, 0.0123, 0.0096, 0.0874,\n",
       "       0.0562, 0.1024, 0.0515, 0.0215, 0.0224, 0.0192, 0.0417, 0.0144, 0.0633, 0.025 , 0.0506,\n",
       "       0.0372, 0.0075, 0.0439, 0.0347, 0.0179, 0.0224, 0.0325, 0.0533, 0.0307, 0.0194, 0.0281,\n",
       "       0.0002, 0.0886, 0.0221, 0.0975, 0.0062, 0.0245, 0.062 , 0.0379, 0.0104, 0.0253, 0.054 ,\n",
       "       0.0479, 0.0096, 0.0134, 0.0408, 0.0653, 0.0431, 0.0194, 0.0481, 0.0067, 0.0201, 0.0314,\n",
       "       0.0491, 0.0288, 0.105 , 0.1091, 0.0331, 0.0338, 0.0199, 0.0629, 0.069 , 0.0298, 0.0324,\n",
       "       0.0015, 0.0248, 0.0702, 0.1325, 0.0391, 0.0593, 0.0147, 0.0217, 0.0144, 0.0443, 0.0603,\n",
       "       0.0391, 0.0118, 0.0096, 0.0397, 0.0311, 0.0691, 0.0258, 0.007 , 0.005 , 0.0329, 0.0385,\n",
       "       0.0228, 0.0192, 0.0873, 0.0242, 0.0269, 0.0314, 0.0454, 0.0706, 0.0011, 0.0243, 0.0079,\n",
       "       0.0507, 0.051 , 0.0554, 0.0213, 0.0357, 0.0522, 0.0366, 0.0216, 0.0402, 0.0304, 0.1287,\n",
       "       0.0493, 0.0314, 0.0498, 0.0756, 0.0419, 0.0287, 0.0579, 0.0454, 0.1113, 0.0255, 0.0193,\n",
       "       0.0549, 0.0656, 0.057 , 0.0464, 0.0456, 0.0243, 0.0344, 0.0097, 0.0174, 0.0043, 0.1605,\n",
       "       0.0073, 0.1024, 0.0744, 0.0156, 0.0188, 0.0697, 0.0064, 0.0584, 0.0421, 0.0187, 0.1165,\n",
       "       0.01  , 0.0437, 0.0786, 0.0011, 0.0571, 0.0551, 0.0433, 0.006 , 0.0197, 0.0224, 0.0509,\n",
       "       0.0282, 0.013 , 0.0812, 0.0636, 0.0578, 0.0506, 0.0794, 0.0396, 0.0749, 0.0051, 0.0421,\n",
       "       0.0865, 0.0009, 0.0314, 0.0339, 0.1886, 0.0241, 0.0544, 0.0117, 0.0024, 0.0112, 0.0248,\n",
       "       0.0078, 0.0519, 0.0537, 0.0361, 0.0352, 0.0472, 0.0229, 0.0873, 0.0208, 0.0167, 0.0844,\n",
       "       0.0661, 0.0201, 0.0572, 0.0397, 0.0321, 0.0178, 0.0243, 0.0651, 0.0052, 0.0102, 0.0112,\n",
       "       0.0642, 0.0467, 0.0314, 0.0164, 0.0318, 0.0026, 0.0343, 0.0669, 0.0114, 0.0068, 0.032 ,\n",
       "       0.0233, 0.025 , 0.0548, 0.1614, 0.03  , 0.0251, 0.0347, 0.1008, 0.0174, 0.0405, 0.0188,\n",
       "       0.0298, 0.044 , 0.0568, 0.0211, 0.0205, 0.0462, 0.05  , 0.0306, 0.1247, 0.0298, 0.0305,\n",
       "       0.0866, 0.0344, 0.019 , 0.0742, 0.0536, 0.0007, 0.0176, 0.0445, 0.0396, 0.0111, 0.0459,\n",
       "       0.0231, 0.0156])"
      ]
     },
     "execution_count": 49,
     "metadata": {},
     "output_type": "execute_result"
    }
   ],
   "source": [
    "abs(pca.components_[0])"
   ]
  },
  {
   "cell_type": "code",
   "execution_count": 48,
   "metadata": {},
   "outputs": [
    {
     "data": {
      "text/plain": [
       "(array([25]),)"
      ]
     },
     "execution_count": 48,
     "metadata": {},
     "output_type": "execute_result"
    }
   ],
   "source": [
    "np.where(abs(pca.components_[0]) == np.amax(abs(pca.components_[0])))"
   ]
  }
 ],
 "metadata": {
  "kernelspec": {
   "display_name": "venv",
   "language": "python",
   "name": "venv"
  },
  "language_info": {
   "codemirror_mode": {
    "name": "ipython",
    "version": 3
   },
   "file_extension": ".py",
   "mimetype": "text/x-python",
   "name": "python",
   "nbconvert_exporter": "python",
   "pygments_lexer": "ipython3",
   "version": "3.6.9"
  }
 },
 "nbformat": 4,
 "nbformat_minor": 4
}
