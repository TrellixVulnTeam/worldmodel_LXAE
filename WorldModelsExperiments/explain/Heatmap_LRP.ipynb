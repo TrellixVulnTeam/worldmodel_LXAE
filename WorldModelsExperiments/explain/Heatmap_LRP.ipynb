{
 "cells": [
  {
   "cell_type": "markdown",
   "metadata": {},
   "source": [
    "# Heatmap LRP"
   ]
  },
  {
   "cell_type": "code",
   "execution_count": null,
   "metadata": {},
   "outputs": [],
   "source": [
    "import os\n",
    "import numpy as np\n",
    "import matplotlib.pyplot as plt\n",
    "import pandas as pd\n",
    "from PIL import Image\n",
    "import tensorflow as tf"
   ]
  },
  {
   "cell_type": "code",
   "execution_count": 2,
   "metadata": {},
   "outputs": [],
   "source": [
    "import sys\n",
    "from pathlib import Path\n",
    "import_path = str(Path(os.getcwd()).parent.parent)\n",
    "sys.path.insert(0, import_path)\n",
    "\n",
    "from WorldModelsExperiments.breakout.model import Model, make_model"
   ]
  },
  {
   "cell_type": "code",
   "execution_count": 3,
   "metadata": {},
   "outputs": [
    {
     "name": "stdout",
     "output_type": "stream",
     "text": [
      "INFO:tensorflow:Model using cpu.\n",
      "loading file /home/dakaun/Dropbox/MA/worldmodel/worldmodel-breakout-server-version-v3/200420/log/breakout.cma.16.32.best.json\n"
     ]
    }
   ],
   "source": [
    "path = '/home/dakaun/Dropbox/MA/worldmodel/worldmodel-breakout-server-version-v3/200420'\n",
    "rnn_path = path + '/tf_rnn/rnn.json'\n",
    "vae_path = path + '/tf_vae/vae.json'\n",
    "controller_path = path + '/log/breakout.cma.16.32.best.json'\n",
    "\n",
    "render_mode = False\n",
    "use_model = True\n",
    "\n",
    "model = make_model(rnn_path=rnn_path, vae_path=vae_path)\n",
    "model.load_model(controller_path)"
   ]
  },
  {
   "cell_type": "code",
   "execution_count": null,
   "metadata": {},
   "outputs": [],
   "source": [
    "obs = model.env.reset()\n",
    "obs = _process_frame(obs)\n",
    "z, mu, logvar = model.encode_obs(obs)"
   ]
  },
  {
   "cell_type": "code",
   "execution_count": null,
   "metadata": {},
   "outputs": [],
   "source": [
    "model.weight.shape"
   ]
  },
  {
   "cell_type": "code",
   "execution_count": null,
   "metadata": {},
   "outputs": [],
   "source": [
    "h = np.concatenate([z, model.state.h[0]])\n",
    "h.shape"
   ]
  },
  {
   "cell_type": "code",
   "execution_count": 7,
   "metadata": {},
   "outputs": [
    {
     "data": {
      "text/plain": [
       "array([ 0.8562,  4.4856, -2.2865,  4.3942])"
      ]
     },
     "execution_count": 7,
     "metadata": {},
     "output_type": "execute_result"
    }
   ],
   "source": [
    "np.matmul(h, model.weight)"
   ]
  },
  {
   "cell_type": "code",
   "execution_count": 8,
   "metadata": {},
   "outputs": [
    {
     "data": {
      "text/plain": [
       "2.0527"
      ]
     },
     "execution_count": 8,
     "metadata": {},
     "output_type": "execute_result"
    }
   ],
   "source": [
    "model.weight.max()"
   ]
  },
  {
   "cell_type": "code",
   "execution_count": 9,
   "metadata": {},
   "outputs": [
    {
     "data": {
      "text/plain": [
       "-1.6984"
      ]
     },
     "execution_count": 9,
     "metadata": {},
     "output_type": "execute_result"
    }
   ],
   "source": [
    "model.weight.min()"
   ]
  },
  {
   "cell_type": "code",
   "execution_count": 7,
   "metadata": {},
   "outputs": [],
   "source": [
    "INPUT_SHAPE = (64,64)\n",
    "def _process_frame(frame): # converts into (64,64,3)\n",
    "    img = Image.fromarray(frame)\n",
    "    img = img.resize(INPUT_SHAPE)#.convert('L')  # resize\n",
    "    obs = np.array(img)\n",
    "    obs = obs / 255.\n",
    "    return obs"
   ]
  },
  {
   "cell_type": "code",
   "execution_count": 5,
   "metadata": {},
   "outputs": [],
   "source": [
    "def simulate(model, train_mode=False, render_mode=True, num_episode=5, seed=-1, max_len=-1):\n",
    "    reward_list = []\n",
    "    t_list = []\n",
    "    max_episode_length = 10\n",
    "    tsne_data = pd.DataFrame()    \n",
    "    action_list = []#action_list_episode = []\n",
    "    observation_list_episode = []\n",
    "    reward_target = []\n",
    "    \n",
    "    if (seed >= 0):\n",
    "        random.seed(seed)\n",
    "        np.random.seed(seed)\n",
    "        model.env.seed(seed)\n",
    "    \n",
    "\n",
    "    for episode in range(num_episode):\n",
    "        #action_list = []\n",
    "        observation_list = []\n",
    "        obs = model.env.reset()\n",
    "        if obs is None:\n",
    "            obs = deepcopy(model.env.reset())\n",
    "        #obs = _process_frame(obs)\n",
    "\n",
    "        total_reward = 0.0\n",
    "\n",
    "        for t in range(max_episode_length):\n",
    "            if render_mode:\n",
    "                model.env.render(\"human\")\n",
    "                model.env.unwrapped.viewer.window.on_key_press = key_press\n",
    "                if RENDER_DELAY:\n",
    "                    time.sleep(0.01)\n",
    "            else:\n",
    "                model.env.render('rgb_array')\n",
    "            obs = _process_frame(obs)\n",
    "            z, mu, logvar = model.encode_obs(obs)\n",
    "            _, action = model.get_action(z)\n",
    "            obs, reward, done, info = model.env.step(action)\n",
    "\n",
    "            action_list.append(int(action))\n",
    "            #observation_list.append(obs)\n",
    "            #obs = _process_frame(obs)\n",
    "            total_reward += reward\n",
    "            #reward_target.append(int(reward))\n",
    "            \n",
    "            data = np.concatenate([z, model.state.h[0]]).reshape(1,288)\n",
    "            #data = np.append(data, action).reshape(1,289)\n",
    "            tsne_data = tsne_data.append(pd.DataFrame(data), ignore_index=True)\n",
    "\n",
    "            if done:\n",
    "                if render_mode:\n",
    "                    model.env.close()\n",
    "                #action_list_episode.append(np.array(action_list))\n",
    "                #observation_list_episode.append(observation_list)\n",
    "                break\n",
    "        if render_mode:\n",
    "            print(\"reward\", total_reward, \"timesteps\", t)\n",
    "        #reward_list.append(total_reward)\n",
    "        #t_list.append(t)\n",
    "    return action_list, tsne_data#, reward_target\n"
   ]
  },
  {
   "cell_type": "code",
   "execution_count": 8,
   "metadata": {},
   "outputs": [],
   "source": [
    "actions, xtsne = simulate(model, train_mode=False, render_mode=False, num_episode=1)"
   ]
  },
  {
   "cell_type": "code",
   "execution_count": 9,
   "metadata": {},
   "outputs": [],
   "source": [
    "actions = np.array(actions)"
   ]
  },
  {
   "cell_type": "markdown",
   "metadata": {},
   "source": [
    "### only controller"
   ]
  },
  {
   "cell_type": "code",
   "execution_count": 225,
   "metadata": {},
   "outputs": [
    {
     "data": {
      "text/plain": [
       "(476, 288)"
      ]
     },
     "execution_count": 225,
     "metadata": {},
     "output_type": "execute_result"
    }
   ],
   "source": [
    "xtsne = np.array(xtsne)\n",
    "xtsne.shape"
   ]
  },
  {
   "cell_type": "code",
   "execution_count": 226,
   "metadata": {},
   "outputs": [
    {
     "data": {
      "text/plain": [
       "(288, 4)"
      ]
     },
     "execution_count": 226,
     "metadata": {},
     "output_type": "execute_result"
    }
   ],
   "source": [
    "model.weight.shape"
   ]
  },
  {
   "cell_type": "code",
   "execution_count": 245,
   "metadata": {},
   "outputs": [],
   "source": [
    "L_cont = 1"
   ]
  },
  {
   "cell_type": "code",
   "execution_count": 246,
   "metadata": {},
   "outputs": [],
   "source": [
    "A_cont = [xtsne] + [None]*L_cont\n",
    "A_cont[1] = np.maximum(0,A_cont[0].dot(model.weight)+model.bias)"
   ]
  },
  {
   "cell_type": "code",
   "execution_count": 247,
   "metadata": {},
   "outputs": [
    {
     "data": {
      "text/plain": [
       "(4,)"
      ]
     },
     "execution_count": 247,
     "metadata": {},
     "output_type": "execute_result"
    }
   ],
   "source": [
    "A_cont[1][0].shape"
   ]
  },
  {
   "cell_type": "code",
   "execution_count": 248,
   "metadata": {},
   "outputs": [],
   "source": [
    "R_cont= [None]*L + [A_cont[L]*(actions[:,None]==np.arange(4))]"
   ]
  },
  {
   "cell_type": "code",
   "execution_count": 249,
   "metadata": {},
   "outputs": [],
   "source": [
    "w = model.weight\n",
    "wp = np.maximum(0,w)\n",
    "wm = np.minimum(0,w)\n",
    "lb = A_cont[0]*0-1\n",
    "hb = A_cont[0]*0+1\n",
    "\n",
    "z = A_cont[0].dot(w)-lb.dot(wp)-hb.dot(wm)+1e-9\n",
    "s = R_cont[1]/z\n",
    "c, cp, cm = s.dot(w.T), s.dot(wp.T), s.dot(wm.T)\n",
    "R_cont[0] = A_cont[0]*c-lb*cp-hb*cm"
   ]
  },
  {
   "cell_type": "code",
   "execution_count": 237,
   "metadata": {},
   "outputs": [
    {
     "data": {
      "image/png": "[encoded data removed]",
      "text/plain": [
       "<Figure size 432x288 with 1 Axes>"
      ]
     },
     "metadata": {
      "needs_background": "light"
     },
     "output_type": "display_data"
    }
   ],
   "source": [
    "img = (model.vae.decode(xtsne[0,:32].reshape(1,32)).reshape(64,64,3))*255.\n",
    "img = Image.fromarray(img.astype('uint8')).convert('L')\n",
    "img = np.array(img)\n",
    "plt.imshow(img, cmap = 'gray')\n",
    "plt.axis('off')\n",
    "plt.show()"
   ]
  },
  {
   "cell_type": "code",
   "execution_count": 238,
   "metadata": {},
   "outputs": [
    {
     "data": {
      "image/png": "[encoded data removed]",
      "text/plain": [
       "<Figure size 432x288 with 1 Axes>"
      ]
     },
     "metadata": {
      "needs_background": "light"
     },
     "output_type": "display_data"
    }
   ],
   "source": [
    "img_r = (model.vae.decode(R_cont[0][300,:32].reshape(1,32)).reshape(64,64,3))*255.\n",
    "img_r = Image.fromarray(img_r.astype('uint8')).convert('L')\n",
    "img_r = np.array(img_r)\n",
    "plt.imshow(img_r)\n",
    "plt.axis('off')\n",
    "plt.show()"
   ]
  },
  {
   "cell_type": "code",
   "execution_count": 250,
   "metadata": {},
   "outputs": [
    {
     "data": {
      "image/png": "[encoded data removed]",
      "text/plain": [
       "<Figure size 432x288 with 1 Axes>"
      ]
     },
     "metadata": {
      "needs_background": "light"
     },
     "output_type": "display_data"
    }
   ],
   "source": [
    "b = 10*((np.abs(img_r)**3.0).mean()**(1.0/3))\n",
    "\n",
    "from matplotlib.colors import ListedColormap\n",
    "my_cmap = plt.cm.seismic(np.arange(plt.cm.seismic.N))\n",
    "my_cmap[:,0:3] *= 0.85\n",
    "my_cmap = ListedColormap(my_cmap)\n",
    "plt.imshow(img_r, cmap=my_cmap, vmin=-b, vmax=b)\n",
    "plt.axis('off')\n",
    "plt.show()"
   ]
  },
  {
   "cell_type": "markdown",
   "metadata": {},
   "source": [
    "Combination of Controller and Decoder"
   ]
  },
  {
   "cell_type": "markdown",
   "metadata": {},
   "source": [
    "Prepare data and weights"
   ]
  },
  {
   "cell_type": "code",
   "execution_count": 10,
   "metadata": {},
   "outputs": [
    {
     "data": {
      "text/plain": [
       "(10, 288)"
      ]
     },
     "execution_count": 10,
     "metadata": {},
     "output_type": "execute_result"
    }
   ],
   "source": [
    "xtsne = np.array(xtsne)\n",
    "xtsne.shape"
   ]
  },
  {
   "cell_type": "code",
   "execution_count": 15,
   "metadata": {},
   "outputs": [
    {
     "data": {
      "text/plain": [
       "(1, 64, 64, 3)"
      ]
     },
     "execution_count": 15,
     "metadata": {},
     "output_type": "execute_result"
    }
   ],
   "source": [
    "X = model.vae.decode(xtsne[0:1,:32])\n",
    "X.shape"
   ]
  },
  {
   "cell_type": "code",
   "execution_count": 17,
   "metadata": {},
   "outputs": [
    {
     "data": {
      "text/plain": [
       "1"
      ]
     },
     "execution_count": 17,
     "metadata": {},
     "output_type": "execute_result"
    }
   ],
   "source": [
    "T = actions[0]\n",
    "T"
   ]
  },
  {
   "cell_type": "code",
   "execution_count": 18,
   "metadata": {},
   "outputs": [
    {
     "data": {
      "text/plain": [
       "(288, 4)"
      ]
     },
     "execution_count": 18,
     "metadata": {},
     "output_type": "execute_result"
    }
   ],
   "source": [
    "model.weight.shape"
   ]
  },
  {
   "cell_type": "code",
   "execution_count": 21,
   "metadata": {},
   "outputs": [
    {
     "name": "stdout",
     "output_type": "stream",
     "text": [
      "<tf.Variable 'dec_fc/kernel:0' shape=(32, 1024) dtype=float32_ref>\n",
      "<tf.Variable 'dec_fc/bias:0' shape=(1024,) dtype=float32_ref>\n",
      "<tf.Variable 'dec_deconv1/kernel:0' shape=(5, 5, 128, 1024) dtype=float32_ref>\n",
      "<tf.Variable 'dec_deconv1/bias:0' shape=(128,) dtype=float32_ref>\n",
      "<tf.Variable 'dec_deconv2/kernel:0' shape=(5, 5, 64, 128) dtype=float32_ref>\n",
      "<tf.Variable 'dec_deconv2/bias:0' shape=(64,) dtype=float32_ref>\n",
      "<tf.Variable 'dec_deconv3/kernel:0' shape=(6, 6, 32, 64) dtype=float32_ref>\n",
      "<tf.Variable 'dec_deconv3/bias:0' shape=(32,) dtype=float32_ref>\n",
      "<tf.Variable 'dec_deconv4/kernel:0' shape=(6, 6, 3, 32) dtype=float32_ref>\n",
      "<tf.Variable 'dec_deconv4/bias:0' shape=(3,) dtype=float32_ref>\n"
     ]
    }
   ],
   "source": [
    "vaekernel_params = []\n",
    "vaebias_params = []\n",
    "vaelayerkernel_names = []\n",
    "vaelayerbias_names = []\n",
    "with model.vae.g.as_default():\n",
    "    t_vars = tf.trainable_variables()\n",
    "    for var in t_vars:\n",
    "        if var.name.startswith('dec_'):\n",
    "            layername = var.name\n",
    "            print(var)\n",
    "            p = model.vae.sess.run(var)\n",
    "            if 'kernel' in layername:\n",
    "                vaekernel_params.append(p)\n",
    "                vaelayerkernel_names.append(layername)\n",
    "            elif 'bias' in layername:\n",
    "                vaebias_params.append(p)\n",
    "                vaelayerbias_names.append(layername)\n",
    "            #params = np.round(p*10000).astype(np.int).tolist()"
   ]
  },
  {
   "cell_type": "code",
   "execution_count": 23,
   "metadata": {},
   "outputs": [
    {
     "data": {
      "text/plain": [
       "<tensorflow.python.ops.variable_scope.variable_scope at 0x7fafcdbe5a58>"
      ]
     },
     "execution_count": 23,
     "metadata": {},
     "output_type": "execute_result"
    }
   ],
   "source": [
    "with model.vae.g.as_default():\n",
    "    varss = tf.variable_scope('dec_fc/kernel:0')\n",
    "varss"
   ]
  },
  {
   "cell_type": "code",
   "execution_count": 20,
   "metadata": {},
   "outputs": [
    {
     "name": "stdout",
     "output_type": "stream",
     "text": [
      "dec_fc/kernel:0\n",
      "(32, 1024)\n",
      "dec_deconv1/kernel:0\n",
      "(5, 5, 128, 1024)\n",
      "dec_deconv2/kernel:0\n",
      "(5, 5, 64, 128)\n",
      "dec_deconv3/kernel:0\n",
      "(6, 6, 32, 64)\n",
      "dec_deconv4/kernel:0\n",
      "(6, 6, 3, 32)\n",
      "\n",
      "\n",
      "dec_fc/bias:0\n",
      "(1024,)\n",
      "dec_deconv1/bias:0\n",
      "(128,)\n",
      "dec_deconv2/bias:0\n",
      "(64,)\n",
      "dec_deconv3/bias:0\n",
      "(32,)\n",
      "dec_deconv4/bias:0\n",
      "(3,)\n"
     ]
    }
   ],
   "source": [
    "for idxk in range(len(vaekernel_params)):\n",
    "    print(vaelayerkernel_names[idxk])\n",
    "    print(vaekernel_params[idxk].shape)\n",
    "print('\\n')\n",
    "for idxb in range(len(vaebias_params)):\n",
    "    print(vaelayerbias_names[idxb])\n",
    "    print(vaebias_params[idxb].shape)"
   ]
  },
  {
   "cell_type": "code",
   "execution_count": 267,
   "metadata": {},
   "outputs": [
    {
     "data": {
      "text/plain": [
       "6"
      ]
     },
     "execution_count": 267,
     "metadata": {},
     "output_type": "execute_result"
    }
   ],
   "source": [
    "# W[0] is Pixel Layer und W[-1] action layer\n",
    "W = vaekernel_params[::-1] + [model.weight]\n",
    "len(W)"
   ]
  },
  {
   "cell_type": "code",
   "execution_count": 268,
   "metadata": {},
   "outputs": [],
   "source": [
    "B = vaebias_params[::-1] + [model.bias]"
   ]
  },
  {
   "cell_type": "code",
   "execution_count": 269,
   "metadata": {},
   "outputs": [],
   "source": [
    "L = len(W)"
   ]
  },
  {
   "cell_type": "markdown",
   "metadata": {},
   "source": [
    "Prepare A"
   ]
  },
  {
   "cell_type": "code",
   "execution_count": 270,
   "metadata": {},
   "outputs": [],
   "source": [
    "A = [X] + [None]*L"
   ]
  },
  {
   "cell_type": "code",
   "execution_count": 273,
   "metadata": {},
   "outputs": [
    {
     "name": "stdout",
     "output_type": "stream",
     "text": [
      "(10, 64, 64, 3)\n",
      "(6, 6, 3, 32)\n",
      "(3,)\n"
     ]
    }
   ],
   "source": [
    "print(A[0].shape)\n",
    "print(W[0].shape)\n",
    "print(B[0].shape)"
   ]
  },
  {
   "cell_type": "code",
   "execution_count": 272,
   "metadata": {},
   "outputs": [
    {
     "ename": "ValueError",
     "evalue": "operands could not be broadcast together with shapes (10,64,64,6,6,32) (3,) ",
     "output_type": "error",
     "traceback": [
      "\u001b[0;31m---------------------------------------------------------------------------\u001b[0m",
      "\u001b[0;31mValueError\u001b[0m                                Traceback (most recent call last)",
      "\u001b[0;32m<ipython-input-272-91e9a39b3e9d>\u001b[0m in \u001b[0;36m<module>\u001b[0;34m\u001b[0m\n\u001b[0;32m----> 1\u001b[0;31m \u001b[0mA\u001b[0m\u001b[0;34m[\u001b[0m\u001b[0;36m1\u001b[0m\u001b[0;34m]\u001b[0m \u001b[0;34m=\u001b[0m \u001b[0mnp\u001b[0m\u001b[0;34m.\u001b[0m\u001b[0mmaximum\u001b[0m\u001b[0;34m(\u001b[0m\u001b[0;36m0\u001b[0m\u001b[0;34m,\u001b[0m\u001b[0mA\u001b[0m\u001b[0;34m[\u001b[0m\u001b[0;36m0\u001b[0m\u001b[0;34m]\u001b[0m\u001b[0;34m.\u001b[0m\u001b[0mdot\u001b[0m\u001b[0;34m(\u001b[0m\u001b[0mW\u001b[0m\u001b[0;34m[\u001b[0m\u001b[0;36m0\u001b[0m\u001b[0;34m]\u001b[0m\u001b[0;34m)\u001b[0m\u001b[0;34m+\u001b[0m\u001b[0mB\u001b[0m\u001b[0;34m[\u001b[0m\u001b[0;36m0\u001b[0m\u001b[0;34m]\u001b[0m\u001b[0;34m)\u001b[0m\u001b[0;34m\u001b[0m\u001b[0;34m\u001b[0m\u001b[0m\n\u001b[0m",
      "\u001b[0;31mValueError\u001b[0m: operands could not be broadcast together with shapes (10,64,64,6,6,32) (3,) "
     ]
    }
   ],
   "source": [
    "A[1] = np.maximum(0,A[0].dot(W[0])+B[0])"
   ]
  },
  {
   "cell_type": "code",
   "execution_count": 216,
   "metadata": {},
   "outputs": [
    {
     "ename": "ValueError",
     "evalue": "shapes (476,288) and (6,6,3,32) not aligned: 288 (dim 1) != 3 (dim 2)",
     "output_type": "error",
     "traceback": [
      "\u001b[0;31m---------------------------------------------------------------------------\u001b[0m",
      "\u001b[0;31mValueError\u001b[0m                                Traceback (most recent call last)",
      "\u001b[0;32m<ipython-input-216-a7648220569a>\u001b[0m in \u001b[0;36m<module>\u001b[0;34m\u001b[0m\n\u001b[1;32m      1\u001b[0m \u001b[0;32mfor\u001b[0m \u001b[0ml\u001b[0m \u001b[0;32min\u001b[0m \u001b[0mrange\u001b[0m\u001b[0;34m(\u001b[0m\u001b[0mL\u001b[0m\u001b[0;34m)\u001b[0m\u001b[0;34m:\u001b[0m\u001b[0;34m\u001b[0m\u001b[0;34m\u001b[0m\u001b[0m\n\u001b[0;32m----> 2\u001b[0;31m     \u001b[0mA\u001b[0m\u001b[0;34m[\u001b[0m\u001b[0ml\u001b[0m\u001b[0;34m+\u001b[0m\u001b[0;36m1\u001b[0m\u001b[0;34m]\u001b[0m\u001b[0;34m=\u001b[0m \u001b[0mnp\u001b[0m\u001b[0;34m.\u001b[0m\u001b[0mmaximum\u001b[0m\u001b[0;34m(\u001b[0m\u001b[0;36m0\u001b[0m\u001b[0;34m,\u001b[0m\u001b[0mA\u001b[0m\u001b[0;34m[\u001b[0m\u001b[0ml\u001b[0m\u001b[0;34m]\u001b[0m\u001b[0;34m.\u001b[0m\u001b[0mdot\u001b[0m\u001b[0;34m(\u001b[0m\u001b[0mW\u001b[0m\u001b[0;34m[\u001b[0m\u001b[0ml\u001b[0m\u001b[0;34m]\u001b[0m\u001b[0;34m)\u001b[0m\u001b[0;34m+\u001b[0m\u001b[0mB\u001b[0m\u001b[0;34m[\u001b[0m\u001b[0ml\u001b[0m\u001b[0;34m]\u001b[0m\u001b[0;34m)\u001b[0m\u001b[0;34m\u001b[0m\u001b[0;34m\u001b[0m\u001b[0m\n\u001b[0m",
      "\u001b[0;31mValueError\u001b[0m: shapes (476,288) and (6,6,3,32) not aligned: 288 (dim 1) != 3 (dim 2)"
     ]
    }
   ],
   "source": [
    "for l in range(L):\n",
    "    A[l+1]= np.maximum(0,A[l].dot(W[l])+B[l])"
   ]
  },
  {
   "cell_type": "code",
   "execution_count": null,
   "metadata": {},
   "outputs": [],
   "source": []
  },
  {
   "cell_type": "code",
   "execution_count": 150,
   "metadata": {},
   "outputs": [
    {
     "name": "stdout",
     "output_type": "stream",
     "text": [
      "(476, 288)\n",
      "(476, 4)\n"
     ]
    }
   ],
   "source": [
    "A[1]= np.maximum(0,A[0].dot(model.weight)+model.bias)\n",
    "print(A[0].shape)\n",
    "print(A[1].shape)"
   ]
  },
  {
   "cell_type": "code",
   "execution_count": 153,
   "metadata": {},
   "outputs": [],
   "source": [
    "R = [None]*L + [A[L]*(actions[:,None]==np.arange(4))]"
   ]
  },
  {
   "cell_type": "code",
   "execution_count": 157,
   "metadata": {},
   "outputs": [],
   "source": [
    "w = model.weight\n",
    "wp = np.maximum(0,w)\n",
    "wm = np.minimum(0,w)\n",
    "lb = A[0]*0-1\n",
    "hb = A[0]*0+1\n",
    "\n",
    "z = A[0].dot(w)-lb.dot(wp)-hb.dot(wm)+1e-9\n",
    "s = R[1]/z\n",
    "c, cp, cm = s.dot(w.T), s.dot(wp.T), s.dot(wm.T)\n",
    "R[0] = A[0]*c-lb*cp-hb*cm"
   ]
  },
  {
   "cell_type": "code",
   "execution_count": 158,
   "metadata": {},
   "outputs": [
    {
     "name": "stdout",
     "output_type": "stream",
     "text": [
      "(476, 288)\n",
      "(476, 4)\n"
     ]
    }
   ],
   "source": [
    "print(R[0].shape)\n",
    "print(R[1].shape)"
   ]
  },
  {
   "cell_type": "code",
   "execution_count": 164,
   "metadata": {},
   "outputs": [
    {
     "data": {
      "image/png": "[encoded data removed]",
      "text/plain": [
       "<Figure size 432x288 with 1 Axes>"
      ]
     },
     "metadata": {
      "needs_background": "light"
     },
     "output_type": "display_data"
    }
   ],
   "source": [
    "img = (model.vae.decode(xtsne[0,:32].reshape(1,32)).reshape(64,64,3))*255.\n",
    "img = Image.fromarray(img.astype('uint8')).convert('L')\n",
    "img = np.array(img)\n",
    "plt.imshow(img, cmap = 'gray')\n",
    "plt.axis('off')\n",
    "plt.show()"
   ]
  },
  {
   "cell_type": "markdown",
   "metadata": {},
   "source": [
    "R[0][0]"
   ]
  },
  {
   "cell_type": "code",
   "execution_count": 167,
   "metadata": {},
   "outputs": [
    {
     "data": {
      "image/png": "[encoded data removed]",
      "text/plain": [
       "<Figure size 432x288 with 1 Axes>"
      ]
     },
     "metadata": {
      "needs_background": "light"
     },
     "output_type": "display_data"
    }
   ],
   "source": [
    "img_r = (model.vae.decode(R[0][300,:32].reshape(1,32)).reshape(64,64,3))*255.\n",
    "img_r = Image.fromarray(img_r.astype('uint8')).convert('L')\n",
    "img_r = np.array(img_r)\n",
    "plt.imshow(img_r)\n",
    "plt.axis('off')\n",
    "plt.show()"
   ]
  },
  {
   "cell_type": "markdown",
   "metadata": {},
   "source": [
    "R[0][50]"
   ]
  },
  {
   "cell_type": "code",
   "execution_count": 141,
   "metadata": {},
   "outputs": [
    {
     "data": {
      "image/png": "[encoded data removed]",
      "text/plain": [
       "<Figure size 432x288 with 1 Axes>"
      ]
     },
     "metadata": {
      "needs_background": "light"
     },
     "output_type": "display_data"
    }
   ],
   "source": [
    "img_r = (model.vae.decode(R[0][700,:32].reshape(1,32)).reshape(64,64,3))*255.\n",
    "img_r = Image.fromarray(img_r.astype('uint8')).convert('L')\n",
    "img_r = np.array(img_r)\n",
    "plt.imshow(img_r)\n",
    "plt.axis('off')\n",
    "plt.show()"
   ]
  },
  {
   "cell_type": "code",
   "execution_count": 137,
   "metadata": {},
   "outputs": [
    {
     "data": {
      "text/plain": [
       "(4988, 288)"
      ]
     },
     "execution_count": 137,
     "metadata": {},
     "output_type": "execute_result"
    }
   ],
   "source": [
    "R[0].shape"
   ]
  },
  {
   "cell_type": "code",
   "execution_count": null,
   "metadata": {},
   "outputs": [],
   "source": []
  },
  {
   "cell_type": "code",
   "execution_count": null,
   "metadata": {},
   "outputs": [],
   "source": []
  },
  {
   "cell_type": "code",
   "execution_count": 133,
   "metadata": {},
   "outputs": [
    {
     "data": {
      "image/png": "[encoded data removed]",
      "text/plain": [
       "<Figure size 432x288 with 1 Axes>"
      ]
     },
     "metadata": {
      "needs_background": "light"
     },
     "output_type": "display_data"
    }
   ],
   "source": [
    "b = 10*((np.abs(img_r)**3.0).mean()**(1.0/3))\n",
    "\n",
    "from matplotlib.colors import ListedColormap\n",
    "my_cmap = plt.cm.seismic(np.arange(plt.cm.seismic.N))\n",
    "my_cmap[:,0:3] *= 0.85\n",
    "my_cmap = ListedColormap(my_cmap)\n",
    "plt.imshow(img_r, cmap=my_cmap, vmin=-b, vmax=b)\n",
    "plt.axis('off')\n",
    "plt.show()"
   ]
  },
  {
   "cell_type": "code",
   "execution_count": null,
   "metadata": {},
   "outputs": [],
   "source": []
  },
  {
   "cell_type": "code",
   "execution_count": null,
   "metadata": {},
   "outputs": [],
   "source": []
  },
  {
   "cell_type": "code",
   "execution_count": null,
   "metadata": {},
   "outputs": [],
   "source": []
  },
  {
   "cell_type": "code",
   "execution_count": null,
   "metadata": {},
   "outputs": [],
   "source": []
  },
  {
   "cell_type": "code",
   "execution_count": null,
   "metadata": {},
   "outputs": [],
   "source": []
  },
  {
   "cell_type": "code",
   "execution_count": null,
   "metadata": {},
   "outputs": [],
   "source": []
  },
  {
   "cell_type": "code",
   "execution_count": null,
   "metadata": {},
   "outputs": [],
   "source": []
  },
  {
   "cell_type": "code",
   "execution_count": null,
   "metadata": {},
   "outputs": [],
   "source": []
  },
  {
   "cell_type": "code",
   "execution_count": null,
   "metadata": {},
   "outputs": [],
   "source": []
  }
 ],
 "metadata": {
  "kernelspec": {
   "display_name": "venv",
   "language": "python",
   "name": "venv"
  },
  "language_info": {
   "codemirror_mode": {
    "name": "ipython",
    "version": 3
   },
   "file_extension": ".py",
   "mimetype": "text/x-python",
   "name": "python",
   "nbconvert_exporter": "python",
   "pygments_lexer": "ipython3",
   "version": "3.6.9"
  }
 },
 "nbformat": 4,
 "nbformat_minor": 4
}
