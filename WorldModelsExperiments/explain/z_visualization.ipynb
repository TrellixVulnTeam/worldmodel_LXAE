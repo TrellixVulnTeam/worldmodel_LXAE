{
 "cells": [
  {
   "cell_type": "markdown",
   "metadata": {},
   "source": [
    "# Graphical visualization of z with LRP"
   ]
  },
  {
   "cell_type": "code",
   "execution_count": null,
   "metadata": {},
   "outputs": [],
   "source": [
    "import os\n",
    "import numpy as np\n",
    "import matplotlib.pyplot as plt\n",
    "import pandas as pd\n",
    "from PIL import Image\n",
    "import tensorflow as tf"
   ]
  },
  {
   "cell_type": "code",
   "execution_count": 4,
   "metadata": {},
   "outputs": [],
   "source": [
    "import sys\n",
    "from pathlib import Path\n",
    "import_path = str(Path(os.getcwd()).parent.parent)\n",
    "sys.path.insert(0, import_path)\n",
    "\n",
    "from WorldModelsExperiments.breakout.model import Model, make_model, _process_frame"
   ]
  },
  {
   "cell_type": "code",
   "execution_count": 3,
   "metadata": {},
   "outputs": [
    {
     "name": "stdout",
     "output_type": "stream",
     "text": [
      "INFO:tensorflow:Model using cpu.\n",
      "loading file /home/dakaun/Dropbox/MA/worldmodel/worldmodel-breakout-server-version-v3/200420/log/breakout.cma.16.32.best.json\n"
     ]
    }
   ],
   "source": [
    "path = '/home/dakaun/Dropbox/MA/worldmodel/worldmodel-breakout-server-version-v3/200420'\n",
    "rnn_path = path + '/tf_rnn/rnn.json'\n",
    "vae_path = path + '/tf_vae/vae.json'\n",
    "controller_path = path + '/log/breakout.cma.16.32.best.json'\n",
    "\n",
    "render_mode = False\n",
    "use_model = True\n",
    "\n",
    "model = make_model(rnn_path=rnn_path, vae_path=vae_path)\n",
    "model.load_model(controller_path)"
   ]
  },
  {
   "cell_type": "code",
   "execution_count": 6,
   "metadata": {},
   "outputs": [],
   "source": [
    "def simulate(model, train_mode=False, render_mode=True, num_episode=5, seed=-1, max_len=-1):\n",
    "    reward_list = []\n",
    "    t_list = []\n",
    "    max_episode_length = 3000\n",
    "    tsne_data = pd.DataFrame()    \n",
    "    action_list = []#action_list_episode = []\n",
    "    observation_list_episode = []\n",
    "    reward_target = []\n",
    "    \n",
    "    if (seed >= 0):\n",
    "        random.seed(seed)\n",
    "        np.random.seed(seed)\n",
    "        model.env.seed(seed)\n",
    "    \n",
    "\n",
    "    for episode in range(num_episode):\n",
    "        #action_list = []\n",
    "        observation_list = []\n",
    "        obs = model.env.reset()\n",
    "        if obs is None:\n",
    "            obs = deepcopy(model.env.reset())\n",
    "        #obs = _process_frame(obs)\n",
    "\n",
    "        total_reward = 0.0\n",
    "\n",
    "        for t in range(max_episode_length):\n",
    "            if render_mode:\n",
    "                model.env.render(\"human\")\n",
    "                model.env.unwrapped.viewer.window.on_key_press = key_press\n",
    "                if RENDER_DELAY:\n",
    "                    time.sleep(0.01)\n",
    "            else:\n",
    "                model.env.render('rgb_array')\n",
    "            obs = _process_frame(obs)\n",
    "            z, mu, logvar = model.encode_obs(obs)\n",
    "            _, action = model.get_action(z)\n",
    "            obs, reward, done, info = model.env.step(action)\n",
    "\n",
    "            action_list.append(int(action))\n",
    "            #observation_list.append(obs)\n",
    "            #obs = _process_frame(obs)\n",
    "            total_reward += reward\n",
    "            #reward_target.append(int(reward))\n",
    "            \n",
    "            data = np.concatenate([z, model.state.h[0]]).reshape(1,288)\n",
    "            #data = np.append(data, action).reshape(1,289)\n",
    "            tsne_data = tsne_data.append(pd.DataFrame(data), ignore_index=True)\n",
    "\n",
    "            if done:\n",
    "                if render_mode:\n",
    "                    model.env.close()\n",
    "                #action_list_episode.append(np.array(action_list))\n",
    "                #observation_list_episode.append(observation_list)\n",
    "                break\n",
    "        if render_mode:\n",
    "            print(\"reward\", total_reward, \"timesteps\", t)\n",
    "        #reward_list.append(total_reward)\n",
    "        #t_list.append(t)\n",
    "    return action_list, tsne_data#, reward_target\n"
   ]
  },
  {
   "cell_type": "code",
   "execution_count": 7,
   "metadata": {},
   "outputs": [],
   "source": [
    "actions, xtsne = simulate(model, train_mode=False, render_mode=False, num_episode=10)"
   ]
  },
  {
   "cell_type": "code",
   "execution_count": 18,
   "metadata": {},
   "outputs": [],
   "source": [
    "actions = np.array(actions)"
   ]
  },
  {
   "cell_type": "code",
   "execution_count": 10,
   "metadata": {},
   "outputs": [
    {
     "data": {
      "text/plain": [
       "(8047, 288)"
      ]
     },
     "execution_count": 10,
     "metadata": {},
     "output_type": "execute_result"
    }
   ],
   "source": [
    "xtsne = np.array(xtsne)\n",
    "xtsne.shape"
   ]
  },
  {
   "cell_type": "code",
   "execution_count": 11,
   "metadata": {},
   "outputs": [
    {
     "data": {
      "text/plain": [
       "(288, 4)"
      ]
     },
     "execution_count": 11,
     "metadata": {},
     "output_type": "execute_result"
    }
   ],
   "source": [
    "model.weight.shape"
   ]
  },
  {
   "cell_type": "code",
   "execution_count": 12,
   "metadata": {},
   "outputs": [],
   "source": [
    "L_cont = 1"
   ]
  },
  {
   "cell_type": "code",
   "execution_count": 13,
   "metadata": {},
   "outputs": [],
   "source": [
    "A_cont = [xtsne] + [None]*L_cont\n",
    "A_cont[1] = np.maximum(0,A_cont[0].dot(model.weight)+model.bias)"
   ]
  },
  {
   "cell_type": "code",
   "execution_count": 14,
   "metadata": {},
   "outputs": [
    {
     "data": {
      "text/plain": [
       "(4,)"
      ]
     },
     "execution_count": 14,
     "metadata": {},
     "output_type": "execute_result"
    }
   ],
   "source": [
    "A_cont[1][0].shape"
   ]
  },
  {
   "cell_type": "code",
   "execution_count": 19,
   "metadata": {},
   "outputs": [],
   "source": [
    "R_cont= [None]*L_cont + [A_cont[L_cont]*(actions[:,None]==np.arange(4))]"
   ]
  },
  {
   "cell_type": "code",
   "execution_count": 20,
   "metadata": {},
   "outputs": [],
   "source": [
    "w = model.weight\n",
    "wp = np.maximum(0,w)\n",
    "wm = np.minimum(0,w)\n",
    "lb = A_cont[0]*0-1\n",
    "hb = A_cont[0]*0+1\n",
    "\n",
    "z = A_cont[0].dot(w)-lb.dot(wp)-hb.dot(wm)+1e-9\n",
    "s = R_cont[1]/z\n",
    "c, cp, cm = s.dot(w.T), s.dot(wp.T), s.dot(wm.T)\n",
    "R_cont[0] = A_cont[0]*c-lb*cp-hb*cm"
   ]
  },
  {
   "cell_type": "code",
   "execution_count": 37,
   "metadata": {},
   "outputs": [
    {
     "data": {
      "image/png": "[encoded data removed]",
      "text/plain": [
       "<Figure size 1152x360 with 1 Axes>"
      ]
     },
     "metadata": {
      "needs_background": "light"
     },
     "output_type": "display_data"
    }
   ],
   "source": [
    "plt.figure(figsize=(16,5))\n",
    "plt.subplots_adjust(left=0,right=1,bottom=0,top=1)\n",
    "plt.axis('off')\n",
    "plt.imshow(R_cont[0][:1,:32])\n",
    "plt.show()"
   ]
  },
  {
   "cell_type": "code",
   "execution_count": 50,
   "metadata": {},
   "outputs": [
    {
     "data": {
      "text/plain": [
       "(1, 32)"
      ]
     },
     "execution_count": 50,
     "metadata": {},
     "output_type": "execute_result"
    }
   ],
   "source": [
    "R_cont[0][:1,:32].shape"
   ]
  },
  {
   "cell_type": "code",
   "execution_count": 42,
   "metadata": {},
   "outputs": [
    {
     "data": {
      "image/png": "[encoded data removed]",
      "text/plain": [
       "<Figure size 1152x360 with 1 Axes>"
      ]
     },
     "metadata": {
      "needs_background": "light"
     },
     "output_type": "display_data"
    }
   ],
   "source": [
    "b = 10*((np.abs(R_cont[0][:1,:32])**3.0).mean()**(1.0/3))\n",
    "\n",
    "from matplotlib.colors import ListedColormap\n",
    "my_cmap = plt.cm.seismic(np.arange(plt.cm.seismic.N))\n",
    "my_cmap[:,0:3] *= 0.85\n",
    "my_cmap = ListedColormap(my_cmap)\n",
    "plt.figure(figsize=(16,5))\n",
    "plt.imshow(R_cont[0][:1,:32], cmap=my_cmap, vmin=-b, vmax=b)\n",
    "plt.axis('off')\n",
    "plt.show()"
   ]
  },
  {
   "cell_type": "code",
   "execution_count": null,
   "metadata": {},
   "outputs": [],
   "source": []
  }
 ],
 "metadata": {
  "kernelspec": {
   "display_name": "venv",
   "language": "python",
   "name": "venv"
  },
  "language_info": {
   "codemirror_mode": {
    "name": "ipython",
    "version": 3
   },
   "file_extension": ".py",
   "mimetype": "text/x-python",
   "name": "python",
   "nbconvert_exporter": "python",
   "pygments_lexer": "ipython3",
   "version": "3.6.9"
  }
 },
 "nbformat": 4,
 "nbformat_minor": 4
}
